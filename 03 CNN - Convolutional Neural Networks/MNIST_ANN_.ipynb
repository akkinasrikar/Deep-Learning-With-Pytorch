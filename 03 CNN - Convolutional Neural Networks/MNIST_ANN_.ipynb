{
  "nbformat": 4,
  "nbformat_minor": 0,
  "metadata": {
    "colab": {
      "name": "MNIST ANN .ipynb",
      "provenance": [],
      "collapsed_sections": []
    },
    "kernelspec": {
      "name": "python3",
      "display_name": "Python 3"
    },
    "language_info": {
      "name": "python"
    },
    "accelerator": "GPU",
    "widgets": {
      "application/vnd.jupyter.widget-state+json": {
        "4aaf7e4f8e594b9ab38ad7cdc3e1f07a": {
          "model_module": "@jupyter-widgets/controls",
          "model_name": "HBoxModel",
          "state": {
            "_view_name": "HBoxView",
            "_dom_classes": [],
            "_model_name": "HBoxModel",
            "_view_module": "@jupyter-widgets/controls",
            "_model_module_version": "1.5.0",
            "_view_count": null,
            "_view_module_version": "1.5.0",
            "box_style": "",
            "layout": "IPY_MODEL_4b78e214abc249919014044dd6b380d8",
            "_model_module": "@jupyter-widgets/controls",
            "children": [
              "IPY_MODEL_c3bbc1bb69e7493fbbc273eb498ad44c",
              "IPY_MODEL_99393b68761c4e839e8466437e1044be"
            ]
          }
        },
        "4b78e214abc249919014044dd6b380d8": {
          "model_module": "@jupyter-widgets/base",
          "model_name": "LayoutModel",
          "state": {
            "_view_name": "LayoutView",
            "grid_template_rows": null,
            "right": null,
            "justify_content": null,
            "_view_module": "@jupyter-widgets/base",
            "overflow": null,
            "_model_module_version": "1.2.0",
            "_view_count": null,
            "flex_flow": null,
            "width": null,
            "min_width": null,
            "border": null,
            "align_items": null,
            "bottom": null,
            "_model_module": "@jupyter-widgets/base",
            "top": null,
            "grid_column": null,
            "overflow_y": null,
            "overflow_x": null,
            "grid_auto_flow": null,
            "grid_area": null,
            "grid_template_columns": null,
            "flex": null,
            "_model_name": "LayoutModel",
            "justify_items": null,
            "grid_row": null,
            "max_height": null,
            "align_content": null,
            "visibility": null,
            "align_self": null,
            "height": null,
            "min_height": null,
            "padding": null,
            "grid_auto_rows": null,
            "grid_gap": null,
            "max_width": null,
            "order": null,
            "_view_module_version": "1.2.0",
            "grid_template_areas": null,
            "object_position": null,
            "object_fit": null,
            "grid_auto_columns": null,
            "margin": null,
            "display": null,
            "left": null
          }
        },
        "c3bbc1bb69e7493fbbc273eb498ad44c": {
          "model_module": "@jupyter-widgets/controls",
          "model_name": "FloatProgressModel",
          "state": {
            "_view_name": "ProgressView",
            "style": "IPY_MODEL_5d4f4d22ca4c40ce827db4f8475ece21",
            "_dom_classes": [],
            "description": "",
            "_model_name": "FloatProgressModel",
            "bar_style": "success",
            "max": 9912422,
            "_view_module": "@jupyter-widgets/controls",
            "_model_module_version": "1.5.0",
            "value": 9912422,
            "_view_count": null,
            "_view_module_version": "1.5.0",
            "orientation": "horizontal",
            "min": 0,
            "description_tooltip": null,
            "_model_module": "@jupyter-widgets/controls",
            "layout": "IPY_MODEL_9f6a58743d5d417f979438c9386c0a11"
          }
        },
        "99393b68761c4e839e8466437e1044be": {
          "model_module": "@jupyter-widgets/controls",
          "model_name": "HTMLModel",
          "state": {
            "_view_name": "HTMLView",
            "style": "IPY_MODEL_837e511851f4420c9e8e5e50df5fe81e",
            "_dom_classes": [],
            "description": "",
            "_model_name": "HTMLModel",
            "placeholder": "​",
            "_view_module": "@jupyter-widgets/controls",
            "_model_module_version": "1.5.0",
            "value": " 9913344/? [00:03&lt;00:00, 2618046.14it/s]",
            "_view_count": null,
            "_view_module_version": "1.5.0",
            "description_tooltip": null,
            "_model_module": "@jupyter-widgets/controls",
            "layout": "IPY_MODEL_b594c7cf0eee4daca217e118fed8f538"
          }
        },
        "5d4f4d22ca4c40ce827db4f8475ece21": {
          "model_module": "@jupyter-widgets/controls",
          "model_name": "ProgressStyleModel",
          "state": {
            "_view_name": "StyleView",
            "_model_name": "ProgressStyleModel",
            "description_width": "initial",
            "_view_module": "@jupyter-widgets/base",
            "_model_module_version": "1.5.0",
            "_view_count": null,
            "_view_module_version": "1.2.0",
            "bar_color": null,
            "_model_module": "@jupyter-widgets/controls"
          }
        },
        "9f6a58743d5d417f979438c9386c0a11": {
          "model_module": "@jupyter-widgets/base",
          "model_name": "LayoutModel",
          "state": {
            "_view_name": "LayoutView",
            "grid_template_rows": null,
            "right": null,
            "justify_content": null,
            "_view_module": "@jupyter-widgets/base",
            "overflow": null,
            "_model_module_version": "1.2.0",
            "_view_count": null,
            "flex_flow": null,
            "width": null,
            "min_width": null,
            "border": null,
            "align_items": null,
            "bottom": null,
            "_model_module": "@jupyter-widgets/base",
            "top": null,
            "grid_column": null,
            "overflow_y": null,
            "overflow_x": null,
            "grid_auto_flow": null,
            "grid_area": null,
            "grid_template_columns": null,
            "flex": null,
            "_model_name": "LayoutModel",
            "justify_items": null,
            "grid_row": null,
            "max_height": null,
            "align_content": null,
            "visibility": null,
            "align_self": null,
            "height": null,
            "min_height": null,
            "padding": null,
            "grid_auto_rows": null,
            "grid_gap": null,
            "max_width": null,
            "order": null,
            "_view_module_version": "1.2.0",
            "grid_template_areas": null,
            "object_position": null,
            "object_fit": null,
            "grid_auto_columns": null,
            "margin": null,
            "display": null,
            "left": null
          }
        },
        "837e511851f4420c9e8e5e50df5fe81e": {
          "model_module": "@jupyter-widgets/controls",
          "model_name": "DescriptionStyleModel",
          "state": {
            "_view_name": "StyleView",
            "_model_name": "DescriptionStyleModel",
            "description_width": "",
            "_view_module": "@jupyter-widgets/base",
            "_model_module_version": "1.5.0",
            "_view_count": null,
            "_view_module_version": "1.2.0",
            "_model_module": "@jupyter-widgets/controls"
          }
        },
        "b594c7cf0eee4daca217e118fed8f538": {
          "model_module": "@jupyter-widgets/base",
          "model_name": "LayoutModel",
          "state": {
            "_view_name": "LayoutView",
            "grid_template_rows": null,
            "right": null,
            "justify_content": null,
            "_view_module": "@jupyter-widgets/base",
            "overflow": null,
            "_model_module_version": "1.2.0",
            "_view_count": null,
            "flex_flow": null,
            "width": null,
            "min_width": null,
            "border": null,
            "align_items": null,
            "bottom": null,
            "_model_module": "@jupyter-widgets/base",
            "top": null,
            "grid_column": null,
            "overflow_y": null,
            "overflow_x": null,
            "grid_auto_flow": null,
            "grid_area": null,
            "grid_template_columns": null,
            "flex": null,
            "_model_name": "LayoutModel",
            "justify_items": null,
            "grid_row": null,
            "max_height": null,
            "align_content": null,
            "visibility": null,
            "align_self": null,
            "height": null,
            "min_height": null,
            "padding": null,
            "grid_auto_rows": null,
            "grid_gap": null,
            "max_width": null,
            "order": null,
            "_view_module_version": "1.2.0",
            "grid_template_areas": null,
            "object_position": null,
            "object_fit": null,
            "grid_auto_columns": null,
            "margin": null,
            "display": null,
            "left": null
          }
        },
        "4b7c27fb36f34660aad682cf9818a466": {
          "model_module": "@jupyter-widgets/controls",
          "model_name": "HBoxModel",
          "state": {
            "_view_name": "HBoxView",
            "_dom_classes": [],
            "_model_name": "HBoxModel",
            "_view_module": "@jupyter-widgets/controls",
            "_model_module_version": "1.5.0",
            "_view_count": null,
            "_view_module_version": "1.5.0",
            "box_style": "",
            "layout": "IPY_MODEL_b70efb6199824c049935f2a273dc889f",
            "_model_module": "@jupyter-widgets/controls",
            "children": [
              "IPY_MODEL_81a0f508a88c4d8d8e42f72e94d90109",
              "IPY_MODEL_546fd9c203c94620bc9ddbdd58d1626e"
            ]
          }
        },
        "b70efb6199824c049935f2a273dc889f": {
          "model_module": "@jupyter-widgets/base",
          "model_name": "LayoutModel",
          "state": {
            "_view_name": "LayoutView",
            "grid_template_rows": null,
            "right": null,
            "justify_content": null,
            "_view_module": "@jupyter-widgets/base",
            "overflow": null,
            "_model_module_version": "1.2.0",
            "_view_count": null,
            "flex_flow": null,
            "width": null,
            "min_width": null,
            "border": null,
            "align_items": null,
            "bottom": null,
            "_model_module": "@jupyter-widgets/base",
            "top": null,
            "grid_column": null,
            "overflow_y": null,
            "overflow_x": null,
            "grid_auto_flow": null,
            "grid_area": null,
            "grid_template_columns": null,
            "flex": null,
            "_model_name": "LayoutModel",
            "justify_items": null,
            "grid_row": null,
            "max_height": null,
            "align_content": null,
            "visibility": null,
            "align_self": null,
            "height": null,
            "min_height": null,
            "padding": null,
            "grid_auto_rows": null,
            "grid_gap": null,
            "max_width": null,
            "order": null,
            "_view_module_version": "1.2.0",
            "grid_template_areas": null,
            "object_position": null,
            "object_fit": null,
            "grid_auto_columns": null,
            "margin": null,
            "display": null,
            "left": null
          }
        },
        "81a0f508a88c4d8d8e42f72e94d90109": {
          "model_module": "@jupyter-widgets/controls",
          "model_name": "FloatProgressModel",
          "state": {
            "_view_name": "ProgressView",
            "style": "IPY_MODEL_0824cdf643c246a892f000992c9fc920",
            "_dom_classes": [],
            "description": "",
            "_model_name": "FloatProgressModel",
            "bar_style": "success",
            "max": 28881,
            "_view_module": "@jupyter-widgets/controls",
            "_model_module_version": "1.5.0",
            "value": 28881,
            "_view_count": null,
            "_view_module_version": "1.5.0",
            "orientation": "horizontal",
            "min": 0,
            "description_tooltip": null,
            "_model_module": "@jupyter-widgets/controls",
            "layout": "IPY_MODEL_1a625c8e8ab34046a18d92b18b3a41d1"
          }
        },
        "546fd9c203c94620bc9ddbdd58d1626e": {
          "model_module": "@jupyter-widgets/controls",
          "model_name": "HTMLModel",
          "state": {
            "_view_name": "HTMLView",
            "style": "IPY_MODEL_c7492f33f76c41be983388e5e952d6be",
            "_dom_classes": [],
            "description": "",
            "_model_name": "HTMLModel",
            "placeholder": "​",
            "_view_module": "@jupyter-widgets/controls",
            "_model_module_version": "1.5.0",
            "value": " 29696/? [00:01&lt;00:00, 18770.27it/s]",
            "_view_count": null,
            "_view_module_version": "1.5.0",
            "description_tooltip": null,
            "_model_module": "@jupyter-widgets/controls",
            "layout": "IPY_MODEL_e6de15500e804625b287db19d7ffe962"
          }
        },
        "0824cdf643c246a892f000992c9fc920": {
          "model_module": "@jupyter-widgets/controls",
          "model_name": "ProgressStyleModel",
          "state": {
            "_view_name": "StyleView",
            "_model_name": "ProgressStyleModel",
            "description_width": "initial",
            "_view_module": "@jupyter-widgets/base",
            "_model_module_version": "1.5.0",
            "_view_count": null,
            "_view_module_version": "1.2.0",
            "bar_color": null,
            "_model_module": "@jupyter-widgets/controls"
          }
        },
        "1a625c8e8ab34046a18d92b18b3a41d1": {
          "model_module": "@jupyter-widgets/base",
          "model_name": "LayoutModel",
          "state": {
            "_view_name": "LayoutView",
            "grid_template_rows": null,
            "right": null,
            "justify_content": null,
            "_view_module": "@jupyter-widgets/base",
            "overflow": null,
            "_model_module_version": "1.2.0",
            "_view_count": null,
            "flex_flow": null,
            "width": null,
            "min_width": null,
            "border": null,
            "align_items": null,
            "bottom": null,
            "_model_module": "@jupyter-widgets/base",
            "top": null,
            "grid_column": null,
            "overflow_y": null,
            "overflow_x": null,
            "grid_auto_flow": null,
            "grid_area": null,
            "grid_template_columns": null,
            "flex": null,
            "_model_name": "LayoutModel",
            "justify_items": null,
            "grid_row": null,
            "max_height": null,
            "align_content": null,
            "visibility": null,
            "align_self": null,
            "height": null,
            "min_height": null,
            "padding": null,
            "grid_auto_rows": null,
            "grid_gap": null,
            "max_width": null,
            "order": null,
            "_view_module_version": "1.2.0",
            "grid_template_areas": null,
            "object_position": null,
            "object_fit": null,
            "grid_auto_columns": null,
            "margin": null,
            "display": null,
            "left": null
          }
        },
        "c7492f33f76c41be983388e5e952d6be": {
          "model_module": "@jupyter-widgets/controls",
          "model_name": "DescriptionStyleModel",
          "state": {
            "_view_name": "StyleView",
            "_model_name": "DescriptionStyleModel",
            "description_width": "",
            "_view_module": "@jupyter-widgets/base",
            "_model_module_version": "1.5.0",
            "_view_count": null,
            "_view_module_version": "1.2.0",
            "_model_module": "@jupyter-widgets/controls"
          }
        },
        "e6de15500e804625b287db19d7ffe962": {
          "model_module": "@jupyter-widgets/base",
          "model_name": "LayoutModel",
          "state": {
            "_view_name": "LayoutView",
            "grid_template_rows": null,
            "right": null,
            "justify_content": null,
            "_view_module": "@jupyter-widgets/base",
            "overflow": null,
            "_model_module_version": "1.2.0",
            "_view_count": null,
            "flex_flow": null,
            "width": null,
            "min_width": null,
            "border": null,
            "align_items": null,
            "bottom": null,
            "_model_module": "@jupyter-widgets/base",
            "top": null,
            "grid_column": null,
            "overflow_y": null,
            "overflow_x": null,
            "grid_auto_flow": null,
            "grid_area": null,
            "grid_template_columns": null,
            "flex": null,
            "_model_name": "LayoutModel",
            "justify_items": null,
            "grid_row": null,
            "max_height": null,
            "align_content": null,
            "visibility": null,
            "align_self": null,
            "height": null,
            "min_height": null,
            "padding": null,
            "grid_auto_rows": null,
            "grid_gap": null,
            "max_width": null,
            "order": null,
            "_view_module_version": "1.2.0",
            "grid_template_areas": null,
            "object_position": null,
            "object_fit": null,
            "grid_auto_columns": null,
            "margin": null,
            "display": null,
            "left": null
          }
        },
        "bcde444906364244b2fb321a3117846a": {
          "model_module": "@jupyter-widgets/controls",
          "model_name": "HBoxModel",
          "state": {
            "_view_name": "HBoxView",
            "_dom_classes": [],
            "_model_name": "HBoxModel",
            "_view_module": "@jupyter-widgets/controls",
            "_model_module_version": "1.5.0",
            "_view_count": null,
            "_view_module_version": "1.5.0",
            "box_style": "",
            "layout": "IPY_MODEL_2bc7774c9f014a5ca5ecf4760f8507a2",
            "_model_module": "@jupyter-widgets/controls",
            "children": [
              "IPY_MODEL_3a4295d17f864731917b8309ae50c87a",
              "IPY_MODEL_0e964df596ac4bbea7f1dd8da8f7cfcb"
            ]
          }
        },
        "2bc7774c9f014a5ca5ecf4760f8507a2": {
          "model_module": "@jupyter-widgets/base",
          "model_name": "LayoutModel",
          "state": {
            "_view_name": "LayoutView",
            "grid_template_rows": null,
            "right": null,
            "justify_content": null,
            "_view_module": "@jupyter-widgets/base",
            "overflow": null,
            "_model_module_version": "1.2.0",
            "_view_count": null,
            "flex_flow": null,
            "width": null,
            "min_width": null,
            "border": null,
            "align_items": null,
            "bottom": null,
            "_model_module": "@jupyter-widgets/base",
            "top": null,
            "grid_column": null,
            "overflow_y": null,
            "overflow_x": null,
            "grid_auto_flow": null,
            "grid_area": null,
            "grid_template_columns": null,
            "flex": null,
            "_model_name": "LayoutModel",
            "justify_items": null,
            "grid_row": null,
            "max_height": null,
            "align_content": null,
            "visibility": null,
            "align_self": null,
            "height": null,
            "min_height": null,
            "padding": null,
            "grid_auto_rows": null,
            "grid_gap": null,
            "max_width": null,
            "order": null,
            "_view_module_version": "1.2.0",
            "grid_template_areas": null,
            "object_position": null,
            "object_fit": null,
            "grid_auto_columns": null,
            "margin": null,
            "display": null,
            "left": null
          }
        },
        "3a4295d17f864731917b8309ae50c87a": {
          "model_module": "@jupyter-widgets/controls",
          "model_name": "FloatProgressModel",
          "state": {
            "_view_name": "ProgressView",
            "style": "IPY_MODEL_404330739fc24c1989cb227fdc4943d7",
            "_dom_classes": [],
            "description": "",
            "_model_name": "FloatProgressModel",
            "bar_style": "success",
            "max": 1648877,
            "_view_module": "@jupyter-widgets/controls",
            "_model_module_version": "1.5.0",
            "value": 1648877,
            "_view_count": null,
            "_view_module_version": "1.5.0",
            "orientation": "horizontal",
            "min": 0,
            "description_tooltip": null,
            "_model_module": "@jupyter-widgets/controls",
            "layout": "IPY_MODEL_cc8bd967aa704348957df7d8af9cdcaa"
          }
        },
        "0e964df596ac4bbea7f1dd8da8f7cfcb": {
          "model_module": "@jupyter-widgets/controls",
          "model_name": "HTMLModel",
          "state": {
            "_view_name": "HTMLView",
            "style": "IPY_MODEL_3c25d38a72c448179258a5b34bd10763",
            "_dom_classes": [],
            "description": "",
            "_model_name": "HTMLModel",
            "placeholder": "​",
            "_view_module": "@jupyter-widgets/controls",
            "_model_module_version": "1.5.0",
            "value": " 1649664/? [00:00&lt;00:00, 2040652.75it/s]",
            "_view_count": null,
            "_view_module_version": "1.5.0",
            "description_tooltip": null,
            "_model_module": "@jupyter-widgets/controls",
            "layout": "IPY_MODEL_41bc7264d3ab4c6398a69ed7a4e5c24d"
          }
        },
        "404330739fc24c1989cb227fdc4943d7": {
          "model_module": "@jupyter-widgets/controls",
          "model_name": "ProgressStyleModel",
          "state": {
            "_view_name": "StyleView",
            "_model_name": "ProgressStyleModel",
            "description_width": "initial",
            "_view_module": "@jupyter-widgets/base",
            "_model_module_version": "1.5.0",
            "_view_count": null,
            "_view_module_version": "1.2.0",
            "bar_color": null,
            "_model_module": "@jupyter-widgets/controls"
          }
        },
        "cc8bd967aa704348957df7d8af9cdcaa": {
          "model_module": "@jupyter-widgets/base",
          "model_name": "LayoutModel",
          "state": {
            "_view_name": "LayoutView",
            "grid_template_rows": null,
            "right": null,
            "justify_content": null,
            "_view_module": "@jupyter-widgets/base",
            "overflow": null,
            "_model_module_version": "1.2.0",
            "_view_count": null,
            "flex_flow": null,
            "width": null,
            "min_width": null,
            "border": null,
            "align_items": null,
            "bottom": null,
            "_model_module": "@jupyter-widgets/base",
            "top": null,
            "grid_column": null,
            "overflow_y": null,
            "overflow_x": null,
            "grid_auto_flow": null,
            "grid_area": null,
            "grid_template_columns": null,
            "flex": null,
            "_model_name": "LayoutModel",
            "justify_items": null,
            "grid_row": null,
            "max_height": null,
            "align_content": null,
            "visibility": null,
            "align_self": null,
            "height": null,
            "min_height": null,
            "padding": null,
            "grid_auto_rows": null,
            "grid_gap": null,
            "max_width": null,
            "order": null,
            "_view_module_version": "1.2.0",
            "grid_template_areas": null,
            "object_position": null,
            "object_fit": null,
            "grid_auto_columns": null,
            "margin": null,
            "display": null,
            "left": null
          }
        },
        "3c25d38a72c448179258a5b34bd10763": {
          "model_module": "@jupyter-widgets/controls",
          "model_name": "DescriptionStyleModel",
          "state": {
            "_view_name": "StyleView",
            "_model_name": "DescriptionStyleModel",
            "description_width": "",
            "_view_module": "@jupyter-widgets/base",
            "_model_module_version": "1.5.0",
            "_view_count": null,
            "_view_module_version": "1.2.0",
            "_model_module": "@jupyter-widgets/controls"
          }
        },
        "41bc7264d3ab4c6398a69ed7a4e5c24d": {
          "model_module": "@jupyter-widgets/base",
          "model_name": "LayoutModel",
          "state": {
            "_view_name": "LayoutView",
            "grid_template_rows": null,
            "right": null,
            "justify_content": null,
            "_view_module": "@jupyter-widgets/base",
            "overflow": null,
            "_model_module_version": "1.2.0",
            "_view_count": null,
            "flex_flow": null,
            "width": null,
            "min_width": null,
            "border": null,
            "align_items": null,
            "bottom": null,
            "_model_module": "@jupyter-widgets/base",
            "top": null,
            "grid_column": null,
            "overflow_y": null,
            "overflow_x": null,
            "grid_auto_flow": null,
            "grid_area": null,
            "grid_template_columns": null,
            "flex": null,
            "_model_name": "LayoutModel",
            "justify_items": null,
            "grid_row": null,
            "max_height": null,
            "align_content": null,
            "visibility": null,
            "align_self": null,
            "height": null,
            "min_height": null,
            "padding": null,
            "grid_auto_rows": null,
            "grid_gap": null,
            "max_width": null,
            "order": null,
            "_view_module_version": "1.2.0",
            "grid_template_areas": null,
            "object_position": null,
            "object_fit": null,
            "grid_auto_columns": null,
            "margin": null,
            "display": null,
            "left": null
          }
        },
        "28688e9e1dc74f518f0fa9a5af81922b": {
          "model_module": "@jupyter-widgets/controls",
          "model_name": "HBoxModel",
          "state": {
            "_view_name": "HBoxView",
            "_dom_classes": [],
            "_model_name": "HBoxModel",
            "_view_module": "@jupyter-widgets/controls",
            "_model_module_version": "1.5.0",
            "_view_count": null,
            "_view_module_version": "1.5.0",
            "box_style": "",
            "layout": "IPY_MODEL_1a65b48ebd8d4bd2837357f936a8d03f",
            "_model_module": "@jupyter-widgets/controls",
            "children": [
              "IPY_MODEL_3dac6929de8943f2a48024b798f77f3c",
              "IPY_MODEL_f1e7a1373147469ab77f6c4021798aa2"
            ]
          }
        },
        "1a65b48ebd8d4bd2837357f936a8d03f": {
          "model_module": "@jupyter-widgets/base",
          "model_name": "LayoutModel",
          "state": {
            "_view_name": "LayoutView",
            "grid_template_rows": null,
            "right": null,
            "justify_content": null,
            "_view_module": "@jupyter-widgets/base",
            "overflow": null,
            "_model_module_version": "1.2.0",
            "_view_count": null,
            "flex_flow": null,
            "width": null,
            "min_width": null,
            "border": null,
            "align_items": null,
            "bottom": null,
            "_model_module": "@jupyter-widgets/base",
            "top": null,
            "grid_column": null,
            "overflow_y": null,
            "overflow_x": null,
            "grid_auto_flow": null,
            "grid_area": null,
            "grid_template_columns": null,
            "flex": null,
            "_model_name": "LayoutModel",
            "justify_items": null,
            "grid_row": null,
            "max_height": null,
            "align_content": null,
            "visibility": null,
            "align_self": null,
            "height": null,
            "min_height": null,
            "padding": null,
            "grid_auto_rows": null,
            "grid_gap": null,
            "max_width": null,
            "order": null,
            "_view_module_version": "1.2.0",
            "grid_template_areas": null,
            "object_position": null,
            "object_fit": null,
            "grid_auto_columns": null,
            "margin": null,
            "display": null,
            "left": null
          }
        },
        "3dac6929de8943f2a48024b798f77f3c": {
          "model_module": "@jupyter-widgets/controls",
          "model_name": "FloatProgressModel",
          "state": {
            "_view_name": "ProgressView",
            "style": "IPY_MODEL_e2ebbe5387c143f285e9b9fc5c04fa0d",
            "_dom_classes": [],
            "description": "",
            "_model_name": "FloatProgressModel",
            "bar_style": "success",
            "max": 4542,
            "_view_module": "@jupyter-widgets/controls",
            "_model_module_version": "1.5.0",
            "value": 4542,
            "_view_count": null,
            "_view_module_version": "1.5.0",
            "orientation": "horizontal",
            "min": 0,
            "description_tooltip": null,
            "_model_module": "@jupyter-widgets/controls",
            "layout": "IPY_MODEL_863db54b5a4644faae7d9a705846f519"
          }
        },
        "f1e7a1373147469ab77f6c4021798aa2": {
          "model_module": "@jupyter-widgets/controls",
          "model_name": "HTMLModel",
          "state": {
            "_view_name": "HTMLView",
            "style": "IPY_MODEL_24b4e1bdf94d481994bce1e084dddf67",
            "_dom_classes": [],
            "description": "",
            "_model_name": "HTMLModel",
            "placeholder": "​",
            "_view_module": "@jupyter-widgets/controls",
            "_model_module_version": "1.5.0",
            "value": " 5120/? [00:00&lt;00:00, 9460.05it/s]",
            "_view_count": null,
            "_view_module_version": "1.5.0",
            "description_tooltip": null,
            "_model_module": "@jupyter-widgets/controls",
            "layout": "IPY_MODEL_1b66287b28af46b88301a5c122bc6bfc"
          }
        },
        "e2ebbe5387c143f285e9b9fc5c04fa0d": {
          "model_module": "@jupyter-widgets/controls",
          "model_name": "ProgressStyleModel",
          "state": {
            "_view_name": "StyleView",
            "_model_name": "ProgressStyleModel",
            "description_width": "initial",
            "_view_module": "@jupyter-widgets/base",
            "_model_module_version": "1.5.0",
            "_view_count": null,
            "_view_module_version": "1.2.0",
            "bar_color": null,
            "_model_module": "@jupyter-widgets/controls"
          }
        },
        "863db54b5a4644faae7d9a705846f519": {
          "model_module": "@jupyter-widgets/base",
          "model_name": "LayoutModel",
          "state": {
            "_view_name": "LayoutView",
            "grid_template_rows": null,
            "right": null,
            "justify_content": null,
            "_view_module": "@jupyter-widgets/base",
            "overflow": null,
            "_model_module_version": "1.2.0",
            "_view_count": null,
            "flex_flow": null,
            "width": null,
            "min_width": null,
            "border": null,
            "align_items": null,
            "bottom": null,
            "_model_module": "@jupyter-widgets/base",
            "top": null,
            "grid_column": null,
            "overflow_y": null,
            "overflow_x": null,
            "grid_auto_flow": null,
            "grid_area": null,
            "grid_template_columns": null,
            "flex": null,
            "_model_name": "LayoutModel",
            "justify_items": null,
            "grid_row": null,
            "max_height": null,
            "align_content": null,
            "visibility": null,
            "align_self": null,
            "height": null,
            "min_height": null,
            "padding": null,
            "grid_auto_rows": null,
            "grid_gap": null,
            "max_width": null,
            "order": null,
            "_view_module_version": "1.2.0",
            "grid_template_areas": null,
            "object_position": null,
            "object_fit": null,
            "grid_auto_columns": null,
            "margin": null,
            "display": null,
            "left": null
          }
        },
        "24b4e1bdf94d481994bce1e084dddf67": {
          "model_module": "@jupyter-widgets/controls",
          "model_name": "DescriptionStyleModel",
          "state": {
            "_view_name": "StyleView",
            "_model_name": "DescriptionStyleModel",
            "description_width": "",
            "_view_module": "@jupyter-widgets/base",
            "_model_module_version": "1.5.0",
            "_view_count": null,
            "_view_module_version": "1.2.0",
            "_model_module": "@jupyter-widgets/controls"
          }
        },
        "1b66287b28af46b88301a5c122bc6bfc": {
          "model_module": "@jupyter-widgets/base",
          "model_name": "LayoutModel",
          "state": {
            "_view_name": "LayoutView",
            "grid_template_rows": null,
            "right": null,
            "justify_content": null,
            "_view_module": "@jupyter-widgets/base",
            "overflow": null,
            "_model_module_version": "1.2.0",
            "_view_count": null,
            "flex_flow": null,
            "width": null,
            "min_width": null,
            "border": null,
            "align_items": null,
            "bottom": null,
            "_model_module": "@jupyter-widgets/base",
            "top": null,
            "grid_column": null,
            "overflow_y": null,
            "overflow_x": null,
            "grid_auto_flow": null,
            "grid_area": null,
            "grid_template_columns": null,
            "flex": null,
            "_model_name": "LayoutModel",
            "justify_items": null,
            "grid_row": null,
            "max_height": null,
            "align_content": null,
            "visibility": null,
            "align_self": null,
            "height": null,
            "min_height": null,
            "padding": null,
            "grid_auto_rows": null,
            "grid_gap": null,
            "max_width": null,
            "order": null,
            "_view_module_version": "1.2.0",
            "grid_template_areas": null,
            "object_position": null,
            "object_fit": null,
            "grid_auto_columns": null,
            "margin": null,
            "display": null,
            "left": null
          }
        }
      }
    }
  },
  "cells": [
    {
      "cell_type": "code",
      "metadata": {
        "id": "pALFDNFec-3U"
      },
      "source": [
        "import torch\n",
        "import torch.nn as nn\n",
        "import torch.nn.functional as f"
      ],
      "execution_count": 1,
      "outputs": []
    },
    {
      "cell_type": "code",
      "metadata": {
        "id": "MZ4vd7HydUz0"
      },
      "source": [
        "from torch.utils.data import DataLoader\n",
        "from torchvision import datasets,transforms"
      ],
      "execution_count": 2,
      "outputs": []
    },
    {
      "cell_type": "code",
      "metadata": {
        "id": "37n1-BRidgiF"
      },
      "source": [
        "import numpy as np\n",
        "import pandas as pd\n",
        "from sklearn.metrics import confusion_matrix\n",
        "import matplotlib.pyplot as plt\n",
        "%matplotlib inline"
      ],
      "execution_count": 3,
      "outputs": []
    },
    {
      "cell_type": "code",
      "metadata": {
        "id": "eMNOeBg6dtJZ"
      },
      "source": [
        "transform=transforms.ToTensor()"
      ],
      "execution_count": 4,
      "outputs": []
    },
    {
      "cell_type": "code",
      "metadata": {
        "colab": {
          "base_uri": "https://localhost:8080/",
          "height": 770,
          "referenced_widgets": [
            "4aaf7e4f8e594b9ab38ad7cdc3e1f07a",
            "4b78e214abc249919014044dd6b380d8",
            "c3bbc1bb69e7493fbbc273eb498ad44c",
            "99393b68761c4e839e8466437e1044be",
            "5d4f4d22ca4c40ce827db4f8475ece21",
            "9f6a58743d5d417f979438c9386c0a11",
            "837e511851f4420c9e8e5e50df5fe81e",
            "b594c7cf0eee4daca217e118fed8f538",
            "4b7c27fb36f34660aad682cf9818a466",
            "b70efb6199824c049935f2a273dc889f",
            "81a0f508a88c4d8d8e42f72e94d90109",
            "546fd9c203c94620bc9ddbdd58d1626e",
            "0824cdf643c246a892f000992c9fc920",
            "1a625c8e8ab34046a18d92b18b3a41d1",
            "c7492f33f76c41be983388e5e952d6be",
            "e6de15500e804625b287db19d7ffe962",
            "bcde444906364244b2fb321a3117846a",
            "2bc7774c9f014a5ca5ecf4760f8507a2",
            "3a4295d17f864731917b8309ae50c87a",
            "0e964df596ac4bbea7f1dd8da8f7cfcb",
            "404330739fc24c1989cb227fdc4943d7",
            "cc8bd967aa704348957df7d8af9cdcaa",
            "3c25d38a72c448179258a5b34bd10763",
            "41bc7264d3ab4c6398a69ed7a4e5c24d",
            "28688e9e1dc74f518f0fa9a5af81922b",
            "1a65b48ebd8d4bd2837357f936a8d03f",
            "3dac6929de8943f2a48024b798f77f3c",
            "f1e7a1373147469ab77f6c4021798aa2",
            "e2ebbe5387c143f285e9b9fc5c04fa0d",
            "863db54b5a4644faae7d9a705846f519",
            "24b4e1bdf94d481994bce1e084dddf67",
            "1b66287b28af46b88301a5c122bc6bfc"
          ]
        },
        "id": "GGVGlND4d-1X",
        "outputId": "7afc9d7b-cf2d-4ab6-8733-ed67cd1772bb"
      },
      "source": [
        "train_data=datasets.MNIST(root=\"../content/Data\",train=True,download=True,transform=transform)"
      ],
      "execution_count": 5,
      "outputs": [
        {
          "output_type": "stream",
          "text": [
            "Downloading http://yann.lecun.com/exdb/mnist/train-images-idx3-ubyte.gz\n",
            "Failed to download (trying next):\n",
            "HTTP Error 503: Service Unavailable\n",
            "\n",
            "Downloading https://ossci-datasets.s3.amazonaws.com/mnist/train-images-idx3-ubyte.gz\n",
            "Downloading https://ossci-datasets.s3.amazonaws.com/mnist/train-images-idx3-ubyte.gz to ../content/Data/MNIST/raw/train-images-idx3-ubyte.gz\n"
          ],
          "name": "stdout"
        },
        {
          "output_type": "display_data",
          "data": {
            "application/vnd.jupyter.widget-view+json": {
              "model_id": "4aaf7e4f8e594b9ab38ad7cdc3e1f07a",
              "version_minor": 0,
              "version_major": 2
            },
            "text/plain": [
              "HBox(children=(FloatProgress(value=0.0, max=9912422.0), HTML(value='')))"
            ]
          },
          "metadata": {
            "tags": []
          }
        },
        {
          "output_type": "stream",
          "text": [
            "\n",
            "Extracting ../content/Data/MNIST/raw/train-images-idx3-ubyte.gz to ../content/Data/MNIST/raw\n",
            "\n",
            "Downloading http://yann.lecun.com/exdb/mnist/train-labels-idx1-ubyte.gz\n",
            "Failed to download (trying next):\n",
            "HTTP Error 503: Service Unavailable\n",
            "\n",
            "Downloading https://ossci-datasets.s3.amazonaws.com/mnist/train-labels-idx1-ubyte.gz\n",
            "Downloading https://ossci-datasets.s3.amazonaws.com/mnist/train-labels-idx1-ubyte.gz to ../content/Data/MNIST/raw/train-labels-idx1-ubyte.gz\n"
          ],
          "name": "stdout"
        },
        {
          "output_type": "display_data",
          "data": {
            "application/vnd.jupyter.widget-view+json": {
              "model_id": "4b7c27fb36f34660aad682cf9818a466",
              "version_minor": 0,
              "version_major": 2
            },
            "text/plain": [
              "HBox(children=(FloatProgress(value=0.0, max=28881.0), HTML(value='')))"
            ]
          },
          "metadata": {
            "tags": []
          }
        },
        {
          "output_type": "stream",
          "text": [
            "\n",
            "Extracting ../content/Data/MNIST/raw/train-labels-idx1-ubyte.gz to ../content/Data/MNIST/raw\n",
            "\n",
            "Downloading http://yann.lecun.com/exdb/mnist/t10k-images-idx3-ubyte.gz\n",
            "Failed to download (trying next):\n",
            "HTTP Error 503: Service Unavailable\n",
            "\n",
            "Downloading https://ossci-datasets.s3.amazonaws.com/mnist/t10k-images-idx3-ubyte.gz\n",
            "Downloading https://ossci-datasets.s3.amazonaws.com/mnist/t10k-images-idx3-ubyte.gz to ../content/Data/MNIST/raw/t10k-images-idx3-ubyte.gz\n"
          ],
          "name": "stdout"
        },
        {
          "output_type": "display_data",
          "data": {
            "application/vnd.jupyter.widget-view+json": {
              "model_id": "bcde444906364244b2fb321a3117846a",
              "version_minor": 0,
              "version_major": 2
            },
            "text/plain": [
              "HBox(children=(FloatProgress(value=0.0, max=1648877.0), HTML(value='')))"
            ]
          },
          "metadata": {
            "tags": []
          }
        },
        {
          "output_type": "stream",
          "text": [
            "\n",
            "Extracting ../content/Data/MNIST/raw/t10k-images-idx3-ubyte.gz to ../content/Data/MNIST/raw\n",
            "\n",
            "Downloading http://yann.lecun.com/exdb/mnist/t10k-labels-idx1-ubyte.gz\n",
            "Downloading http://yann.lecun.com/exdb/mnist/t10k-labels-idx1-ubyte.gz to ../content/Data/MNIST/raw/t10k-labels-idx1-ubyte.gz\n"
          ],
          "name": "stdout"
        },
        {
          "output_type": "display_data",
          "data": {
            "application/vnd.jupyter.widget-view+json": {
              "model_id": "28688e9e1dc74f518f0fa9a5af81922b",
              "version_minor": 0,
              "version_major": 2
            },
            "text/plain": [
              "HBox(children=(FloatProgress(value=0.0, max=4542.0), HTML(value='')))"
            ]
          },
          "metadata": {
            "tags": []
          }
        },
        {
          "output_type": "stream",
          "text": [
            "\n",
            "Extracting ../content/Data/MNIST/raw/t10k-labels-idx1-ubyte.gz to ../content/Data/MNIST/raw\n",
            "\n",
            "Processing...\n",
            "Done!\n"
          ],
          "name": "stdout"
        },
        {
          "output_type": "stream",
          "text": [
            "/usr/local/lib/python3.7/dist-packages/torchvision/datasets/mnist.py:502: UserWarning: The given NumPy array is not writeable, and PyTorch does not support non-writeable tensors. This means you can write to the underlying (supposedly non-writeable) NumPy array using the tensor. You may want to copy the array to protect its data or make it writeable before converting it to a tensor. This type of warning will be suppressed for the rest of this program. (Triggered internally at  /pytorch/torch/csrc/utils/tensor_numpy.cpp:143.)\n",
            "  return torch.from_numpy(parsed.astype(m[2], copy=False)).view(*s)\n"
          ],
          "name": "stderr"
        }
      ]
    },
    {
      "cell_type": "code",
      "metadata": {
        "id": "UDomXKPaeVrd"
      },
      "source": [
        "test_data=datasets.MNIST(root=\"../content/Data\",train=False,download=True,transform=transform)"
      ],
      "execution_count": 6,
      "outputs": []
    },
    {
      "cell_type": "code",
      "metadata": {
        "colab": {
          "base_uri": "https://localhost:8080/"
        },
        "id": "mI_ligVxehWx",
        "outputId": "7073c4ec-d812-4208-daab-8d424e9f46e6"
      },
      "source": [
        "train_data"
      ],
      "execution_count": 44,
      "outputs": [
        {
          "output_type": "execute_result",
          "data": {
            "text/plain": [
              "Dataset MNIST\n",
              "    Number of datapoints: 60000\n",
              "    Root location: ../content/Data\n",
              "    Split: Train\n",
              "    StandardTransform\n",
              "Transform: ToTensor()"
            ]
          },
          "metadata": {
            "tags": []
          },
          "execution_count": 44
        }
      ]
    },
    {
      "cell_type": "code",
      "metadata": {
        "colab": {
          "base_uri": "https://localhost:8080/"
        },
        "id": "XL_HJ8RBf7Nh",
        "outputId": "7c2a08d2-7cd2-4d28-99b8-ec5fdd9f9820"
      },
      "source": [
        "test_data"
      ],
      "execution_count": 45,
      "outputs": [
        {
          "output_type": "execute_result",
          "data": {
            "text/plain": [
              "Dataset MNIST\n",
              "    Number of datapoints: 10000\n",
              "    Root location: ../content/Data\n",
              "    Split: Test\n",
              "    StandardTransform\n",
              "Transform: ToTensor()"
            ]
          },
          "metadata": {
            "tags": []
          },
          "execution_count": 45
        }
      ]
    },
    {
      "cell_type": "code",
      "metadata": {
        "id": "a4FH-Dyzf8gn"
      },
      "source": [
        "image,label=train_data[0]"
      ],
      "execution_count": 46,
      "outputs": []
    },
    {
      "cell_type": "code",
      "metadata": {
        "colab": {
          "base_uri": "https://localhost:8080/"
        },
        "id": "sZSiTBH-gNsN",
        "outputId": "a346fac5-cc8b-46f5-cfa7-5bb6165ec6b6"
      },
      "source": [
        "image.shape"
      ],
      "execution_count": 47,
      "outputs": [
        {
          "output_type": "execute_result",
          "data": {
            "text/plain": [
              "torch.Size([1, 28, 28])"
            ]
          },
          "metadata": {
            "tags": []
          },
          "execution_count": 47
        }
      ]
    },
    {
      "cell_type": "code",
      "metadata": {
        "colab": {
          "base_uri": "https://localhost:8080/"
        },
        "id": "KUzjJoZjgR3T",
        "outputId": "fe036dbc-58c5-4f4a-b97a-a9f44f3d4e90"
      },
      "source": [
        "label"
      ],
      "execution_count": 48,
      "outputs": [
        {
          "output_type": "execute_result",
          "data": {
            "text/plain": [
              "5"
            ]
          },
          "metadata": {
            "tags": []
          },
          "execution_count": 48
        }
      ]
    },
    {
      "cell_type": "code",
      "metadata": {
        "colab": {
          "base_uri": "https://localhost:8080/",
          "height": 282
        },
        "id": "BHF03N8bgUtM",
        "outputId": "daa8816c-36a5-4e2e-9505-6cf477d23d28"
      },
      "source": [
        "plt.imshow(image.reshape(28,28),cmap=\"gist_yarg\")"
      ],
      "execution_count": 49,
      "outputs": [
        {
          "output_type": "execute_result",
          "data": {
            "text/plain": [
              "<matplotlib.image.AxesImage at 0x7f8b8e645f10>"
            ]
          },
          "metadata": {
            "tags": []
          },
          "execution_count": 49
        },
        {
          "output_type": "display_data",
          "data": {
            "image/png": "[encoded data removed]",
            "text/plain": [
              "<Figure size 432x288 with 1 Axes>"
            ]
          },
          "metadata": {
            "tags": [],
            "needs_background": "light"
          }
        }
      ]
    },
    {
      "cell_type": "code",
      "metadata": {
        "id": "JOLcPisugYrB"
      },
      "source": [
        "train_loader=DataLoader(train_data,batch_size=5000,shuffle=True)\n",
        "test_loader=DataLoader(test_data,batch_size=1000,shuffle=False)"
      ],
      "execution_count": 70,
      "outputs": []
    },
    {
      "cell_type": "code",
      "metadata": {
        "id": "9263LOKThH-A"
      },
      "source": [
        "from torchvision.utils import make_grid\n",
        "np.set_printoptions(formatter=dict(int=lambda x: f'{x:4}'))"
      ],
      "execution_count": 71,
      "outputs": []
    },
    {
      "cell_type": "code",
      "metadata": {
        "colab": {
          "base_uri": "https://localhost:8080/",
          "height": 116
        },
        "id": "kBrGUoKXhT1h",
        "outputId": "bba4c8a1-98ce-4d97-dcd9-0dc067c200b1"
      },
      "source": [
        "for images,labels in train_loader:\n",
        "  break\n",
        "print('Labels: ', labels[:12].numpy())\n",
        "im = make_grid(images[:12], nrow=12)\n",
        "plt.figure(figsize=(10,4))\n",
        "plt.imshow(np.transpose(im.numpy(), (1, 2, 0)));"
      ],
      "execution_count": 72,
      "outputs": [
        {
          "output_type": "stream",
          "text": [
            "Labels:  [   9    9    3    8    5    8    2    1    4    8    9    9]\n"
          ],
          "name": "stdout"
        },
        {
          "output_type": "display_data",
          "data": {
            "image/png": "[encoded data removed]",
            "text/plain": [
              "<Figure size 720x288 with 1 Axes>"
            ]
          },
          "metadata": {
            "tags": [],
            "needs_background": "light"
          }
        }
      ]
    },
    {
      "cell_type": "code",
      "metadata": {
        "id": "Mqa6gGOliXjL"
      },
      "source": [
        "class MultilayerPerceptron(nn.Module):\n",
        "\n",
        "  def __init__(self,in_size=784,out_size=10,layers=[128,84]):\n",
        "    super().__init__()\n",
        "    self.fc1=nn.Linear(in_size,layers[0])\n",
        "    self.fc2=nn.Linear(layers[0],layers[1])\n",
        "    self.fc3=nn.Linear(layers[1],out_size)\n",
        "  \n",
        "  def forward(self,x):\n",
        "    x=f.relu(self.fc1(x))\n",
        "    x=f.relu(self.fc2(x)) \n",
        "    x=self.fc3(x)\n",
        "    return f.log_softmax(x,dim=1)   "
      ],
      "execution_count": 73,
      "outputs": []
    },
    {
      "cell_type": "code",
      "metadata": {
        "id": "Vw8LK6xkjR32"
      },
      "source": [
        "model=MultilayerPerceptron()"
      ],
      "execution_count": 106,
      "outputs": []
    },
    {
      "cell_type": "code",
      "metadata": {
        "colab": {
          "base_uri": "https://localhost:8080/"
        },
        "id": "bozXiUYBjTPi",
        "outputId": "3d2bf8da-944a-4a84-d385-d1f88265abd2"
      },
      "source": [
        "model"
      ],
      "execution_count": 107,
      "outputs": [
        {
          "output_type": "execute_result",
          "data": {
            "text/plain": [
              "MultilayerPerceptron(\n",
              "  (fc1): Linear(in_features=784, out_features=128, bias=True)\n",
              "  (fc2): Linear(in_features=128, out_features=84, bias=True)\n",
              "  (fc3): Linear(in_features=84, out_features=10, bias=True)\n",
              ")"
            ]
          },
          "metadata": {
            "tags": []
          },
          "execution_count": 107
        }
      ]
    },
    {
      "cell_type": "code",
      "metadata": {
        "id": "mcAYoIwCkP_M"
      },
      "source": [
        "def count_parameters(model):\n",
        "  params=[p.numel() for p in model.parameters() if p.requires_grad]\n",
        "  for item in params:\n",
        "    print(f\"{item:>6}\")\n",
        "  print(f'______\\n{sum(params):>6}')"
      ],
      "execution_count": 108,
      "outputs": []
    },
    {
      "cell_type": "code",
      "metadata": {
        "colab": {
          "base_uri": "https://localhost:8080/"
        },
        "id": "WVCozq-Sk3SV",
        "outputId": "25727e8e-ff4e-4f8b-99a3-a421d9fb53d8"
      },
      "source": [
        "count_parameters(model)"
      ],
      "execution_count": 109,
      "outputs": [
        {
          "output_type": "stream",
          "text": [
            "100352\n",
            "   128\n",
            " 10752\n",
            "    84\n",
            "   840\n",
            "    10\n",
            "______\n",
            "112166\n"
          ],
          "name": "stdout"
        }
      ]
    },
    {
      "cell_type": "code",
      "metadata": {
        "id": "Op4C4L7Ok4Zi"
      },
      "source": [
        "criterion = nn.CrossEntropyLoss()\n",
        "optimizer = torch.optim.Adam(model.parameters(), lr=0.001)"
      ],
      "execution_count": 110,
      "outputs": []
    },
    {
      "cell_type": "code",
      "metadata": {
        "colab": {
          "base_uri": "https://localhost:8080/"
        },
        "id": "3sZi-_GOk9Ti",
        "outputId": "0eb8c65e-2447-4e4d-8fce-7edb8947e6dc"
      },
      "source": [
        "for images, labels in train_loader:\n",
        "    print('Batch shape:', images.size())\n",
        "    break"
      ],
      "execution_count": 111,
      "outputs": [
        {
          "output_type": "stream",
          "text": [
            "Batch shape: torch.Size([5000, 1, 28, 28])\n"
          ],
          "name": "stdout"
        }
      ]
    },
    {
      "cell_type": "code",
      "metadata": {
        "colab": {
          "base_uri": "https://localhost:8080/"
        },
        "id": "sw9Y4dqdlUq5",
        "outputId": "569ae2e8-3ef7-40c3-e54a-7d01eaefa3c8"
      },
      "source": [
        "images.view(100,-1).size()"
      ],
      "execution_count": 112,
      "outputs": [
        {
          "output_type": "execute_result",
          "data": {
            "text/plain": [
              "torch.Size([100, 39200])"
            ]
          },
          "metadata": {
            "tags": []
          },
          "execution_count": 112
        }
      ]
    },
    {
      "cell_type": "code",
      "metadata": {
        "colab": {
          "base_uri": "https://localhost:8080/"
        },
        "id": "cPJq82UYlbYK",
        "outputId": "2635c6ca-ed7d-487e-be9e-475e98782402"
      },
      "source": [
        "import time\n",
        "start_time = time.time()\n",
        "\n",
        "epochs = 10\n",
        "train_losses = []\n",
        "test_losses = []\n",
        "train_correct = []\n",
        "test_correct = []\n",
        "\n",
        "for i in range(epochs):\n",
        "  trn_correct=0\n",
        "  tst_correct=0\n",
        "  for b,(x_train,y_train) in enumerate(train_loader):\n",
        "    b+=1\n",
        "    y_pred=model(x_train.view(5000,-1))\n",
        "    loss=criterion(y_pred,y_train)\n",
        "    predicted=torch.max(y_pred.data,1)[1]\n",
        "    batch_correct=(predicted==y_train).sum()\n",
        "    trn_correct+=batch_correct\n",
        "    optimizer.zero_grad()\n",
        "    loss.backward()\n",
        "    optimizer.step()\n",
        "    print(f'epoch: {i:2}  batch: {b:4} [{5000*b:6}/60000]  loss: {loss.item():10.8f}  accuracy: {trn_correct.item()*100/(5000*b):7.3f}%')\n",
        "    train_losses.append(loss)\n",
        "    train_correct.append(trn_correct)\n",
        "    with torch.no_grad():\n",
        "        for b, (x_test, y_test) in enumerate(test_loader):\n",
        "          y_val = model(x_test.view(1000, -1))\n",
        "          predicted = torch.max(y_val.data, 1)[1] \n",
        "          tst_correct += (predicted == y_test).sum()\n",
        "    loss = criterion(y_val, y_test)\n",
        "    test_losses.append(loss)\n",
        "    test_correct.append(tst_correct)\n",
        "    \n",
        "print(f'\\nDuration: {time.time() - start_time:.0f} seconds')\n"
      ],
      "execution_count": 113,
      "outputs": [
        {
          "output_type": "stream",
          "text": [
            "epoch:  0  batch:    1 [  5000/60000]  loss: 2.30505419  accuracy:   7.460%\n",
            "epoch:  0  batch:    2 [ 10000/60000]  loss: 2.27774072  accuracy:   9.340%\n",
            "epoch:  0  batch:    3 [ 15000/60000]  loss: 2.25352001  accuracy:  13.053%\n",
            "epoch:  0  batch:    4 [ 20000/60000]  loss: 2.22347736  accuracy:  17.895%\n",
            "epoch:  0  batch:    5 [ 25000/60000]  loss: 2.19297695  accuracy:  22.428%\n",
            "epoch:  0  batch:    6 [ 30000/60000]  loss: 2.15663457  accuracy:  26.683%\n",
            "epoch:  0  batch:    7 [ 35000/60000]  loss: 2.11425948  accuracy:  30.209%\n",
            "epoch:  0  batch:    8 [ 40000/60000]  loss: 2.06702733  accuracy:  33.148%\n",
            "epoch:  0  batch:    9 [ 45000/60000]  loss: 2.01482058  accuracy:  35.600%\n",
            "epoch:  0  batch:   10 [ 50000/60000]  loss: 1.95669389  accuracy:  37.702%\n",
            "epoch:  0  batch:   11 [ 55000/60000]  loss: 1.89209020  accuracy:  39.638%\n",
            "epoch:  0  batch:   12 [ 60000/60000]  loss: 1.83178627  accuracy:  41.415%\n",
            "epoch:  1  batch:    1 [  5000/60000]  loss: 1.76934803  accuracy:  62.120%\n",
            "epoch:  1  batch:    2 [ 10000/60000]  loss: 1.70218146  accuracy:  62.940%\n",
            "epoch:  1  batch:    3 [ 15000/60000]  loss: 1.63380206  accuracy:  63.820%\n",
            "epoch:  1  batch:    4 [ 20000/60000]  loss: 1.56414199  accuracy:  64.510%\n",
            "epoch:  1  batch:    5 [ 25000/60000]  loss: 1.48999000  accuracy:  65.428%\n",
            "epoch:  1  batch:    6 [ 30000/60000]  loss: 1.41842115  accuracy:  66.413%\n",
            "epoch:  1  batch:    7 [ 35000/60000]  loss: 1.34189761  accuracy:  67.440%\n",
            "epoch:  1  batch:    8 [ 40000/60000]  loss: 1.26697779  accuracy:  68.385%\n",
            "epoch:  1  batch:    9 [ 45000/60000]  loss: 1.20215678  accuracy:  69.193%\n",
            "epoch:  1  batch:   10 [ 50000/60000]  loss: 1.13923013  accuracy:  70.004%\n",
            "epoch:  1  batch:   11 [ 55000/60000]  loss: 1.08624446  accuracy:  70.642%\n",
            "epoch:  1  batch:   12 [ 60000/60000]  loss: 1.00602233  accuracy:  71.318%\n",
            "epoch:  2  batch:    1 [  5000/60000]  loss: 0.95641494  accuracy:  78.960%\n",
            "epoch:  2  batch:    2 [ 10000/60000]  loss: 0.89622521  accuracy:  79.940%\n",
            "epoch:  2  batch:    3 [ 15000/60000]  loss: 0.85752970  accuracy:  80.093%\n",
            "epoch:  2  batch:    4 [ 20000/60000]  loss: 0.83273476  accuracy:  79.910%\n",
            "epoch:  2  batch:    5 [ 25000/60000]  loss: 0.77691144  accuracy:  80.128%\n",
            "epoch:  2  batch:    6 [ 30000/60000]  loss: 0.74428672  accuracy:  80.263%\n",
            "epoch:  2  batch:    7 [ 35000/60000]  loss: 0.71283633  accuracy:  80.366%\n",
            "epoch:  2  batch:    8 [ 40000/60000]  loss: 0.69683069  accuracy:  80.460%\n",
            "epoch:  2  batch:    9 [ 45000/60000]  loss: 0.64142227  accuracy:  80.718%\n",
            "epoch:  2  batch:   10 [ 50000/60000]  loss: 0.62198001  accuracy:  80.958%\n",
            "epoch:  2  batch:   11 [ 55000/60000]  loss: 0.61157930  accuracy:  81.149%\n",
            "epoch:  2  batch:   12 [ 60000/60000]  loss: 0.58927274  accuracy:  81.298%\n",
            "epoch:  3  batch:    1 [  5000/60000]  loss: 0.53964877  accuracy:  85.340%\n",
            "epoch:  3  batch:    2 [ 10000/60000]  loss: 0.56687188  accuracy:  84.720%\n",
            "epoch:  3  batch:    3 [ 15000/60000]  loss: 0.52504021  accuracy:  84.760%\n",
            "epoch:  3  batch:    4 [ 20000/60000]  loss: 0.51596338  accuracy:  84.815%\n",
            "epoch:  3  batch:    5 [ 25000/60000]  loss: 0.51755261  accuracy:  84.912%\n",
            "epoch:  3  batch:    6 [ 30000/60000]  loss: 0.49158335  accuracy:  85.140%\n",
            "epoch:  3  batch:    7 [ 35000/60000]  loss: 0.50994051  accuracy:  85.214%\n",
            "epoch:  3  batch:    8 [ 40000/60000]  loss: 0.46462676  accuracy:  85.343%\n",
            "epoch:  3  batch:    9 [ 45000/60000]  loss: 0.48046929  accuracy:  85.384%\n",
            "epoch:  3  batch:   10 [ 50000/60000]  loss: 0.44758549  accuracy:  85.570%\n",
            "epoch:  3  batch:   11 [ 55000/60000]  loss: 0.46347216  accuracy:  85.671%\n",
            "epoch:  3  batch:   12 [ 60000/60000]  loss: 0.45492506  accuracy:  85.790%\n",
            "epoch:  4  batch:    1 [  5000/60000]  loss: 0.41964659  accuracy:  87.820%\n",
            "epoch:  4  batch:    2 [ 10000/60000]  loss: 0.41624874  accuracy:  87.980%\n",
            "epoch:  4  batch:    3 [ 15000/60000]  loss: 0.40244940  accuracy:  88.400%\n",
            "epoch:  4  batch:    4 [ 20000/60000]  loss: 0.42841256  accuracy:  88.230%\n",
            "epoch:  4  batch:    5 [ 25000/60000]  loss: 0.40313450  accuracy:  88.308%\n",
            "epoch:  4  batch:    6 [ 30000/60000]  loss: 0.41233104  accuracy:  88.293%\n",
            "epoch:  4  batch:    7 [ 35000/60000]  loss: 0.37785292  accuracy:  88.437%\n",
            "epoch:  4  batch:    8 [ 40000/60000]  loss: 0.41016430  accuracy:  88.380%\n",
            "epoch:  4  batch:    9 [ 45000/60000]  loss: 0.37318590  accuracy:  88.551%\n",
            "epoch:  4  batch:   10 [ 50000/60000]  loss: 0.37308767  accuracy:  88.674%\n",
            "epoch:  4  batch:   11 [ 55000/60000]  loss: 0.37163043  accuracy:  88.767%\n",
            "epoch:  4  batch:   12 [ 60000/60000]  loss: 0.35243437  accuracy:  88.840%\n",
            "epoch:  5  batch:    1 [  5000/60000]  loss: 0.35869044  accuracy:  89.640%\n",
            "epoch:  5  batch:    2 [ 10000/60000]  loss: 0.33474708  accuracy:  89.930%\n",
            "epoch:  5  batch:    3 [ 15000/60000]  loss: 0.36142090  accuracy:  89.807%\n",
            "epoch:  5  batch:    4 [ 20000/60000]  loss: 0.36052892  accuracy:  89.825%\n",
            "epoch:  5  batch:    5 [ 25000/60000]  loss: 0.36199152  accuracy:  89.760%\n",
            "epoch:  5  batch:    6 [ 30000/60000]  loss: 0.34934315  accuracy:  89.827%\n",
            "epoch:  5  batch:    7 [ 35000/60000]  loss: 0.34390131  accuracy:  89.894%\n",
            "epoch:  5  batch:    8 [ 40000/60000]  loss: 0.32841277  accuracy:  89.955%\n",
            "epoch:  5  batch:    9 [ 45000/60000]  loss: 0.33019158  accuracy:  90.009%\n",
            "epoch:  5  batch:   10 [ 50000/60000]  loss: 0.31878158  accuracy:  90.110%\n",
            "epoch:  5  batch:   11 [ 55000/60000]  loss: 0.32253021  accuracy:  90.158%\n",
            "epoch:  5  batch:   12 [ 60000/60000]  loss: 0.33299899  accuracy:  90.225%\n",
            "epoch:  6  batch:    1 [  5000/60000]  loss: 0.33216879  accuracy:  90.480%\n",
            "epoch:  6  batch:    2 [ 10000/60000]  loss: 0.31066191  accuracy:  90.650%\n",
            "epoch:  6  batch:    3 [ 15000/60000]  loss: 0.31490451  accuracy:  90.767%\n",
            "epoch:  6  batch:    4 [ 20000/60000]  loss: 0.30274582  accuracy:  90.875%\n",
            "epoch:  6  batch:    5 [ 25000/60000]  loss: 0.30640709  accuracy:  90.908%\n",
            "epoch:  6  batch:    6 [ 30000/60000]  loss: 0.29113600  accuracy:  91.090%\n",
            "epoch:  6  batch:    7 [ 35000/60000]  loss: 0.29746315  accuracy:  91.151%\n",
            "epoch:  6  batch:    8 [ 40000/60000]  loss: 0.29277429  accuracy:  91.192%\n",
            "epoch:  6  batch:    9 [ 45000/60000]  loss: 0.30980250  accuracy:  91.144%\n",
            "epoch:  6  batch:   10 [ 50000/60000]  loss: 0.31751400  accuracy:  91.144%\n",
            "epoch:  6  batch:   11 [ 55000/60000]  loss: 0.31693107  accuracy:  91.142%\n",
            "epoch:  6  batch:   12 [ 60000/60000]  loss: 0.31753293  accuracy:  91.152%\n",
            "epoch:  7  batch:    1 [  5000/60000]  loss: 0.29220733  accuracy:  91.780%\n",
            "epoch:  7  batch:    2 [ 10000/60000]  loss: 0.29124323  accuracy:  91.750%\n",
            "epoch:  7  batch:    3 [ 15000/60000]  loss: 0.29651129  accuracy:  91.627%\n",
            "epoch:  7  batch:    4 [ 20000/60000]  loss: 0.27440667  accuracy:  91.765%\n",
            "epoch:  7  batch:    5 [ 25000/60000]  loss: 0.30434814  accuracy:  91.656%\n",
            "epoch:  7  batch:    6 [ 30000/60000]  loss: 0.28578722  accuracy:  91.703%\n",
            "epoch:  7  batch:    7 [ 35000/60000]  loss: 0.26984987  accuracy:  91.763%\n",
            "epoch:  7  batch:    8 [ 40000/60000]  loss: 0.28585789  accuracy:  91.745%\n",
            "epoch:  7  batch:    9 [ 45000/60000]  loss: 0.29045495  accuracy:  91.784%\n",
            "epoch:  7  batch:   10 [ 50000/60000]  loss: 0.29718933  accuracy:  91.766%\n",
            "epoch:  7  batch:   11 [ 55000/60000]  loss: 0.25829315  accuracy:  91.844%\n",
            "epoch:  7  batch:   12 [ 60000/60000]  loss: 0.29319501  accuracy:  91.862%\n",
            "epoch:  8  batch:    1 [  5000/60000]  loss: 0.26511055  accuracy:  92.440%\n",
            "epoch:  8  batch:    2 [ 10000/60000]  loss: 0.26334637  accuracy:  92.360%\n",
            "epoch:  8  batch:    3 [ 15000/60000]  loss: 0.27698886  accuracy:  92.273%\n",
            "epoch:  8  batch:    4 [ 20000/60000]  loss: 0.29122180  accuracy:  92.090%\n",
            "epoch:  8  batch:    5 [ 25000/60000]  loss: 0.28243837  accuracy:  92.068%\n",
            "epoch:  8  batch:    6 [ 30000/60000]  loss: 0.25982180  accuracy:  92.163%\n",
            "epoch:  8  batch:    7 [ 35000/60000]  loss: 0.27028328  accuracy:  92.277%\n",
            "epoch:  8  batch:    8 [ 40000/60000]  loss: 0.27948606  accuracy:  92.295%\n",
            "epoch:  8  batch:    9 [ 45000/60000]  loss: 0.26037914  accuracy:  92.293%\n",
            "epoch:  8  batch:   10 [ 50000/60000]  loss: 0.24149236  accuracy:  92.352%\n",
            "epoch:  8  batch:   11 [ 55000/60000]  loss: 0.27305299  accuracy:  92.340%\n",
            "epoch:  8  batch:   12 [ 60000/60000]  loss: 0.26233724  accuracy:  92.352%\n",
            "epoch:  9  batch:    1 [  5000/60000]  loss: 0.25928205  accuracy:  92.480%\n",
            "epoch:  9  batch:    2 [ 10000/60000]  loss: 0.26527947  accuracy:  92.560%\n",
            "epoch:  9  batch:    3 [ 15000/60000]  loss: 0.26248178  accuracy:  92.613%\n",
            "epoch:  9  batch:    4 [ 20000/60000]  loss: 0.26191866  accuracy:  92.600%\n",
            "epoch:  9  batch:    5 [ 25000/60000]  loss: 0.25067079  accuracy:  92.664%\n",
            "epoch:  9  batch:    6 [ 30000/60000]  loss: 0.25376838  accuracy:  92.590%\n",
            "epoch:  9  batch:    7 [ 35000/60000]  loss: 0.25826883  accuracy:  92.600%\n",
            "epoch:  9  batch:    8 [ 40000/60000]  loss: 0.25974098  accuracy:  92.555%\n",
            "epoch:  9  batch:    9 [ 45000/60000]  loss: 0.25963596  accuracy:  92.591%\n",
            "epoch:  9  batch:   10 [ 50000/60000]  loss: 0.23661639  accuracy:  92.702%\n",
            "epoch:  9  batch:   11 [ 55000/60000]  loss: 0.23536679  accuracy:  92.762%\n",
            "epoch:  9  batch:   12 [ 60000/60000]  loss: 0.23741457  accuracy:  92.808%\n",
            "\n",
            "Duration: 105 seconds\n"
          ],
          "name": "stdout"
        }
      ]
    },
    {
      "cell_type": "code",
      "metadata": {
        "colab": {
          "base_uri": "https://localhost:8080/",
          "height": 280
        },
        "id": "0oIydqWvlcJs",
        "outputId": "aa9ee2bb-b8a5-4030-a2a1-69cd653260a5"
      },
      "source": [
        "plt.plot(train_losses, label='training loss')\n",
        "plt.plot(test_losses, label='validation loss')\n",
        "plt.title('Loss at the end of each epoch')\n",
        "plt.legend()"
      ],
      "execution_count": 114,
      "outputs": [
        {
          "output_type": "display_data",
          "data": {
            "image/png": "[encoded data removed]",
            "text/plain": [
              "<Figure size 432x288 with 1 Axes>"
            ]
          },
          "metadata": {
            "tags": [],
            "needs_background": "light"
          }
        }
      ]
    },
    {
      "cell_type": "code",
      "metadata": {
        "id": "Qc3LEJ0YuAdB"
      },
      "source": [
        "test_load_all = DataLoader(test_data, batch_size=10000, shuffle=False)"
      ],
      "execution_count": 126,
      "outputs": []
    },
    {
      "cell_type": "code",
      "metadata": {
        "colab": {
          "base_uri": "https://localhost:8080/"
        },
        "id": "VFBAfTt_uGCG",
        "outputId": "69eec6f5-0aaa-4a7e-a072-d2a636ec8df6"
      },
      "source": [
        "with torch.no_grad():\n",
        "    correct = 0\n",
        "    for X_test, y_test in test_load_all:\n",
        "        y_val = model(X_test.view(len(X_test), -1)) \n",
        "        predicted = torch.max(y_val,1)[1]\n",
        "        correct += (predicted == y_test).sum()\n",
        "print(f'Test accuracy: {correct.item()}/{len(test_data)} = {correct.item()*100/(len(test_data)):7.3f}%')"
      ],
      "execution_count": 127,
      "outputs": [
        {
          "output_type": "stream",
          "text": [
            "Test accuracy: 9319/10000 =  93.190%\n"
          ],
          "name": "stdout"
        }
      ]
    },
    {
      "cell_type": "code",
      "metadata": {
        "colab": {
          "base_uri": "https://localhost:8080/"
        },
        "id": "tuhWqhp0vY9l",
        "outputId": "93835486-eeff-454d-ecca-a14cbee4076e"
      },
      "source": [
        "np.set_printoptions(formatter=dict(int=lambda x: f'{x:4}'))\n",
        "print(np.arange(10).reshape(1,10))\n",
        "print()\n",
        "print(confusion_matrix(predicted.view(-1), y_test.view(-1)))"
      ],
      "execution_count": 128,
      "outputs": [
        {
          "output_type": "stream",
          "text": [
            "[[   0    1    2    3    4    5    6    7    8    9]]\n",
            "\n",
            "[[ 963    0   10    2    1    8   12    2    7   12]\n",
            " [   0 1114    2    1    1    3    3    9    3    7]\n",
            " [   0    2  939   17    6    4    5   24    6    1]\n",
            " [   1    2   21  936    1   29    0    6   21   13]\n",
            " [   0    1    8    1  929   12    9    6   10   39]\n",
            " [   3    1    0   14    0  781    9    0   17    4]\n",
            " [   6    4   10    0   10   12  914    0   10    0]\n",
            " [   2    1   11   13    3    6    2  956   12   26]\n",
            " [   5   10   28   20    6   30    4    2  884    4]\n",
            " [   0    0    3    6   25    7    0   23    4  903]]\n"
          ],
          "name": "stdout"
        }
      ]
    },
    {
      "cell_type": "code",
      "metadata": {
        "colab": {
          "base_uri": "https://localhost:8080/"
        },
        "id": "5VFesrq-vjhP",
        "outputId": "126fd19a-e9a6-492e-bf76-669b588adf70"
      },
      "source": [
        "misses = np.array([])\n",
        "for i in range(len(predicted.view(-1))):\n",
        "    if predicted[i] != y_test[i]:\n",
        "        misses = np.append(misses,i).astype('int64')\n",
        "len(misses)"
      ],
      "execution_count": 129,
      "outputs": [
        {
          "output_type": "execute_result",
          "data": {
            "text/plain": [
              "681"
            ]
          },
          "metadata": {
            "tags": []
          },
          "execution_count": 129
        }
      ]
    },
    {
      "cell_type": "code",
      "metadata": {
        "id": "lmmGLlrwvsu8"
      },
      "source": [
        "r = 12  \n",
        "row = iter(np.array_split(misses,len(misses)//r+1))"
      ],
      "execution_count": 130,
      "outputs": []
    },
    {
      "cell_type": "code",
      "metadata": {
        "colab": {
          "base_uri": "https://localhost:8080/",
          "height": 166
        },
        "id": "I2Nd2gcGvwiv",
        "outputId": "f828c504-c22c-44b4-a88c-a09ef58f780c"
      },
      "source": [
        "nextrow = next(row)\n",
        "print(\"Index:\", nextrow)\n",
        "print(\"Label:\", y_test.index_select(0,torch.tensor(nextrow)).numpy())\n",
        "print(\"Guess:\", predicted.index_select(0,torch.tensor(nextrow)).numpy())\n",
        "\n",
        "images = X_test.index_select(0,torch.tensor(nextrow))\n",
        "im = make_grid(images, nrow=r)\n",
        "plt.figure(figsize=(10,4))\n",
        "plt.imshow(np.transpose(im.numpy(), (1, 2, 0)))"
      ],
      "execution_count": 131,
      "outputs": [
        {
          "output_type": "stream",
          "text": [
            "Index: [   8   33   66   92  149  151  193  195  217  233  241  247]\n",
            "Label: [   5    4    6    9    2    9    9    3    6    8    9    4]\n",
            "Guess: [   6    6    2    4    9    8    3    8    5    7    8    2]\n"
          ],
          "name": "stdout"
        },
        {
          "output_type": "execute_result",
          "data": {
            "text/plain": [
              "<matplotlib.image.AxesImage at 0x7f8b8dc5f710>"
            ]
          },
          "metadata": {
            "tags": []
          },
          "execution_count": 131
        },
        {
          "output_type": "display_data",
          "data": {
            "image/png": "[encoded data removed]",
            "text/plain": [
              "<Figure size 720x288 with 1 Axes>"
            ]
          },
          "metadata": {
            "tags": [],
            "needs_background": "light"
          }
        }
      ]
    },
    {
      "cell_type": "code",
      "metadata": {
        "id": "DV3DC6eMvzRt"
      },
      "source": [
        ""
      ],
      "execution_count": null,
      "outputs": []
    }
  ]
}