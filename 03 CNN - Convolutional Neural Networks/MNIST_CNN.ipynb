{
  "nbformat": 4,
  "nbformat_minor": 0,
  "metadata": {
    "colab": {
      "name": "MNIST CNN.ipynb",
      "provenance": [],
      "collapsed_sections": []
    },
    "kernelspec": {
      "name": "python3",
      "display_name": "Python 3"
    },
    "language_info": {
      "name": "python"
    },
    "accelerator": "GPU",
    "widgets": {
      "application/vnd.jupyter.widget-state+json": {
        "f27bb065ecc842c5ad2a321560b208aa": {
          "model_module": "@jupyter-widgets/controls",
          "model_name": "HBoxModel",
          "state": {
            "_view_name": "HBoxView",
            "_dom_classes": [],
            "_model_name": "HBoxModel",
            "_view_module": "@jupyter-widgets/controls",
            "_model_module_version": "1.5.0",
            "_view_count": null,
            "_view_module_version": "1.5.0",
            "box_style": "",
            "layout": "IPY_MODEL_b5ce060fd6d44883805936264e52c96f",
            "_model_module": "@jupyter-widgets/controls",
            "children": [
              "IPY_MODEL_ee2a7c6dd1c146f3b9661bea611b9038",
              "IPY_MODEL_787726b7929c44068ec86ba799c6fa69"
            ]
          }
        },
        "b5ce060fd6d44883805936264e52c96f": {
          "model_module": "@jupyter-widgets/base",
          "model_name": "LayoutModel",
          "state": {
            "_view_name": "LayoutView",
            "grid_template_rows": null,
            "right": null,
            "justify_content": null,
            "_view_module": "@jupyter-widgets/base",
            "overflow": null,
            "_model_module_version": "1.2.0",
            "_view_count": null,
            "flex_flow": null,
            "width": null,
            "min_width": null,
            "border": null,
            "align_items": null,
            "bottom": null,
            "_model_module": "@jupyter-widgets/base",
            "top": null,
            "grid_column": null,
            "overflow_y": null,
            "overflow_x": null,
            "grid_auto_flow": null,
            "grid_area": null,
            "grid_template_columns": null,
            "flex": null,
            "_model_name": "LayoutModel",
            "justify_items": null,
            "grid_row": null,
            "max_height": null,
            "align_content": null,
            "visibility": null,
            "align_self": null,
            "height": null,
            "min_height": null,
            "padding": null,
            "grid_auto_rows": null,
            "grid_gap": null,
            "max_width": null,
            "order": null,
            "_view_module_version": "1.2.0",
            "grid_template_areas": null,
            "object_position": null,
            "object_fit": null,
            "grid_auto_columns": null,
            "margin": null,
            "display": null,
            "left": null
          }
        },
        "ee2a7c6dd1c146f3b9661bea611b9038": {
          "model_module": "@jupyter-widgets/controls",
          "model_name": "FloatProgressModel",
          "state": {
            "_view_name": "ProgressView",
            "style": "IPY_MODEL_f7a765536c274f4dad43ed150fbc3c04",
            "_dom_classes": [],
            "description": "",
            "_model_name": "FloatProgressModel",
            "bar_style": "success",
            "max": 9912422,
            "_view_module": "@jupyter-widgets/controls",
            "_model_module_version": "1.5.0",
            "value": 9912422,
            "_view_count": null,
            "_view_module_version": "1.5.0",
            "orientation": "horizontal",
            "min": 0,
            "description_tooltip": null,
            "_model_module": "@jupyter-widgets/controls",
            "layout": "IPY_MODEL_1dedb44afc64401c8341be39724a6d16"
          }
        },
        "787726b7929c44068ec86ba799c6fa69": {
          "model_module": "@jupyter-widgets/controls",
          "model_name": "HTMLModel",
          "state": {
            "_view_name": "HTMLView",
            "style": "IPY_MODEL_246409122631451a8eca8e6ebfa91f42",
            "_dom_classes": [],
            "description": "",
            "_model_name": "HTMLModel",
            "placeholder": "​",
            "_view_module": "@jupyter-widgets/controls",
            "_model_module_version": "1.5.0",
            "value": " 9913344/? [00:01&lt;00:00, 5167664.76it/s]",
            "_view_count": null,
            "_view_module_version": "1.5.0",
            "description_tooltip": null,
            "_model_module": "@jupyter-widgets/controls",
            "layout": "IPY_MODEL_c2d1c7c6268640ae8b3226d1fdb61db9"
          }
        },
        "f7a765536c274f4dad43ed150fbc3c04": {
          "model_module": "@jupyter-widgets/controls",
          "model_name": "ProgressStyleModel",
          "state": {
            "_view_name": "StyleView",
            "_model_name": "ProgressStyleModel",
            "description_width": "initial",
            "_view_module": "@jupyter-widgets/base",
            "_model_module_version": "1.5.0",
            "_view_count": null,
            "_view_module_version": "1.2.0",
            "bar_color": null,
            "_model_module": "@jupyter-widgets/controls"
          }
        },
        "1dedb44afc64401c8341be39724a6d16": {
          "model_module": "@jupyter-widgets/base",
          "model_name": "LayoutModel",
          "state": {
            "_view_name": "LayoutView",
            "grid_template_rows": null,
            "right": null,
            "justify_content": null,
            "_view_module": "@jupyter-widgets/base",
            "overflow": null,
            "_model_module_version": "1.2.0",
            "_view_count": null,
            "flex_flow": null,
            "width": null,
            "min_width": null,
            "border": null,
            "align_items": null,
            "bottom": null,
            "_model_module": "@jupyter-widgets/base",
            "top": null,
            "grid_column": null,
            "overflow_y": null,
            "overflow_x": null,
            "grid_auto_flow": null,
            "grid_area": null,
            "grid_template_columns": null,
            "flex": null,
            "_model_name": "LayoutModel",
            "justify_items": null,
            "grid_row": null,
            "max_height": null,
            "align_content": null,
            "visibility": null,
            "align_self": null,
            "height": null,
            "min_height": null,
            "padding": null,
            "grid_auto_rows": null,
            "grid_gap": null,
            "max_width": null,
            "order": null,
            "_view_module_version": "1.2.0",
            "grid_template_areas": null,
            "object_position": null,
            "object_fit": null,
            "grid_auto_columns": null,
            "margin": null,
            "display": null,
            "left": null
          }
        },
        "246409122631451a8eca8e6ebfa91f42": {
          "model_module": "@jupyter-widgets/controls",
          "model_name": "DescriptionStyleModel",
          "state": {
            "_view_name": "StyleView",
            "_model_name": "DescriptionStyleModel",
            "description_width": "",
            "_view_module": "@jupyter-widgets/base",
            "_model_module_version": "1.5.0",
            "_view_count": null,
            "_view_module_version": "1.2.0",
            "_model_module": "@jupyter-widgets/controls"
          }
        },
        "c2d1c7c6268640ae8b3226d1fdb61db9": {
          "model_module": "@jupyter-widgets/base",
          "model_name": "LayoutModel",
          "state": {
            "_view_name": "LayoutView",
            "grid_template_rows": null,
            "right": null,
            "justify_content": null,
            "_view_module": "@jupyter-widgets/base",
            "overflow": null,
            "_model_module_version": "1.2.0",
            "_view_count": null,
            "flex_flow": null,
            "width": null,
            "min_width": null,
            "border": null,
            "align_items": null,
            "bottom": null,
            "_model_module": "@jupyter-widgets/base",
            "top": null,
            "grid_column": null,
            "overflow_y": null,
            "overflow_x": null,
            "grid_auto_flow": null,
            "grid_area": null,
            "grid_template_columns": null,
            "flex": null,
            "_model_name": "LayoutModel",
            "justify_items": null,
            "grid_row": null,
            "max_height": null,
            "align_content": null,
            "visibility": null,
            "align_self": null,
            "height": null,
            "min_height": null,
            "padding": null,
            "grid_auto_rows": null,
            "grid_gap": null,
            "max_width": null,
            "order": null,
            "_view_module_version": "1.2.0",
            "grid_template_areas": null,
            "object_position": null,
            "object_fit": null,
            "grid_auto_columns": null,
            "margin": null,
            "display": null,
            "left": null
          }
        },
        "ebca5b6c7d28478fbc267b2dfd84ea2b": {
          "model_module": "@jupyter-widgets/controls",
          "model_name": "HBoxModel",
          "state": {
            "_view_name": "HBoxView",
            "_dom_classes": [],
            "_model_name": "HBoxModel",
            "_view_module": "@jupyter-widgets/controls",
            "_model_module_version": "1.5.0",
            "_view_count": null,
            "_view_module_version": "1.5.0",
            "box_style": "",
            "layout": "IPY_MODEL_a23e0b5086f44e5493750f0aface166e",
            "_model_module": "@jupyter-widgets/controls",
            "children": [
              "IPY_MODEL_5760b257f7a94629a7b1ca9051b99bbe",
              "IPY_MODEL_9df1a8fa51164bed9b981cc4897ca22a"
            ]
          }
        },
        "a23e0b5086f44e5493750f0aface166e": {
          "model_module": "@jupyter-widgets/base",
          "model_name": "LayoutModel",
          "state": {
            "_view_name": "LayoutView",
            "grid_template_rows": null,
            "right": null,
            "justify_content": null,
            "_view_module": "@jupyter-widgets/base",
            "overflow": null,
            "_model_module_version": "1.2.0",
            "_view_count": null,
            "flex_flow": null,
            "width": null,
            "min_width": null,
            "border": null,
            "align_items": null,
            "bottom": null,
            "_model_module": "@jupyter-widgets/base",
            "top": null,
            "grid_column": null,
            "overflow_y": null,
            "overflow_x": null,
            "grid_auto_flow": null,
            "grid_area": null,
            "grid_template_columns": null,
            "flex": null,
            "_model_name": "LayoutModel",
            "justify_items": null,
            "grid_row": null,
            "max_height": null,
            "align_content": null,
            "visibility": null,
            "align_self": null,
            "height": null,
            "min_height": null,
            "padding": null,
            "grid_auto_rows": null,
            "grid_gap": null,
            "max_width": null,
            "order": null,
            "_view_module_version": "1.2.0",
            "grid_template_areas": null,
            "object_position": null,
            "object_fit": null,
            "grid_auto_columns": null,
            "margin": null,
            "display": null,
            "left": null
          }
        },
        "5760b257f7a94629a7b1ca9051b99bbe": {
          "model_module": "@jupyter-widgets/controls",
          "model_name": "FloatProgressModel",
          "state": {
            "_view_name": "ProgressView",
            "style": "IPY_MODEL_3f46e89f2fca4b119a6bf04627a07d40",
            "_dom_classes": [],
            "description": "",
            "_model_name": "FloatProgressModel",
            "bar_style": "success",
            "max": 28881,
            "_view_module": "@jupyter-widgets/controls",
            "_model_module_version": "1.5.0",
            "value": 28881,
            "_view_count": null,
            "_view_module_version": "1.5.0",
            "orientation": "horizontal",
            "min": 0,
            "description_tooltip": null,
            "_model_module": "@jupyter-widgets/controls",
            "layout": "IPY_MODEL_54f4c356da36443bb86fcc6d2f94a789"
          }
        },
        "9df1a8fa51164bed9b981cc4897ca22a": {
          "model_module": "@jupyter-widgets/controls",
          "model_name": "HTMLModel",
          "state": {
            "_view_name": "HTMLView",
            "style": "IPY_MODEL_50e3c2eeb1bf4a6d9d4b4a317e2032ef",
            "_dom_classes": [],
            "description": "",
            "_model_name": "HTMLModel",
            "placeholder": "​",
            "_view_module": "@jupyter-widgets/controls",
            "_model_module_version": "1.5.0",
            "value": " 29696/? [00:00&lt;00:00, 252347.23it/s]",
            "_view_count": null,
            "_view_module_version": "1.5.0",
            "description_tooltip": null,
            "_model_module": "@jupyter-widgets/controls",
            "layout": "IPY_MODEL_39c9393128b149ed8d04f992631c22fe"
          }
        },
        "3f46e89f2fca4b119a6bf04627a07d40": {
          "model_module": "@jupyter-widgets/controls",
          "model_name": "ProgressStyleModel",
          "state": {
            "_view_name": "StyleView",
            "_model_name": "ProgressStyleModel",
            "description_width": "initial",
            "_view_module": "@jupyter-widgets/base",
            "_model_module_version": "1.5.0",
            "_view_count": null,
            "_view_module_version": "1.2.0",
            "bar_color": null,
            "_model_module": "@jupyter-widgets/controls"
          }
        },
        "54f4c356da36443bb86fcc6d2f94a789": {
          "model_module": "@jupyter-widgets/base",
          "model_name": "LayoutModel",
          "state": {
            "_view_name": "LayoutView",
            "grid_template_rows": null,
            "right": null,
            "justify_content": null,
            "_view_module": "@jupyter-widgets/base",
            "overflow": null,
            "_model_module_version": "1.2.0",
            "_view_count": null,
            "flex_flow": null,
            "width": null,
            "min_width": null,
            "border": null,
            "align_items": null,
            "bottom": null,
            "_model_module": "@jupyter-widgets/base",
            "top": null,
            "grid_column": null,
            "overflow_y": null,
            "overflow_x": null,
            "grid_auto_flow": null,
            "grid_area": null,
            "grid_template_columns": null,
            "flex": null,
            "_model_name": "LayoutModel",
            "justify_items": null,
            "grid_row": null,
            "max_height": null,
            "align_content": null,
            "visibility": null,
            "align_self": null,
            "height": null,
            "min_height": null,
            "padding": null,
            "grid_auto_rows": null,
            "grid_gap": null,
            "max_width": null,
            "order": null,
            "_view_module_version": "1.2.0",
            "grid_template_areas": null,
            "object_position": null,
            "object_fit": null,
            "grid_auto_columns": null,
            "margin": null,
            "display": null,
            "left": null
          }
        },
        "50e3c2eeb1bf4a6d9d4b4a317e2032ef": {
          "model_module": "@jupyter-widgets/controls",
          "model_name": "DescriptionStyleModel",
          "state": {
            "_view_name": "StyleView",
            "_model_name": "DescriptionStyleModel",
            "description_width": "",
            "_view_module": "@jupyter-widgets/base",
            "_model_module_version": "1.5.0",
            "_view_count": null,
            "_view_module_version": "1.2.0",
            "_model_module": "@jupyter-widgets/controls"
          }
        },
        "39c9393128b149ed8d04f992631c22fe": {
          "model_module": "@jupyter-widgets/base",
          "model_name": "LayoutModel",
          "state": {
            "_view_name": "LayoutView",
            "grid_template_rows": null,
            "right": null,
            "justify_content": null,
            "_view_module": "@jupyter-widgets/base",
            "overflow": null,
            "_model_module_version": "1.2.0",
            "_view_count": null,
            "flex_flow": null,
            "width": null,
            "min_width": null,
            "border": null,
            "align_items": null,
            "bottom": null,
            "_model_module": "@jupyter-widgets/base",
            "top": null,
            "grid_column": null,
            "overflow_y": null,
            "overflow_x": null,
            "grid_auto_flow": null,
            "grid_area": null,
            "grid_template_columns": null,
            "flex": null,
            "_model_name": "LayoutModel",
            "justify_items": null,
            "grid_row": null,
            "max_height": null,
            "align_content": null,
            "visibility": null,
            "align_self": null,
            "height": null,
            "min_height": null,
            "padding": null,
            "grid_auto_rows": null,
            "grid_gap": null,
            "max_width": null,
            "order": null,
            "_view_module_version": "1.2.0",
            "grid_template_areas": null,
            "object_position": null,
            "object_fit": null,
            "grid_auto_columns": null,
            "margin": null,
            "display": null,
            "left": null
          }
        },
        "317bbfcfd0c349c387189b61692db78a": {
          "model_module": "@jupyter-widgets/controls",
          "model_name": "HBoxModel",
          "state": {
            "_view_name": "HBoxView",
            "_dom_classes": [],
            "_model_name": "HBoxModel",
            "_view_module": "@jupyter-widgets/controls",
            "_model_module_version": "1.5.0",
            "_view_count": null,
            "_view_module_version": "1.5.0",
            "box_style": "",
            "layout": "IPY_MODEL_5f93b4c9115c44a280234df7e93f1ec8",
            "_model_module": "@jupyter-widgets/controls",
            "children": [
              "IPY_MODEL_9bee813c12a94c4f95be8290071c48cb",
              "IPY_MODEL_838368565bcd4b9aa2b4629faa183fba"
            ]
          }
        },
        "5f93b4c9115c44a280234df7e93f1ec8": {
          "model_module": "@jupyter-widgets/base",
          "model_name": "LayoutModel",
          "state": {
            "_view_name": "LayoutView",
            "grid_template_rows": null,
            "right": null,
            "justify_content": null,
            "_view_module": "@jupyter-widgets/base",
            "overflow": null,
            "_model_module_version": "1.2.0",
            "_view_count": null,
            "flex_flow": null,
            "width": null,
            "min_width": null,
            "border": null,
            "align_items": null,
            "bottom": null,
            "_model_module": "@jupyter-widgets/base",
            "top": null,
            "grid_column": null,
            "overflow_y": null,
            "overflow_x": null,
            "grid_auto_flow": null,
            "grid_area": null,
            "grid_template_columns": null,
            "flex": null,
            "_model_name": "LayoutModel",
            "justify_items": null,
            "grid_row": null,
            "max_height": null,
            "align_content": null,
            "visibility": null,
            "align_self": null,
            "height": null,
            "min_height": null,
            "padding": null,
            "grid_auto_rows": null,
            "grid_gap": null,
            "max_width": null,
            "order": null,
            "_view_module_version": "1.2.0",
            "grid_template_areas": null,
            "object_position": null,
            "object_fit": null,
            "grid_auto_columns": null,
            "margin": null,
            "display": null,
            "left": null
          }
        },
        "9bee813c12a94c4f95be8290071c48cb": {
          "model_module": "@jupyter-widgets/controls",
          "model_name": "FloatProgressModel",
          "state": {
            "_view_name": "ProgressView",
            "style": "IPY_MODEL_89d480aa006d43dd90310bfc5fe74d49",
            "_dom_classes": [],
            "description": "",
            "_model_name": "FloatProgressModel",
            "bar_style": "success",
            "max": 1648877,
            "_view_module": "@jupyter-widgets/controls",
            "_model_module_version": "1.5.0",
            "value": 1648877,
            "_view_count": null,
            "_view_module_version": "1.5.0",
            "orientation": "horizontal",
            "min": 0,
            "description_tooltip": null,
            "_model_module": "@jupyter-widgets/controls",
            "layout": "IPY_MODEL_d6e58a411cf646809fe03df9086bd159"
          }
        },
        "838368565bcd4b9aa2b4629faa183fba": {
          "model_module": "@jupyter-widgets/controls",
          "model_name": "HTMLModel",
          "state": {
            "_view_name": "HTMLView",
            "style": "IPY_MODEL_9c1332bfc07442bcaa8eb195dea2ec40",
            "_dom_classes": [],
            "description": "",
            "_model_name": "HTMLModel",
            "placeholder": "​",
            "_view_module": "@jupyter-widgets/controls",
            "_model_module_version": "1.5.0",
            "value": " 1649664/? [00:01&lt;00:00, 1572865.79it/s]",
            "_view_count": null,
            "_view_module_version": "1.5.0",
            "description_tooltip": null,
            "_model_module": "@jupyter-widgets/controls",
            "layout": "IPY_MODEL_c8440aa8db964846a6c3fca2985f32b1"
          }
        },
        "89d480aa006d43dd90310bfc5fe74d49": {
          "model_module": "@jupyter-widgets/controls",
          "model_name": "ProgressStyleModel",
          "state": {
            "_view_name": "StyleView",
            "_model_name": "ProgressStyleModel",
            "description_width": "initial",
            "_view_module": "@jupyter-widgets/base",
            "_model_module_version": "1.5.0",
            "_view_count": null,
            "_view_module_version": "1.2.0",
            "bar_color": null,
            "_model_module": "@jupyter-widgets/controls"
          }
        },
        "d6e58a411cf646809fe03df9086bd159": {
          "model_module": "@jupyter-widgets/base",
          "model_name": "LayoutModel",
          "state": {
            "_view_name": "LayoutView",
            "grid_template_rows": null,
            "right": null,
            "justify_content": null,
            "_view_module": "@jupyter-widgets/base",
            "overflow": null,
            "_model_module_version": "1.2.0",
            "_view_count": null,
            "flex_flow": null,
            "width": null,
            "min_width": null,
            "border": null,
            "align_items": null,
            "bottom": null,
            "_model_module": "@jupyter-widgets/base",
            "top": null,
            "grid_column": null,
            "overflow_y": null,
            "overflow_x": null,
            "grid_auto_flow": null,
            "grid_area": null,
            "grid_template_columns": null,
            "flex": null,
            "_model_name": "LayoutModel",
            "justify_items": null,
            "grid_row": null,
            "max_height": null,
            "align_content": null,
            "visibility": null,
            "align_self": null,
            "height": null,
            "min_height": null,
            "padding": null,
            "grid_auto_rows": null,
            "grid_gap": null,
            "max_width": null,
            "order": null,
            "_view_module_version": "1.2.0",
            "grid_template_areas": null,
            "object_position": null,
            "object_fit": null,
            "grid_auto_columns": null,
            "margin": null,
            "display": null,
            "left": null
          }
        },
        "9c1332bfc07442bcaa8eb195dea2ec40": {
          "model_module": "@jupyter-widgets/controls",
          "model_name": "DescriptionStyleModel",
          "state": {
            "_view_name": "StyleView",
            "_model_name": "DescriptionStyleModel",
            "description_width": "",
            "_view_module": "@jupyter-widgets/base",
            "_model_module_version": "1.5.0",
            "_view_count": null,
            "_view_module_version": "1.2.0",
            "_model_module": "@jupyter-widgets/controls"
          }
        },
        "c8440aa8db964846a6c3fca2985f32b1": {
          "model_module": "@jupyter-widgets/base",
          "model_name": "LayoutModel",
          "state": {
            "_view_name": "LayoutView",
            "grid_template_rows": null,
            "right": null,
            "justify_content": null,
            "_view_module": "@jupyter-widgets/base",
            "overflow": null,
            "_model_module_version": "1.2.0",
            "_view_count": null,
            "flex_flow": null,
            "width": null,
            "min_width": null,
            "border": null,
            "align_items": null,
            "bottom": null,
            "_model_module": "@jupyter-widgets/base",
            "top": null,
            "grid_column": null,
            "overflow_y": null,
            "overflow_x": null,
            "grid_auto_flow": null,
            "grid_area": null,
            "grid_template_columns": null,
            "flex": null,
            "_model_name": "LayoutModel",
            "justify_items": null,
            "grid_row": null,
            "max_height": null,
            "align_content": null,
            "visibility": null,
            "align_self": null,
            "height": null,
            "min_height": null,
            "padding": null,
            "grid_auto_rows": null,
            "grid_gap": null,
            "max_width": null,
            "order": null,
            "_view_module_version": "1.2.0",
            "grid_template_areas": null,
            "object_position": null,
            "object_fit": null,
            "grid_auto_columns": null,
            "margin": null,
            "display": null,
            "left": null
          }
        },
        "8579c6c1f77642de971ddcd0f8f6cbc7": {
          "model_module": "@jupyter-widgets/controls",
          "model_name": "HBoxModel",
          "state": {
            "_view_name": "HBoxView",
            "_dom_classes": [],
            "_model_name": "HBoxModel",
            "_view_module": "@jupyter-widgets/controls",
            "_model_module_version": "1.5.0",
            "_view_count": null,
            "_view_module_version": "1.5.0",
            "box_style": "",
            "layout": "IPY_MODEL_398734648eca4b7589a011c2c1be2a7d",
            "_model_module": "@jupyter-widgets/controls",
            "children": [
              "IPY_MODEL_edd71aa1fdef4143a1743342e94c112c",
              "IPY_MODEL_1e823e2dc5474cbabe1f87e390799fb5"
            ]
          }
        },
        "398734648eca4b7589a011c2c1be2a7d": {
          "model_module": "@jupyter-widgets/base",
          "model_name": "LayoutModel",
          "state": {
            "_view_name": "LayoutView",
            "grid_template_rows": null,
            "right": null,
            "justify_content": null,
            "_view_module": "@jupyter-widgets/base",
            "overflow": null,
            "_model_module_version": "1.2.0",
            "_view_count": null,
            "flex_flow": null,
            "width": null,
            "min_width": null,
            "border": null,
            "align_items": null,
            "bottom": null,
            "_model_module": "@jupyter-widgets/base",
            "top": null,
            "grid_column": null,
            "overflow_y": null,
            "overflow_x": null,
            "grid_auto_flow": null,
            "grid_area": null,
            "grid_template_columns": null,
            "flex": null,
            "_model_name": "LayoutModel",
            "justify_items": null,
            "grid_row": null,
            "max_height": null,
            "align_content": null,
            "visibility": null,
            "align_self": null,
            "height": null,
            "min_height": null,
            "padding": null,
            "grid_auto_rows": null,
            "grid_gap": null,
            "max_width": null,
            "order": null,
            "_view_module_version": "1.2.0",
            "grid_template_areas": null,
            "object_position": null,
            "object_fit": null,
            "grid_auto_columns": null,
            "margin": null,
            "display": null,
            "left": null
          }
        },
        "edd71aa1fdef4143a1743342e94c112c": {
          "model_module": "@jupyter-widgets/controls",
          "model_name": "FloatProgressModel",
          "state": {
            "_view_name": "ProgressView",
            "style": "IPY_MODEL_8271bcf6b29d41d99af14022ab9c8c91",
            "_dom_classes": [],
            "description": "",
            "_model_name": "FloatProgressModel",
            "bar_style": "success",
            "max": 4542,
            "_view_module": "@jupyter-widgets/controls",
            "_model_module_version": "1.5.0",
            "value": 4542,
            "_view_count": null,
            "_view_module_version": "1.5.0",
            "orientation": "horizontal",
            "min": 0,
            "description_tooltip": null,
            "_model_module": "@jupyter-widgets/controls",
            "layout": "IPY_MODEL_df73df42ca1b4c749ec000d3c98fba34"
          }
        },
        "1e823e2dc5474cbabe1f87e390799fb5": {
          "model_module": "@jupyter-widgets/controls",
          "model_name": "HTMLModel",
          "state": {
            "_view_name": "HTMLView",
            "style": "IPY_MODEL_5d5371fd1afe447ba33c1861eeb54467",
            "_dom_classes": [],
            "description": "",
            "_model_name": "HTMLModel",
            "placeholder": "​",
            "_view_module": "@jupyter-widgets/controls",
            "_model_module_version": "1.5.0",
            "value": " 5120/? [00:00&lt;00:00, 19027.53it/s]",
            "_view_count": null,
            "_view_module_version": "1.5.0",
            "description_tooltip": null,
            "_model_module": "@jupyter-widgets/controls",
            "layout": "IPY_MODEL_2307a16148554577a9456246df85c969"
          }
        },
        "8271bcf6b29d41d99af14022ab9c8c91": {
          "model_module": "@jupyter-widgets/controls",
          "model_name": "ProgressStyleModel",
          "state": {
            "_view_name": "StyleView",
            "_model_name": "ProgressStyleModel",
            "description_width": "initial",
            "_view_module": "@jupyter-widgets/base",
            "_model_module_version": "1.5.0",
            "_view_count": null,
            "_view_module_version": "1.2.0",
            "bar_color": null,
            "_model_module": "@jupyter-widgets/controls"
          }
        },
        "df73df42ca1b4c749ec000d3c98fba34": {
          "model_module": "@jupyter-widgets/base",
          "model_name": "LayoutModel",
          "state": {
            "_view_name": "LayoutView",
            "grid_template_rows": null,
            "right": null,
            "justify_content": null,
            "_view_module": "@jupyter-widgets/base",
            "overflow": null,
            "_model_module_version": "1.2.0",
            "_view_count": null,
            "flex_flow": null,
            "width": null,
            "min_width": null,
            "border": null,
            "align_items": null,
            "bottom": null,
            "_model_module": "@jupyter-widgets/base",
            "top": null,
            "grid_column": null,
            "overflow_y": null,
            "overflow_x": null,
            "grid_auto_flow": null,
            "grid_area": null,
            "grid_template_columns": null,
            "flex": null,
            "_model_name": "LayoutModel",
            "justify_items": null,
            "grid_row": null,
            "max_height": null,
            "align_content": null,
            "visibility": null,
            "align_self": null,
            "height": null,
            "min_height": null,
            "padding": null,
            "grid_auto_rows": null,
            "grid_gap": null,
            "max_width": null,
            "order": null,
            "_view_module_version": "1.2.0",
            "grid_template_areas": null,
            "object_position": null,
            "object_fit": null,
            "grid_auto_columns": null,
            "margin": null,
            "display": null,
            "left": null
          }
        },
        "5d5371fd1afe447ba33c1861eeb54467": {
          "model_module": "@jupyter-widgets/controls",
          "model_name": "DescriptionStyleModel",
          "state": {
            "_view_name": "StyleView",
            "_model_name": "DescriptionStyleModel",
            "description_width": "",
            "_view_module": "@jupyter-widgets/base",
            "_model_module_version": "1.5.0",
            "_view_count": null,
            "_view_module_version": "1.2.0",
            "_model_module": "@jupyter-widgets/controls"
          }
        },
        "2307a16148554577a9456246df85c969": {
          "model_module": "@jupyter-widgets/base",
          "model_name": "LayoutModel",
          "state": {
            "_view_name": "LayoutView",
            "grid_template_rows": null,
            "right": null,
            "justify_content": null,
            "_view_module": "@jupyter-widgets/base",
            "overflow": null,
            "_model_module_version": "1.2.0",
            "_view_count": null,
            "flex_flow": null,
            "width": null,
            "min_width": null,
            "border": null,
            "align_items": null,
            "bottom": null,
            "_model_module": "@jupyter-widgets/base",
            "top": null,
            "grid_column": null,
            "overflow_y": null,
            "overflow_x": null,
            "grid_auto_flow": null,
            "grid_area": null,
            "grid_template_columns": null,
            "flex": null,
            "_model_name": "LayoutModel",
            "justify_items": null,
            "grid_row": null,
            "max_height": null,
            "align_content": null,
            "visibility": null,
            "align_self": null,
            "height": null,
            "min_height": null,
            "padding": null,
            "grid_auto_rows": null,
            "grid_gap": null,
            "max_width": null,
            "order": null,
            "_view_module_version": "1.2.0",
            "grid_template_areas": null,
            "object_position": null,
            "object_fit": null,
            "grid_auto_columns": null,
            "margin": null,
            "display": null,
            "left": null
          }
        }
      }
    }
  },
  "cells": [
    {
      "cell_type": "code",
      "metadata": {
        "id": "iAOiwXVRT0zG"
      },
      "source": [
        "import torch\n",
        "import torch.nn as nn\n",
        "import torch.nn.functional as f\n",
        "from torch.utils.data import DataLoader\n",
        "from torchvision.utils import make_grid\n",
        "from torchvision import datasets,transforms\n",
        "import numpy as np\n",
        "import pandas as pd\n",
        "from sklearn.metrics import confusion_matrix\n",
        "import matplotlib.pyplot as plt\n",
        "%matplotlib inline"
      ],
      "execution_count": 2,
      "outputs": []
    },
    {
      "cell_type": "code",
      "metadata": {
        "colab": {
          "base_uri": "https://localhost:8080/"
        },
        "id": "4_lsFKyPcbmM",
        "outputId": "8d5ee9f3-2988-4168-a1d4-1f63b46e125e"
      },
      "source": [
        "!nvidia-smi"
      ],
      "execution_count": 3,
      "outputs": [
        {
          "output_type": "stream",
          "text": [
            "Fri Jun 18 05:01:17 2021       \n",
            "+-----------------------------------------------------------------------------+\n",
            "| NVIDIA-SMI 465.27       Driver Version: 460.32.03    CUDA Version: 11.2     |\n",
            "|-------------------------------+----------------------+----------------------+\n",
            "| GPU  Name        Persistence-M| Bus-Id        Disp.A | Volatile Uncorr. ECC |\n",
            "| Fan  Temp  Perf  Pwr:Usage/Cap|         Memory-Usage | GPU-Util  Compute M. |\n",
            "|                               |                      |               MIG M. |\n",
            "|===============================+======================+======================|\n",
            "|   0  Tesla T4            Off  | 00000000:00:04.0 Off |                    0 |\n",
            "| N/A   35C    P8     9W /  70W |      0MiB / 15109MiB |      0%      Default |\n",
            "|                               |                      |                  N/A |\n",
            "+-------------------------------+----------------------+----------------------+\n",
            "                                                                               \n",
            "+-----------------------------------------------------------------------------+\n",
            "| Processes:                                                                  |\n",
            "|  GPU   GI   CI        PID   Type   Process name                  GPU Memory |\n",
            "|        ID   ID                                                   Usage      |\n",
            "|=============================================================================|\n",
            "|  No running processes found                                                 |\n",
            "+-----------------------------------------------------------------------------+\n"
          ],
          "name": "stdout"
        }
      ]
    },
    {
      "cell_type": "code",
      "metadata": {
        "colab": {
          "base_uri": "https://localhost:8080/"
        },
        "id": "P2n2AIZzcien",
        "outputId": "c568bea0-1cbf-4859-9957-79898aedc072"
      },
      "source": [
        "!nvidia-smi -L"
      ],
      "execution_count": 4,
      "outputs": [
        {
          "output_type": "stream",
          "text": [
            "GPU 0: Tesla T4 (UUID: GPU-2f36e4e7-fcd8-4c34-db67-cc9b10ce28b2)\n"
          ],
          "name": "stdout"
        }
      ]
    },
    {
      "cell_type": "code",
      "metadata": {
        "colab": {
          "base_uri": "https://localhost:8080/"
        },
        "id": "dU0bXjg1d84Y",
        "outputId": "679afae5-021f-4f2b-e209-1ceb2c393da2"
      },
      "source": [
        "!nvidia-smi --query-gpu=gpu_name,driver_version,memory.total --format=csv"
      ],
      "execution_count": 5,
      "outputs": [
        {
          "output_type": "stream",
          "text": [
            "name, driver_version, memory.total [MiB]\n",
            "Tesla T4, 460.32.03, 15109 MiB\n"
          ],
          "name": "stdout"
        }
      ]
    },
    {
      "cell_type": "code",
      "metadata": {
        "id": "viLP-B0JbxfD"
      },
      "source": [
        "device = torch.device('cuda' if torch.cuda.is_available() else 'cpu')"
      ],
      "execution_count": 6,
      "outputs": []
    },
    {
      "cell_type": "code",
      "metadata": {
        "id": "i2_B5oP-UDMz"
      },
      "source": [
        "transform=transforms.ToTensor()"
      ],
      "execution_count": 7,
      "outputs": []
    },
    {
      "cell_type": "code",
      "metadata": {
        "colab": {
          "base_uri": "https://localhost:8080/",
          "height": 736,
          "referenced_widgets": [
            "f27bb065ecc842c5ad2a321560b208aa",
            "b5ce060fd6d44883805936264e52c96f",
            "ee2a7c6dd1c146f3b9661bea611b9038",
            "787726b7929c44068ec86ba799c6fa69",
            "f7a765536c274f4dad43ed150fbc3c04",
            "1dedb44afc64401c8341be39724a6d16",
            "246409122631451a8eca8e6ebfa91f42",
            "c2d1c7c6268640ae8b3226d1fdb61db9",
            "ebca5b6c7d28478fbc267b2dfd84ea2b",
            "a23e0b5086f44e5493750f0aface166e",
            "5760b257f7a94629a7b1ca9051b99bbe",
            "9df1a8fa51164bed9b981cc4897ca22a",
            "3f46e89f2fca4b119a6bf04627a07d40",
            "54f4c356da36443bb86fcc6d2f94a789",
            "50e3c2eeb1bf4a6d9d4b4a317e2032ef",
            "39c9393128b149ed8d04f992631c22fe",
            "317bbfcfd0c349c387189b61692db78a",
            "5f93b4c9115c44a280234df7e93f1ec8",
            "9bee813c12a94c4f95be8290071c48cb",
            "838368565bcd4b9aa2b4629faa183fba",
            "89d480aa006d43dd90310bfc5fe74d49",
            "d6e58a411cf646809fe03df9086bd159",
            "9c1332bfc07442bcaa8eb195dea2ec40",
            "c8440aa8db964846a6c3fca2985f32b1",
            "8579c6c1f77642de971ddcd0f8f6cbc7",
            "398734648eca4b7589a011c2c1be2a7d",
            "edd71aa1fdef4143a1743342e94c112c",
            "1e823e2dc5474cbabe1f87e390799fb5",
            "8271bcf6b29d41d99af14022ab9c8c91",
            "df73df42ca1b4c749ec000d3c98fba34",
            "5d5371fd1afe447ba33c1861eeb54467",
            "2307a16148554577a9456246df85c969"
          ]
        },
        "id": "OPVnmBmXUTnW",
        "outputId": "760807e2-6eaa-442c-ffeb-80c03417b703"
      },
      "source": [
        "train_data=datasets.MNIST(root=\"../content/Data\",train=True,download=True,transform=transform)"
      ],
      "execution_count": 8,
      "outputs": [
        {
          "output_type": "stream",
          "text": [
            "Downloading http://yann.lecun.com/exdb/mnist/train-images-idx3-ubyte.gz\n",
            "Downloading http://yann.lecun.com/exdb/mnist/train-images-idx3-ubyte.gz to ../content/Data/MNIST/raw/train-images-idx3-ubyte.gz\n",
            "Failed to download (trying next):\n",
            "HTTP Error 503: Service Unavailable\n",
            "\n",
            "Downloading https://ossci-datasets.s3.amazonaws.com/mnist/train-images-idx3-ubyte.gz\n",
            "Downloading https://ossci-datasets.s3.amazonaws.com/mnist/train-images-idx3-ubyte.gz to ../content/Data/MNIST/raw/train-images-idx3-ubyte.gz\n"
          ],
          "name": "stdout"
        },
        {
          "output_type": "display_data",
          "data": {
            "application/vnd.jupyter.widget-view+json": {
              "model_id": "f27bb065ecc842c5ad2a321560b208aa",
              "version_minor": 0,
              "version_major": 2
            },
            "text/plain": [
              "HBox(children=(FloatProgress(value=0.0, max=9912422.0), HTML(value='')))"
            ]
          },
          "metadata": {
            "tags": []
          }
        },
        {
          "output_type": "stream",
          "text": [
            "\n",
            "Extracting ../content/Data/MNIST/raw/train-images-idx3-ubyte.gz to ../content/Data/MNIST/raw\n",
            "\n",
            "Downloading http://yann.lecun.com/exdb/mnist/train-labels-idx1-ubyte.gz\n",
            "Downloading http://yann.lecun.com/exdb/mnist/train-labels-idx1-ubyte.gz to ../content/Data/MNIST/raw/train-labels-idx1-ubyte.gz\n"
          ],
          "name": "stdout"
        },
        {
          "output_type": "display_data",
          "data": {
            "application/vnd.jupyter.widget-view+json": {
              "model_id": "ebca5b6c7d28478fbc267b2dfd84ea2b",
              "version_minor": 0,
              "version_major": 2
            },
            "text/plain": [
              "HBox(children=(FloatProgress(value=0.0, max=28881.0), HTML(value='')))"
            ]
          },
          "metadata": {
            "tags": []
          }
        },
        {
          "output_type": "stream",
          "text": [
            "\n",
            "Extracting ../content/Data/MNIST/raw/train-labels-idx1-ubyte.gz to ../content/Data/MNIST/raw\n",
            "\n",
            "Downloading http://yann.lecun.com/exdb/mnist/t10k-images-idx3-ubyte.gz\n",
            "Downloading http://yann.lecun.com/exdb/mnist/t10k-images-idx3-ubyte.gz to ../content/Data/MNIST/raw/t10k-images-idx3-ubyte.gz\n",
            "Failed to download (trying next):\n",
            "HTTP Error 503: Service Unavailable\n",
            "\n",
            "Downloading https://ossci-datasets.s3.amazonaws.com/mnist/t10k-images-idx3-ubyte.gz\n",
            "Downloading https://ossci-datasets.s3.amazonaws.com/mnist/t10k-images-idx3-ubyte.gz to ../content/Data/MNIST/raw/t10k-images-idx3-ubyte.gz\n"
          ],
          "name": "stdout"
        },
        {
          "output_type": "display_data",
          "data": {
            "application/vnd.jupyter.widget-view+json": {
              "model_id": "317bbfcfd0c349c387189b61692db78a",
              "version_minor": 0,
              "version_major": 2
            },
            "text/plain": [
              "HBox(children=(FloatProgress(value=0.0, max=1648877.0), HTML(value='')))"
            ]
          },
          "metadata": {
            "tags": []
          }
        },
        {
          "output_type": "stream",
          "text": [
            "\n",
            "Extracting ../content/Data/MNIST/raw/t10k-images-idx3-ubyte.gz to ../content/Data/MNIST/raw\n",
            "\n",
            "Downloading http://yann.lecun.com/exdb/mnist/t10k-labels-idx1-ubyte.gz\n",
            "Downloading http://yann.lecun.com/exdb/mnist/t10k-labels-idx1-ubyte.gz to ../content/Data/MNIST/raw/t10k-labels-idx1-ubyte.gz\n"
          ],
          "name": "stdout"
        },
        {
          "output_type": "display_data",
          "data": {
            "application/vnd.jupyter.widget-view+json": {
              "model_id": "8579c6c1f77642de971ddcd0f8f6cbc7",
              "version_minor": 0,
              "version_major": 2
            },
            "text/plain": [
              "HBox(children=(FloatProgress(value=0.0, max=4542.0), HTML(value='')))"
            ]
          },
          "metadata": {
            "tags": []
          }
        },
        {
          "output_type": "stream",
          "text": [
            "\n",
            "Extracting ../content/Data/MNIST/raw/t10k-labels-idx1-ubyte.gz to ../content/Data/MNIST/raw\n",
            "\n",
            "Processing...\n",
            "Done!\n"
          ],
          "name": "stdout"
        },
        {
          "output_type": "stream",
          "text": [
            "/usr/local/lib/python3.7/dist-packages/torchvision/datasets/mnist.py:502: UserWarning: The given NumPy array is not writeable, and PyTorch does not support non-writeable tensors. This means you can write to the underlying (supposedly non-writeable) NumPy array using the tensor. You may want to copy the array to protect its data or make it writeable before converting it to a tensor. This type of warning will be suppressed for the rest of this program. (Triggered internally at  /pytorch/torch/csrc/utils/tensor_numpy.cpp:143.)\n",
            "  return torch.from_numpy(parsed.astype(m[2], copy=False)).view(*s)\n"
          ],
          "name": "stderr"
        }
      ]
    },
    {
      "cell_type": "code",
      "metadata": {
        "id": "XSOsl3S4UWux"
      },
      "source": [
        "test_data=datasets.MNIST(root=\"../content/Data\",train=False,download=True,transform=transform)"
      ],
      "execution_count": 9,
      "outputs": []
    },
    {
      "cell_type": "code",
      "metadata": {
        "colab": {
          "base_uri": "https://localhost:8080/"
        },
        "id": "X2XVaqu7UdC9",
        "outputId": "8decb768-4889-417c-f51a-05037467dca0"
      },
      "source": [
        "train_data"
      ],
      "execution_count": 10,
      "outputs": [
        {
          "output_type": "execute_result",
          "data": {
            "text/plain": [
              "Dataset MNIST\n",
              "    Number of datapoints: 60000\n",
              "    Root location: ../content/Data\n",
              "    Split: Train\n",
              "    StandardTransform\n",
              "Transform: ToTensor()"
            ]
          },
          "metadata": {
            "tags": []
          },
          "execution_count": 10
        }
      ]
    },
    {
      "cell_type": "code",
      "metadata": {
        "colab": {
          "base_uri": "https://localhost:8080/"
        },
        "id": "Usa9fO9BUekR",
        "outputId": "d5740a88-344e-4a64-af82-364cd3a49625"
      },
      "source": [
        "test_data"
      ],
      "execution_count": 11,
      "outputs": [
        {
          "output_type": "execute_result",
          "data": {
            "text/plain": [
              "Dataset MNIST\n",
              "    Number of datapoints: 10000\n",
              "    Root location: ../content/Data\n",
              "    Split: Test\n",
              "    StandardTransform\n",
              "Transform: ToTensor()"
            ]
          },
          "metadata": {
            "tags": []
          },
          "execution_count": 11
        }
      ]
    },
    {
      "cell_type": "code",
      "metadata": {
        "id": "prjGMg_HUfya"
      },
      "source": [
        "train_loader=DataLoader(train_data,batch_size=5000,shuffle=True)\n",
        "test_loader=DataLoader(test_data,batch_size=1000,shuffle=False)"
      ],
      "execution_count": 14,
      "outputs": []
    },
    {
      "cell_type": "code",
      "metadata": {
        "id": "kdjmSDckU0SZ"
      },
      "source": [
        "# 1 color channel ,6 out channels, 3/3 kerner,1 stride(size)\n",
        "conv1=nn.Conv2d(1,6,3,1)\n",
        "conv2=nn.Conv2d(6,16,3,1)"
      ],
      "execution_count": 15,
      "outputs": []
    },
    {
      "cell_type": "code",
      "metadata": {
        "id": "YUO_6ZMDVyZO"
      },
      "source": [
        "for i,(x_train,y_train) in enumerate(train_data):\n",
        "  break"
      ],
      "execution_count": 16,
      "outputs": []
    },
    {
      "cell_type": "code",
      "metadata": {
        "id": "98H8Czs4WAKA"
      },
      "source": [
        "x=x_train.view(1,1,28,28)"
      ],
      "execution_count": 17,
      "outputs": []
    },
    {
      "cell_type": "code",
      "metadata": {
        "id": "vDUl92wJWBCr"
      },
      "source": [
        "x=conv1(x)\n",
        "x=f.relu(x)"
      ],
      "execution_count": 18,
      "outputs": []
    },
    {
      "cell_type": "code",
      "metadata": {
        "colab": {
          "base_uri": "https://localhost:8080/"
        },
        "id": "f8XKQH9qWFy7",
        "outputId": "020a5b89-5303-4f3e-8fce-b7237c7e0a4b"
      },
      "source": [
        "x.shape"
      ],
      "execution_count": 19,
      "outputs": [
        {
          "output_type": "execute_result",
          "data": {
            "text/plain": [
              "torch.Size([1, 6, 26, 26])"
            ]
          },
          "metadata": {
            "tags": []
          },
          "execution_count": 19
        }
      ]
    },
    {
      "cell_type": "code",
      "metadata": {
        "id": "1VpxsRwfWY80"
      },
      "source": [
        "x=f.max_pool2d(x,2,2)"
      ],
      "execution_count": 20,
      "outputs": []
    },
    {
      "cell_type": "code",
      "metadata": {
        "colab": {
          "base_uri": "https://localhost:8080/"
        },
        "id": "xx8J_2M7W07K",
        "outputId": "3c560f44-5a89-48c7-89b1-733929fe3482"
      },
      "source": [
        "x.shape"
      ],
      "execution_count": 21,
      "outputs": [
        {
          "output_type": "execute_result",
          "data": {
            "text/plain": [
              "torch.Size([1, 6, 13, 13])"
            ]
          },
          "metadata": {
            "tags": []
          },
          "execution_count": 21
        }
      ]
    },
    {
      "cell_type": "code",
      "metadata": {
        "id": "QZy1h0aXW1Sr"
      },
      "source": [
        "x=conv2(x)"
      ],
      "execution_count": 22,
      "outputs": []
    },
    {
      "cell_type": "code",
      "metadata": {
        "id": "ATaTSoJqXEK6"
      },
      "source": [
        "x=f.relu(x)"
      ],
      "execution_count": 23,
      "outputs": []
    },
    {
      "cell_type": "code",
      "metadata": {
        "colab": {
          "base_uri": "https://localhost:8080/"
        },
        "id": "tctXkbGWXHfe",
        "outputId": "895b9c44-a328-4ac6-856e-5e8e1953eb6a"
      },
      "source": [
        "x.shape"
      ],
      "execution_count": 24,
      "outputs": [
        {
          "output_type": "execute_result",
          "data": {
            "text/plain": [
              "torch.Size([1, 16, 11, 11])"
            ]
          },
          "metadata": {
            "tags": []
          },
          "execution_count": 24
        }
      ]
    },
    {
      "cell_type": "code",
      "metadata": {
        "id": "cPxTKS2XXIK8"
      },
      "source": [
        "x=f.max_pool2d(x,2,2)"
      ],
      "execution_count": 25,
      "outputs": []
    },
    {
      "cell_type": "code",
      "metadata": {
        "colab": {
          "base_uri": "https://localhost:8080/"
        },
        "id": "5E7oJ2vfXLxy",
        "outputId": "2aa07a19-53cf-4d76-c87a-66fe512ea83c"
      },
      "source": [
        "x.shape"
      ],
      "execution_count": 26,
      "outputs": [
        {
          "output_type": "execute_result",
          "data": {
            "text/plain": [
              "torch.Size([1, 16, 5, 5])"
            ]
          },
          "metadata": {
            "tags": []
          },
          "execution_count": 26
        }
      ]
    },
    {
      "cell_type": "code",
      "metadata": {
        "id": "LcxTD_FNXMnx"
      },
      "source": [
        "x=x.view(-1,16*5*5)"
      ],
      "execution_count": 27,
      "outputs": []
    },
    {
      "cell_type": "code",
      "metadata": {
        "colab": {
          "base_uri": "https://localhost:8080/"
        },
        "id": "JEew9QghXX3f",
        "outputId": "9bbb6e4e-86b1-459c-e915-b531948d0457"
      },
      "source": [
        "x.shape"
      ],
      "execution_count": 28,
      "outputs": [
        {
          "output_type": "execute_result",
          "data": {
            "text/plain": [
              "torch.Size([1, 400])"
            ]
          },
          "metadata": {
            "tags": []
          },
          "execution_count": 28
        }
      ]
    },
    {
      "cell_type": "code",
      "metadata": {
        "id": "Y8_wUAVkXZd0"
      },
      "source": [
        "class ConvolutionalNetwork(nn.Module):\n",
        "\n",
        "  def __init__(self):\n",
        "    super().__init__()\n",
        "    self.conv1 = nn.Conv2d(1,6,3,1)\n",
        "    self.conv2 = nn.Conv2d(6,16,3,1)\n",
        "    self.fc1 = nn.Linear(5*5*16,120)\n",
        "    self.fc2 = nn.Linear(120, 84)\n",
        "    self.fc3 = nn.Linear(84,10)\n",
        "\n",
        "  def forward(self,x):\n",
        "    x=f.relu(self.conv1(x))\n",
        "    x=f.max_pool2d(x,2,2)\n",
        "    x=f.relu(self.conv2(x))\n",
        "    x=f.max_pool2d(x,2,2)\n",
        "    x=x.view(-1,5*5*16)\n",
        "    x=f.relu(self.fc1(x))\n",
        "    x=f.relu(self.fc2(x))\n",
        "    x=self.fc3(x)\n",
        "    return f.log_softmax(x,dim=1)"
      ],
      "execution_count": 29,
      "outputs": []
    },
    {
      "cell_type": "code",
      "metadata": {
        "id": "EZOHsabeZOva"
      },
      "source": [
        "model=ConvolutionalNetwork()"
      ],
      "execution_count": 36,
      "outputs": []
    },
    {
      "cell_type": "code",
      "metadata": {
        "colab": {
          "base_uri": "https://localhost:8080/"
        },
        "id": "oJTtpybXZV0X",
        "outputId": "e1a9bb25-780e-4de2-84c5-b62b76986f59"
      },
      "source": [
        "model"
      ],
      "execution_count": 37,
      "outputs": [
        {
          "output_type": "execute_result",
          "data": {
            "text/plain": [
              "ConvolutionalNetwork(\n",
              "  (conv1): Conv2d(1, 6, kernel_size=(3, 3), stride=(1, 1))\n",
              "  (conv2): Conv2d(6, 16, kernel_size=(3, 3), stride=(1, 1))\n",
              "  (fc1): Linear(in_features=400, out_features=120, bias=True)\n",
              "  (fc2): Linear(in_features=120, out_features=84, bias=True)\n",
              "  (fc3): Linear(in_features=84, out_features=10, bias=True)\n",
              ")"
            ]
          },
          "metadata": {
            "tags": []
          },
          "execution_count": 37
        }
      ]
    },
    {
      "cell_type": "code",
      "metadata": {
        "id": "f7I_1wfuZY_h"
      },
      "source": [
        "def count_parameters(model):\n",
        "    params = [p.numel() for p in model.parameters() if p.requires_grad]\n",
        "    for item in params:\n",
        "        print(f'{item:>6}')\n",
        "    print(f'______\\n{sum(params):>6}')"
      ],
      "execution_count": 38,
      "outputs": []
    },
    {
      "cell_type": "code",
      "metadata": {
        "colab": {
          "base_uri": "https://localhost:8080/"
        },
        "id": "3UOHtVdLZg8r",
        "outputId": "d4da3651-ed80-4afd-b505-58ee546de145"
      },
      "source": [
        "count_parameters(model)"
      ],
      "execution_count": 39,
      "outputs": [
        {
          "output_type": "stream",
          "text": [
            "    54\n",
            "     6\n",
            "   864\n",
            "    16\n",
            " 48000\n",
            "   120\n",
            " 10080\n",
            "    84\n",
            "   840\n",
            "    10\n",
            "______\n",
            " 60074\n"
          ],
          "name": "stdout"
        }
      ]
    },
    {
      "cell_type": "code",
      "metadata": {
        "id": "jeyhF1RHZjn-"
      },
      "source": [
        "criterion=nn.CrossEntropyLoss()\n",
        "optimizer=torch.optim.Adam(model.parameters(),lr=0.001)"
      ],
      "execution_count": 40,
      "outputs": []
    },
    {
      "cell_type": "code",
      "metadata": {
        "colab": {
          "base_uri": "https://localhost:8080/"
        },
        "id": "S_SZeUY8Z6QO",
        "outputId": "0409040d-d748-48e7-c1be-2a96bd0c7e5d"
      },
      "source": [
        "import time\n",
        "start_time = time.time()\n",
        "\n",
        "epochs = 25\n",
        "train_losses = []\n",
        "test_losses = []\n",
        "train_correct = []\n",
        "test_correct = []\n",
        "\n",
        "for i in range(epochs):\n",
        "  trn_correct=0\n",
        "  tst_correct=0\n",
        "  for b,(x_train,y_train) in enumerate(train_loader):\n",
        "    b+=1\n",
        "    y_pred=model(x_train)\n",
        "    loss=criterion(y_pred,y_train)\n",
        "    predicted=torch.max(y_pred.data,1)[1]\n",
        "    batch_correct=(predicted==y_train).sum()\n",
        "    trn_correct+=batch_correct\n",
        "    optimizer.zero_grad()\n",
        "    loss.backward()\n",
        "    optimizer.step()\n",
        "    print(f'epoch: {i:2}  batch: {b:4} [{5000*b:6}/60000]  loss: {loss.item():10.8f}  accuracy: {trn_correct.item()*100/(5000*b):7.3f}%')\n",
        "    train_losses.append(loss)\n",
        "    train_correct.append(trn_correct)\n",
        "    with torch.no_grad():\n",
        "        for b, (x_test, y_test) in enumerate(test_loader):\n",
        "          y_val = model(x_test)\n",
        "          predicted = torch.max(y_val.data, 1)[1] \n",
        "          tst_correct += (predicted == y_test).sum()\n",
        "    loss = criterion(y_val, y_test)\n",
        "    test_losses.append(loss)\n",
        "    test_correct.append(tst_correct)\n",
        "    \n",
        "print(f'\\nDuration: {time.time() - start_time:.0f} seconds')"
      ],
      "execution_count": 41,
      "outputs": [
        {
          "output_type": "stream",
          "text": [
            "epoch:  0  batch:    1 [  5000/60000]  loss: 2.30222535  accuracy:   8.860%\n",
            "epoch:  0  batch:    2 [ 10000/60000]  loss: 2.29543996  accuracy:  11.930%\n",
            "epoch:  0  batch:    3 [ 15000/60000]  loss: 2.28888965  accuracy:  13.733%\n",
            "epoch:  0  batch:    4 [ 20000/60000]  loss: 2.28103781  accuracy:  15.880%\n",
            "epoch:  0  batch:    5 [ 25000/60000]  loss: 2.27370882  accuracy:  17.528%\n",
            "epoch:  0  batch:    6 [ 30000/60000]  loss: 2.26373506  accuracy:  18.897%\n",
            "epoch:  0  batch:    7 [ 35000/60000]  loss: 2.25333142  accuracy:  20.743%\n",
            "epoch:  0  batch:    8 [ 40000/60000]  loss: 2.24196959  accuracy:  22.725%\n",
            "epoch:  0  batch:    9 [ 45000/60000]  loss: 2.22615099  accuracy:  25.160%\n",
            "epoch:  0  batch:   10 [ 50000/60000]  loss: 2.21036601  accuracy:  27.632%\n",
            "epoch:  0  batch:   11 [ 55000/60000]  loss: 2.19108844  accuracy:  30.144%\n",
            "epoch:  0  batch:   12 [ 60000/60000]  loss: 2.17053437  accuracy:  32.533%\n",
            "epoch:  1  batch:    1 [  5000/60000]  loss: 2.14512372  accuracy:  60.840%\n",
            "epoch:  1  batch:    2 [ 10000/60000]  loss: 2.11921787  accuracy:  61.300%\n",
            "epoch:  1  batch:    3 [ 15000/60000]  loss: 2.09139657  accuracy:  61.187%\n",
            "epoch:  1  batch:    4 [ 20000/60000]  loss: 2.05527258  accuracy:  61.615%\n",
            "epoch:  1  batch:    5 [ 25000/60000]  loss: 2.02271891  accuracy:  61.828%\n",
            "epoch:  1  batch:    6 [ 30000/60000]  loss: 1.97826111  accuracy:  62.163%\n",
            "epoch:  1  batch:    7 [ 35000/60000]  loss: 1.93331504  accuracy:  62.311%\n",
            "epoch:  1  batch:    8 [ 40000/60000]  loss: 1.88787305  accuracy:  62.555%\n",
            "epoch:  1  batch:    9 [ 45000/60000]  loss: 1.83103240  accuracy:  62.793%\n",
            "epoch:  1  batch:   10 [ 50000/60000]  loss: 1.78014982  accuracy:  62.836%\n",
            "epoch:  1  batch:   11 [ 55000/60000]  loss: 1.71224260  accuracy:  62.891%\n",
            "epoch:  1  batch:   12 [ 60000/60000]  loss: 1.65057242  accuracy:  62.957%\n",
            "epoch:  2  batch:    1 [  5000/60000]  loss: 1.57622218  accuracy:  65.240%\n",
            "epoch:  2  batch:    2 [ 10000/60000]  loss: 1.51650763  accuracy:  65.190%\n",
            "epoch:  2  batch:    3 [ 15000/60000]  loss: 1.44314003  accuracy:  65.213%\n",
            "epoch:  2  batch:    4 [ 20000/60000]  loss: 1.36663699  accuracy:  65.735%\n",
            "epoch:  2  batch:    5 [ 25000/60000]  loss: 1.29800951  accuracy:  66.048%\n",
            "epoch:  2  batch:    6 [ 30000/60000]  loss: 1.24359620  accuracy:  66.330%\n",
            "epoch:  2  batch:    7 [ 35000/60000]  loss: 1.16646183  accuracy:  67.006%\n",
            "epoch:  2  batch:    8 [ 40000/60000]  loss: 1.10707033  accuracy:  67.445%\n",
            "epoch:  2  batch:    9 [ 45000/60000]  loss: 1.04231048  accuracy:  68.040%\n",
            "epoch:  2  batch:   10 [ 50000/60000]  loss: 1.00468779  accuracy:  68.528%\n",
            "epoch:  2  batch:   11 [ 55000/60000]  loss: 0.97046757  accuracy:  68.949%\n",
            "epoch:  2  batch:   12 [ 60000/60000]  loss: 0.91482991  accuracy:  69.357%\n",
            "epoch:  3  batch:    1 [  5000/60000]  loss: 0.88355935  accuracy:  74.420%\n",
            "epoch:  3  batch:    2 [ 10000/60000]  loss: 0.81721580  accuracy:  75.220%\n",
            "epoch:  3  batch:    3 [ 15000/60000]  loss: 0.78573990  accuracy:  75.373%\n",
            "epoch:  3  batch:    4 [ 20000/60000]  loss: 0.78285748  accuracy:  75.460%\n",
            "epoch:  3  batch:    5 [ 25000/60000]  loss: 0.76661009  accuracy:  75.560%\n",
            "epoch:  3  batch:    6 [ 30000/60000]  loss: 0.71031016  accuracy:  75.947%\n",
            "epoch:  3  batch:    7 [ 35000/60000]  loss: 0.69981164  accuracy:  76.251%\n",
            "epoch:  3  batch:    8 [ 40000/60000]  loss: 0.70869529  accuracy:  76.460%\n",
            "epoch:  3  batch:    9 [ 45000/60000]  loss: 0.63835889  accuracy:  76.891%\n",
            "epoch:  3  batch:   10 [ 50000/60000]  loss: 0.62286884  accuracy:  77.284%\n",
            "epoch:  3  batch:   11 [ 55000/60000]  loss: 0.62912130  accuracy:  77.609%\n",
            "epoch:  3  batch:   12 [ 60000/60000]  loss: 0.58586508  accuracy:  77.935%\n",
            "epoch:  4  batch:    1 [  5000/60000]  loss: 0.62527162  accuracy:  81.060%\n",
            "epoch:  4  batch:    2 [ 10000/60000]  loss: 0.55884606  accuracy:  81.840%\n",
            "epoch:  4  batch:    3 [ 15000/60000]  loss: 0.55695385  accuracy:  82.213%\n",
            "epoch:  4  batch:    4 [ 20000/60000]  loss: 0.50533903  accuracy:  82.900%\n",
            "epoch:  4  batch:    5 [ 25000/60000]  loss: 0.52793652  accuracy:  83.348%\n",
            "epoch:  4  batch:    6 [ 30000/60000]  loss: 0.50594926  accuracy:  83.590%\n",
            "epoch:  4  batch:    7 [ 35000/60000]  loss: 0.49607426  accuracy:  83.826%\n",
            "epoch:  4  batch:    8 [ 40000/60000]  loss: 0.46168154  accuracy:  84.105%\n",
            "epoch:  4  batch:    9 [ 45000/60000]  loss: 0.46762726  accuracy:  84.293%\n",
            "epoch:  4  batch:   10 [ 50000/60000]  loss: 0.46742564  accuracy:  84.512%\n",
            "epoch:  4  batch:   11 [ 55000/60000]  loss: 0.43556026  accuracy:  84.762%\n",
            "epoch:  4  batch:   12 [ 60000/60000]  loss: 0.42930523  accuracy:  84.980%\n",
            "epoch:  5  batch:    1 [  5000/60000]  loss: 0.44082230  accuracy:  87.300%\n",
            "epoch:  5  batch:    2 [ 10000/60000]  loss: 0.44553852  accuracy:  87.190%\n",
            "epoch:  5  batch:    3 [ 15000/60000]  loss: 0.41199917  accuracy:  87.307%\n",
            "epoch:  5  batch:    4 [ 20000/60000]  loss: 0.40090787  accuracy:  87.500%\n",
            "epoch:  5  batch:    5 [ 25000/60000]  loss: 0.41813472  accuracy:  87.440%\n",
            "epoch:  5  batch:    6 [ 30000/60000]  loss: 0.39736238  accuracy:  87.547%\n",
            "epoch:  5  batch:    7 [ 35000/60000]  loss: 0.41030073  accuracy:  87.546%\n",
            "epoch:  5  batch:    8 [ 40000/60000]  loss: 0.36719188  accuracy:  87.683%\n",
            "epoch:  5  batch:    9 [ 45000/60000]  loss: 0.38472545  accuracy:  87.753%\n",
            "epoch:  5  batch:   10 [ 50000/60000]  loss: 0.35908991  accuracy:  87.894%\n",
            "epoch:  5  batch:   11 [ 55000/60000]  loss: 0.36090642  accuracy:  88.002%\n",
            "epoch:  5  batch:   12 [ 60000/60000]  loss: 0.38636336  accuracy:  88.032%\n",
            "epoch:  6  batch:    1 [  5000/60000]  loss: 0.36497843  accuracy:  89.160%\n",
            "epoch:  6  batch:    2 [ 10000/60000]  loss: 0.35337844  accuracy:  89.050%\n",
            "epoch:  6  batch:    3 [ 15000/60000]  loss: 0.37317747  accuracy:  89.027%\n",
            "epoch:  6  batch:    4 [ 20000/60000]  loss: 0.36481988  accuracy:  89.050%\n",
            "epoch:  6  batch:    5 [ 25000/60000]  loss: 0.35796195  accuracy:  89.168%\n",
            "epoch:  6  batch:    6 [ 30000/60000]  loss: 0.35257122  accuracy:  89.240%\n",
            "epoch:  6  batch:    7 [ 35000/60000]  loss: 0.32125443  accuracy:  89.380%\n",
            "epoch:  6  batch:    8 [ 40000/60000]  loss: 0.30891055  accuracy:  89.502%\n",
            "epoch:  6  batch:    9 [ 45000/60000]  loss: 0.31566840  accuracy:  89.562%\n",
            "epoch:  6  batch:   10 [ 50000/60000]  loss: 0.30606717  accuracy:  89.664%\n",
            "epoch:  6  batch:   11 [ 55000/60000]  loss: 0.32120296  accuracy:  89.705%\n",
            "epoch:  6  batch:   12 [ 60000/60000]  loss: 0.31307676  accuracy:  89.770%\n",
            "epoch:  7  batch:    1 [  5000/60000]  loss: 0.30706471  accuracy:  90.780%\n",
            "epoch:  7  batch:    2 [ 10000/60000]  loss: 0.32496655  accuracy:  90.480%\n",
            "epoch:  7  batch:    3 [ 15000/60000]  loss: 0.30780023  accuracy:  90.600%\n",
            "epoch:  7  batch:    4 [ 20000/60000]  loss: 0.29377311  accuracy:  90.770%\n",
            "epoch:  7  batch:    5 [ 25000/60000]  loss: 0.29392195  accuracy:  90.828%\n",
            "epoch:  7  batch:    6 [ 30000/60000]  loss: 0.32655045  accuracy:  90.733%\n",
            "epoch:  7  batch:    7 [ 35000/60000]  loss: 0.29083925  accuracy:  90.746%\n",
            "epoch:  7  batch:    8 [ 40000/60000]  loss: 0.29920757  accuracy:  90.800%\n",
            "epoch:  7  batch:    9 [ 45000/60000]  loss: 0.27794579  accuracy:  90.904%\n",
            "epoch:  7  batch:   10 [ 50000/60000]  loss: 0.27659208  accuracy:  90.954%\n",
            "epoch:  7  batch:   11 [ 55000/60000]  loss: 0.26395229  accuracy:  91.040%\n",
            "epoch:  7  batch:   12 [ 60000/60000]  loss: 0.28925943  accuracy:  91.045%\n",
            "epoch:  8  batch:    1 [  5000/60000]  loss: 0.29136789  accuracy:  91.620%\n",
            "epoch:  8  batch:    2 [ 10000/60000]  loss: 0.27638021  accuracy:  91.590%\n",
            "epoch:  8  batch:    3 [ 15000/60000]  loss: 0.27514803  accuracy:  91.507%\n",
            "epoch:  8  batch:    4 [ 20000/60000]  loss: 0.25927132  accuracy:  91.615%\n",
            "epoch:  8  batch:    5 [ 25000/60000]  loss: 0.26394594  accuracy:  91.624%\n",
            "epoch:  8  batch:    6 [ 30000/60000]  loss: 0.26924551  accuracy:  91.683%\n",
            "epoch:  8  batch:    7 [ 35000/60000]  loss: 0.25888771  accuracy:  91.703%\n",
            "epoch:  8  batch:    8 [ 40000/60000]  loss: 0.25792569  accuracy:  91.800%\n",
            "epoch:  8  batch:    9 [ 45000/60000]  loss: 0.25794560  accuracy:  91.833%\n",
            "epoch:  8  batch:   10 [ 50000/60000]  loss: 0.25274900  accuracy:  91.928%\n",
            "epoch:  8  batch:   11 [ 55000/60000]  loss: 0.24762878  accuracy:  91.996%\n",
            "epoch:  8  batch:   12 [ 60000/60000]  loss: 0.24663831  accuracy:  92.048%\n",
            "epoch:  9  batch:    1 [  5000/60000]  loss: 0.24122532  accuracy:  93.020%\n",
            "epoch:  9  batch:    2 [ 10000/60000]  loss: 0.24996899  accuracy:  92.550%\n",
            "epoch:  9  batch:    3 [ 15000/60000]  loss: 0.24469614  accuracy:  92.693%\n",
            "epoch:  9  batch:    4 [ 20000/60000]  loss: 0.24651043  accuracy:  92.600%\n",
            "epoch:  9  batch:    5 [ 25000/60000]  loss: 0.23411475  accuracy:  92.724%\n",
            "epoch:  9  batch:    6 [ 30000/60000]  loss: 0.24165191  accuracy:  92.777%\n",
            "epoch:  9  batch:    7 [ 35000/60000]  loss: 0.24276832  accuracy:  92.749%\n",
            "epoch:  9  batch:    8 [ 40000/60000]  loss: 0.23138967  accuracy:  92.820%\n",
            "epoch:  9  batch:    9 [ 45000/60000]  loss: 0.22931701  accuracy:  92.842%\n",
            "epoch:  9  batch:   10 [ 50000/60000]  loss: 0.21710877  accuracy:  92.916%\n",
            "epoch:  9  batch:   11 [ 55000/60000]  loss: 0.20953897  accuracy:  93.029%\n",
            "epoch:  9  batch:   12 [ 60000/60000]  loss: 0.22604677  accuracy:  93.020%\n",
            "epoch: 10  batch:    1 [  5000/60000]  loss: 0.21706577  accuracy:  93.600%\n",
            "epoch: 10  batch:    2 [ 10000/60000]  loss: 0.23087087  accuracy:  93.260%\n",
            "epoch: 10  batch:    3 [ 15000/60000]  loss: 0.21730493  accuracy:  93.387%\n",
            "epoch: 10  batch:    4 [ 20000/60000]  loss: 0.22060938  accuracy:  93.455%\n",
            "epoch: 10  batch:    5 [ 25000/60000]  loss: 0.21367021  accuracy:  93.488%\n",
            "epoch: 10  batch:    6 [ 30000/60000]  loss: 0.21280596  accuracy:  93.560%\n",
            "epoch: 10  batch:    7 [ 35000/60000]  loss: 0.19553398  accuracy:  93.634%\n",
            "epoch: 10  batch:    8 [ 40000/60000]  loss: 0.19953507  accuracy:  93.707%\n",
            "epoch: 10  batch:    9 [ 45000/60000]  loss: 0.20123751  accuracy:  93.720%\n",
            "epoch: 10  batch:   10 [ 50000/60000]  loss: 0.21681008  accuracy:  93.684%\n",
            "epoch: 10  batch:   11 [ 55000/60000]  loss: 0.18785033  accuracy:  93.722%\n",
            "epoch: 10  batch:   12 [ 60000/60000]  loss: 0.21631865  accuracy:  93.728%\n",
            "epoch: 11  batch:    1 [  5000/60000]  loss: 0.21405308  accuracy:  93.500%\n",
            "epoch: 11  batch:    2 [ 10000/60000]  loss: 0.19274123  accuracy:  93.830%\n",
            "epoch: 11  batch:    3 [ 15000/60000]  loss: 0.18313737  accuracy:  94.140%\n",
            "epoch: 11  batch:    4 [ 20000/60000]  loss: 0.17706712  accuracy:  94.220%\n",
            "epoch: 11  batch:    5 [ 25000/60000]  loss: 0.20549382  accuracy:  94.104%\n",
            "epoch: 11  batch:    6 [ 30000/60000]  loss: 0.19646125  accuracy:  94.100%\n",
            "epoch: 11  batch:    7 [ 35000/60000]  loss: 0.20037068  accuracy:  94.126%\n",
            "epoch: 11  batch:    8 [ 40000/60000]  loss: 0.19091818  accuracy:  94.168%\n",
            "epoch: 11  batch:    9 [ 45000/60000]  loss: 0.18486367  accuracy:  94.211%\n",
            "epoch: 11  batch:   10 [ 50000/60000]  loss: 0.17924604  accuracy:  94.236%\n",
            "epoch: 11  batch:   11 [ 55000/60000]  loss: 0.17869240  accuracy:  94.269%\n",
            "epoch: 11  batch:   12 [ 60000/60000]  loss: 0.17187385  accuracy:  94.305%\n",
            "epoch: 12  batch:    1 [  5000/60000]  loss: 0.17873767  accuracy:  94.380%\n",
            "epoch: 12  batch:    2 [ 10000/60000]  loss: 0.17491235  accuracy:  94.660%\n",
            "epoch: 12  batch:    3 [ 15000/60000]  loss: 0.16952091  accuracy:  94.693%\n",
            "epoch: 12  batch:    4 [ 20000/60000]  loss: 0.19142820  accuracy:  94.585%\n",
            "epoch: 12  batch:    5 [ 25000/60000]  loss: 0.17816530  accuracy:  94.628%\n",
            "epoch: 12  batch:    6 [ 30000/60000]  loss: 0.16447128  accuracy:  94.717%\n",
            "epoch: 12  batch:    7 [ 35000/60000]  loss: 0.17966488  accuracy:  94.711%\n",
            "epoch: 12  batch:    8 [ 40000/60000]  loss: 0.15788823  accuracy:  94.780%\n",
            "epoch: 12  batch:    9 [ 45000/60000]  loss: 0.17166604  accuracy:  94.776%\n",
            "epoch: 12  batch:   10 [ 50000/60000]  loss: 0.16525650  accuracy:  94.808%\n",
            "epoch: 12  batch:   11 [ 55000/60000]  loss: 0.17264767  accuracy:  94.809%\n",
            "epoch: 12  batch:   12 [ 60000/60000]  loss: 0.15011105  accuracy:  94.872%\n",
            "epoch: 13  batch:    1 [  5000/60000]  loss: 0.16328298  accuracy:  95.240%\n",
            "epoch: 13  batch:    2 [ 10000/60000]  loss: 0.15030818  accuracy:  95.390%\n",
            "epoch: 13  batch:    3 [ 15000/60000]  loss: 0.16495740  accuracy:  95.233%\n",
            "epoch: 13  batch:    4 [ 20000/60000]  loss: 0.15568772  accuracy:  95.250%\n",
            "epoch: 13  batch:    5 [ 25000/60000]  loss: 0.16369507  accuracy:  95.204%\n",
            "epoch: 13  batch:    6 [ 30000/60000]  loss: 0.15340887  accuracy:  95.217%\n",
            "epoch: 13  batch:    7 [ 35000/60000]  loss: 0.15655607  accuracy:  95.246%\n",
            "epoch: 13  batch:    8 [ 40000/60000]  loss: 0.14535661  accuracy:  95.272%\n",
            "epoch: 13  batch:    9 [ 45000/60000]  loss: 0.16664612  accuracy:  95.233%\n",
            "epoch: 13  batch:   10 [ 50000/60000]  loss: 0.14785719  accuracy:  95.252%\n",
            "epoch: 13  batch:   11 [ 55000/60000]  loss: 0.13798600  accuracy:  95.295%\n",
            "epoch: 13  batch:   12 [ 60000/60000]  loss: 0.15364641  accuracy:  95.322%\n",
            "epoch: 14  batch:    1 [  5000/60000]  loss: 0.13486846  accuracy:  95.900%\n",
            "epoch: 14  batch:    2 [ 10000/60000]  loss: 0.15686223  accuracy:  95.530%\n",
            "epoch: 14  batch:    3 [ 15000/60000]  loss: 0.13904902  accuracy:  95.673%\n",
            "epoch: 14  batch:    4 [ 20000/60000]  loss: 0.14346220  accuracy:  95.655%\n",
            "epoch: 14  batch:    5 [ 25000/60000]  loss: 0.14709508  accuracy:  95.592%\n",
            "epoch: 14  batch:    6 [ 30000/60000]  loss: 0.14774218  accuracy:  95.590%\n",
            "epoch: 14  batch:    7 [ 35000/60000]  loss: 0.13800550  accuracy:  95.623%\n",
            "epoch: 14  batch:    8 [ 40000/60000]  loss: 0.14162812  accuracy:  95.635%\n",
            "epoch: 14  batch:    9 [ 45000/60000]  loss: 0.13350371  accuracy:  95.664%\n",
            "epoch: 14  batch:   10 [ 50000/60000]  loss: 0.14574586  accuracy:  95.664%\n",
            "epoch: 14  batch:   11 [ 55000/60000]  loss: 0.14062366  accuracy:  95.645%\n",
            "epoch: 14  batch:   12 [ 60000/60000]  loss: 0.14444269  accuracy:  95.658%\n",
            "epoch: 15  batch:    1 [  5000/60000]  loss: 0.13285583  accuracy:  95.960%\n",
            "epoch: 15  batch:    2 [ 10000/60000]  loss: 0.14731900  accuracy:  95.670%\n",
            "epoch: 15  batch:    3 [ 15000/60000]  loss: 0.14749818  accuracy:  95.687%\n",
            "epoch: 15  batch:    4 [ 20000/60000]  loss: 0.14149618  accuracy:  95.740%\n",
            "epoch: 15  batch:    5 [ 25000/60000]  loss: 0.12901640  accuracy:  95.776%\n",
            "epoch: 15  batch:    6 [ 30000/60000]  loss: 0.12684436  accuracy:  95.847%\n",
            "epoch: 15  batch:    7 [ 35000/60000]  loss: 0.13154204  accuracy:  95.883%\n",
            "epoch: 15  batch:    8 [ 40000/60000]  loss: 0.11363411  accuracy:  95.957%\n",
            "epoch: 15  batch:    9 [ 45000/60000]  loss: 0.12852955  accuracy:  95.969%\n",
            "epoch: 15  batch:   10 [ 50000/60000]  loss: 0.13317330  accuracy:  95.964%\n",
            "epoch: 15  batch:   11 [ 55000/60000]  loss: 0.13098361  accuracy:  95.971%\n",
            "epoch: 15  batch:   12 [ 60000/60000]  loss: 0.12628455  accuracy:  95.995%\n",
            "epoch: 16  batch:    1 [  5000/60000]  loss: 0.13177142  accuracy:  96.340%\n",
            "epoch: 16  batch:    2 [ 10000/60000]  loss: 0.13329838  accuracy:  96.240%\n",
            "epoch: 16  batch:    3 [ 15000/60000]  loss: 0.13075384  accuracy:  96.180%\n",
            "epoch: 16  batch:    4 [ 20000/60000]  loss: 0.12727377  accuracy:  96.135%\n",
            "epoch: 16  batch:    5 [ 25000/60000]  loss: 0.12641127  accuracy:  96.116%\n",
            "epoch: 16  batch:    6 [ 30000/60000]  loss: 0.11846281  accuracy:  96.163%\n",
            "epoch: 16  batch:    7 [ 35000/60000]  loss: 0.11321253  accuracy:  96.197%\n",
            "epoch: 16  batch:    8 [ 40000/60000]  loss: 0.13462447  accuracy:  96.150%\n",
            "epoch: 16  batch:    9 [ 45000/60000]  loss: 0.12348516  accuracy:  96.158%\n",
            "epoch: 16  batch:   10 [ 50000/60000]  loss: 0.12021872  accuracy:  96.168%\n",
            "epoch: 16  batch:   11 [ 55000/60000]  loss: 0.12862605  accuracy:  96.169%\n",
            "epoch: 16  batch:   12 [ 60000/60000]  loss: 0.11635884  accuracy:  96.207%\n",
            "epoch: 17  batch:    1 [  5000/60000]  loss: 0.11221721  accuracy:  96.800%\n",
            "epoch: 17  batch:    2 [ 10000/60000]  loss: 0.11769873  accuracy:  96.750%\n",
            "epoch: 17  batch:    3 [ 15000/60000]  loss: 0.12059596  accuracy:  96.593%\n",
            "epoch: 17  batch:    4 [ 20000/60000]  loss: 0.10590053  accuracy:  96.705%\n",
            "epoch: 17  batch:    5 [ 25000/60000]  loss: 0.11474885  accuracy:  96.676%\n",
            "epoch: 17  batch:    6 [ 30000/60000]  loss: 0.10845716  accuracy:  96.647%\n",
            "epoch: 17  batch:    7 [ 35000/60000]  loss: 0.11077835  accuracy:  96.617%\n",
            "epoch: 17  batch:    8 [ 40000/60000]  loss: 0.11830392  accuracy:  96.597%\n",
            "epoch: 17  batch:    9 [ 45000/60000]  loss: 0.11989810  accuracy:  96.558%\n",
            "epoch: 17  batch:   10 [ 50000/60000]  loss: 0.11898509  accuracy:  96.538%\n",
            "epoch: 17  batch:   11 [ 55000/60000]  loss: 0.11500651  accuracy:  96.531%\n",
            "epoch: 17  batch:   12 [ 60000/60000]  loss: 0.12698370  accuracy:  96.493%\n",
            "epoch: 18  batch:    1 [  5000/60000]  loss: 0.10828945  accuracy:  96.920%\n",
            "epoch: 18  batch:    2 [ 10000/60000]  loss: 0.12116134  accuracy:  96.540%\n",
            "epoch: 18  batch:    3 [ 15000/60000]  loss: 0.11090636  accuracy:  96.513%\n",
            "epoch: 18  batch:    4 [ 20000/60000]  loss: 0.11569304  accuracy:  96.500%\n",
            "epoch: 18  batch:    5 [ 25000/60000]  loss: 0.10116833  accuracy:  96.620%\n",
            "epoch: 18  batch:    6 [ 30000/60000]  loss: 0.10834517  accuracy:  96.637%\n",
            "epoch: 18  batch:    7 [ 35000/60000]  loss: 0.09894382  accuracy:  96.700%\n",
            "epoch: 18  batch:    8 [ 40000/60000]  loss: 0.10626603  accuracy:  96.695%\n",
            "epoch: 18  batch:    9 [ 45000/60000]  loss: 0.11531449  accuracy:  96.713%\n",
            "epoch: 18  batch:   10 [ 50000/60000]  loss: 0.11572149  accuracy:  96.712%\n",
            "epoch: 18  batch:   11 [ 55000/60000]  loss: 0.10502034  accuracy:  96.702%\n",
            "epoch: 18  batch:   12 [ 60000/60000]  loss: 0.11426196  accuracy:  96.685%\n",
            "epoch: 19  batch:    1 [  5000/60000]  loss: 0.10868113  accuracy:  96.740%\n",
            "epoch: 19  batch:    2 [ 10000/60000]  loss: 0.10962363  accuracy:  96.600%\n",
            "epoch: 19  batch:    3 [ 15000/60000]  loss: 0.11251587  accuracy:  96.560%\n",
            "epoch: 19  batch:    4 [ 20000/60000]  loss: 0.09831493  accuracy:  96.735%\n",
            "epoch: 19  batch:    5 [ 25000/60000]  loss: 0.09699416  accuracy:  96.804%\n",
            "epoch: 19  batch:    6 [ 30000/60000]  loss: 0.11201609  accuracy:  96.783%\n",
            "epoch: 19  batch:    7 [ 35000/60000]  loss: 0.10878882  accuracy:  96.763%\n",
            "epoch: 19  batch:    8 [ 40000/60000]  loss: 0.10870799  accuracy:  96.808%\n",
            "epoch: 19  batch:    9 [ 45000/60000]  loss: 0.10760757  accuracy:  96.760%\n",
            "epoch: 19  batch:   10 [ 50000/60000]  loss: 0.10996238  accuracy:  96.748%\n",
            "epoch: 19  batch:   11 [ 55000/60000]  loss: 0.10428914  accuracy:  96.755%\n",
            "epoch: 19  batch:   12 [ 60000/60000]  loss: 0.08766395  accuracy:  96.807%\n",
            "epoch: 20  batch:    1 [  5000/60000]  loss: 0.09038789  accuracy:  97.020%\n",
            "epoch: 20  batch:    2 [ 10000/60000]  loss: 0.10370508  accuracy:  96.880%\n",
            "epoch: 20  batch:    3 [ 15000/60000]  loss: 0.09743757  accuracy:  96.947%\n",
            "epoch: 20  batch:    4 [ 20000/60000]  loss: 0.11463714  accuracy:  96.825%\n",
            "epoch: 20  batch:    5 [ 25000/60000]  loss: 0.09372832  accuracy:  96.896%\n",
            "epoch: 20  batch:    6 [ 30000/60000]  loss: 0.10060365  accuracy:  96.940%\n",
            "epoch: 20  batch:    7 [ 35000/60000]  loss: 0.10508210  accuracy:  96.957%\n",
            "epoch: 20  batch:    8 [ 40000/60000]  loss: 0.10291361  accuracy:  96.970%\n",
            "epoch: 20  batch:    9 [ 45000/60000]  loss: 0.11613960  accuracy:  96.918%\n",
            "epoch: 20  batch:   10 [ 50000/60000]  loss: 0.09935452  accuracy:  96.920%\n",
            "epoch: 20  batch:   11 [ 55000/60000]  loss: 0.09607191  accuracy:  96.944%\n",
            "epoch: 20  batch:   12 [ 60000/60000]  loss: 0.08512803  accuracy:  96.978%\n",
            "epoch: 21  batch:    1 [  5000/60000]  loss: 0.09813926  accuracy:  97.180%\n",
            "epoch: 21  batch:    2 [ 10000/60000]  loss: 0.09098669  accuracy:  97.130%\n",
            "epoch: 21  batch:    3 [ 15000/60000]  loss: 0.09363721  accuracy:  97.093%\n",
            "epoch: 21  batch:    4 [ 20000/60000]  loss: 0.09761114  accuracy:  97.080%\n",
            "epoch: 21  batch:    5 [ 25000/60000]  loss: 0.09138507  accuracy:  97.128%\n",
            "epoch: 21  batch:    6 [ 30000/60000]  loss: 0.09259809  accuracy:  97.140%\n",
            "epoch: 21  batch:    7 [ 35000/60000]  loss: 0.10095236  accuracy:  97.123%\n",
            "epoch: 21  batch:    8 [ 40000/60000]  loss: 0.09744199  accuracy:  97.125%\n",
            "epoch: 21  batch:    9 [ 45000/60000]  loss: 0.08317055  accuracy:  97.162%\n",
            "epoch: 21  batch:   10 [ 50000/60000]  loss: 0.10253931  accuracy:  97.136%\n",
            "epoch: 21  batch:   11 [ 55000/60000]  loss: 0.09108233  accuracy:  97.149%\n",
            "epoch: 21  batch:   12 [ 60000/60000]  loss: 0.10639749  accuracy:  97.120%\n",
            "epoch: 22  batch:    1 [  5000/60000]  loss: 0.09723435  accuracy:  96.860%\n",
            "epoch: 22  batch:    2 [ 10000/60000]  loss: 0.08962101  accuracy:  97.150%\n",
            "epoch: 22  batch:    3 [ 15000/60000]  loss: 0.09868485  accuracy:  97.087%\n",
            "epoch: 22  batch:    4 [ 20000/60000]  loss: 0.09066985  accuracy:  97.160%\n",
            "epoch: 22  batch:    5 [ 25000/60000]  loss: 0.09925874  accuracy:  97.160%\n",
            "epoch: 22  batch:    6 [ 30000/60000]  loss: 0.08516163  accuracy:  97.193%\n",
            "epoch: 22  batch:    7 [ 35000/60000]  loss: 0.08846038  accuracy:  97.260%\n",
            "epoch: 22  batch:    8 [ 40000/60000]  loss: 0.09233931  accuracy:  97.228%\n",
            "epoch: 22  batch:    9 [ 45000/60000]  loss: 0.08871607  accuracy:  97.249%\n",
            "epoch: 22  batch:   10 [ 50000/60000]  loss: 0.09017001  accuracy:  97.246%\n",
            "epoch: 22  batch:   11 [ 55000/60000]  loss: 0.09829925  accuracy:  97.227%\n",
            "epoch: 22  batch:   12 [ 60000/60000]  loss: 0.09142447  accuracy:  97.227%\n",
            "epoch: 23  batch:    1 [  5000/60000]  loss: 0.07329284  accuracy:  97.780%\n",
            "epoch: 23  batch:    2 [ 10000/60000]  loss: 0.09617651  accuracy:  97.340%\n",
            "epoch: 23  batch:    3 [ 15000/60000]  loss: 0.08629899  accuracy:  97.367%\n",
            "epoch: 23  batch:    4 [ 20000/60000]  loss: 0.09671238  accuracy:  97.355%\n",
            "epoch: 23  batch:    5 [ 25000/60000]  loss: 0.08863965  accuracy:  97.356%\n",
            "epoch: 23  batch:    6 [ 30000/60000]  loss: 0.09477857  accuracy:  97.327%\n",
            "epoch: 23  batch:    7 [ 35000/60000]  loss: 0.08467127  accuracy:  97.329%\n",
            "epoch: 23  batch:    8 [ 40000/60000]  loss: 0.08564174  accuracy:  97.355%\n",
            "epoch: 23  batch:    9 [ 45000/60000]  loss: 0.09247841  accuracy:  97.340%\n",
            "epoch: 23  batch:   10 [ 50000/60000]  loss: 0.09465862  accuracy:  97.290%\n",
            "epoch: 23  batch:   11 [ 55000/60000]  loss: 0.08179405  accuracy:  97.316%\n",
            "epoch: 23  batch:   12 [ 60000/60000]  loss: 0.08857327  accuracy:  97.313%\n",
            "epoch: 24  batch:    1 [  5000/60000]  loss: 0.08970044  accuracy:  97.220%\n",
            "epoch: 24  batch:    2 [ 10000/60000]  loss: 0.07884465  accuracy:  97.340%\n",
            "epoch: 24  batch:    3 [ 15000/60000]  loss: 0.08869618  accuracy:  97.300%\n",
            "epoch: 24  batch:    4 [ 20000/60000]  loss: 0.07749053  accuracy:  97.370%\n",
            "epoch: 24  batch:    5 [ 25000/60000]  loss: 0.10376265  accuracy:  97.332%\n",
            "epoch: 24  batch:    6 [ 30000/60000]  loss: 0.08240876  accuracy:  97.333%\n",
            "epoch: 24  batch:    7 [ 35000/60000]  loss: 0.08453880  accuracy:  97.326%\n",
            "epoch: 24  batch:    8 [ 40000/60000]  loss: 0.08783298  accuracy:  97.295%\n",
            "epoch: 24  batch:    9 [ 45000/60000]  loss: 0.07781303  accuracy:  97.329%\n",
            "epoch: 24  batch:   10 [ 50000/60000]  loss: 0.08112425  accuracy:  97.348%\n",
            "epoch: 24  batch:   11 [ 55000/60000]  loss: 0.08835617  accuracy:  97.369%\n",
            "epoch: 24  batch:   12 [ 60000/60000]  loss: 0.08563954  accuracy:  97.385%\n",
            "\n",
            "Duration: 643 seconds\n"
          ],
          "name": "stdout"
        }
      ]
    },
    {
      "cell_type": "code",
      "metadata": {
        "id": "5Ri0r3G0afjo"
      },
      "source": [
        "test_load_all = DataLoader(test_data, batch_size=10000, shuffle=False)"
      ],
      "execution_count": 42,
      "outputs": []
    },
    {
      "cell_type": "code",
      "metadata": {
        "colab": {
          "base_uri": "https://localhost:8080/"
        },
        "id": "9hx6F_Zkehkp",
        "outputId": "02a6bdde-0096-4c4e-b9d7-2e9274b4f7ca"
      },
      "source": [
        "np.set_printoptions(formatter=dict(int=lambda x: f'{x:4}'))\n",
        "print(np.arange(10).reshape(1,10))\n",
        "print()\n",
        "print(confusion_matrix(predicted.view(-1), y_test.view(-1)))"
      ],
      "execution_count": 43,
      "outputs": [
        {
          "output_type": "stream",
          "text": [
            "[[   0    1    2    3    4    5    6    7    8    9]]\n",
            "\n",
            "[[ 101    0    2    0    0    1    1    0    0    0]\n",
            " [   0  119    0    0    0    0    0    0    0    0]\n",
            " [   1    0   94    0    1    0    0    4    0    0]\n",
            " [   0    0    1  101    0    0    1    0    0    0]\n",
            " [   0    0    0    0   90    0    0    0    0    1]\n",
            " [   0    0    1    0    0   81    1    0    1    1]\n",
            " [   0    0    0    0    0    3   99    0    0    0]\n",
            " [   0    0    1    0    0    0    0  111    0    2]\n",
            " [   0    0    0    0    0    0    0    0   93    0]\n",
            " [   0    0    0    1    1    0    0    0    0   86]]\n"
          ],
          "name": "stdout"
        }
      ]
    },
    {
      "cell_type": "code",
      "metadata": {
        "colab": {
          "base_uri": "https://localhost:8080/"
        },
        "id": "8Bg9jU1AjT-i",
        "outputId": "94400124-54da-4238-a7b9-12f5aedd7df3"
      },
      "source": [
        "misses = np.array([])\n",
        "for i in range(len(predicted.view(-1))):\n",
        "    if predicted[i] != y_test[i]:\n",
        "        misses = np.append(misses,i).astype('int64')\n",
        "len(misses)"
      ],
      "execution_count": 44,
      "outputs": [
        {
          "output_type": "execute_result",
          "data": {
            "text/plain": [
              "25"
            ]
          },
          "metadata": {
            "tags": []
          },
          "execution_count": 44
        }
      ]
    },
    {
      "cell_type": "code",
      "metadata": {
        "id": "NECbX4ESjW7S"
      },
      "source": [
        "r = 12  \n",
        "row = iter(np.array_split(misses,len(misses)//r+1))"
      ],
      "execution_count": 45,
      "outputs": []
    },
    {
      "cell_type": "code",
      "metadata": {
        "colab": {
          "base_uri": "https://localhost:8080/",
          "height": 192
        },
        "id": "SSmdpRA_jZOe",
        "outputId": "235be387-e560-43c7-eeb1-f1e6c1e137cc"
      },
      "source": [
        "nextrow = next(row)\n",
        "print(\"Index:\", nextrow)\n",
        "print(\"Label:\", y_test.index_select(0,torch.tensor(nextrow)).numpy())\n",
        "print(\"Guess:\", predicted.index_select(0,torch.tensor(nextrow)).numpy())\n",
        "\n",
        "images = x_test.index_select(0,torch.tensor(nextrow))\n",
        "im = make_grid(images, nrow=r)\n",
        "plt.figure(figsize=(10,4))\n",
        "plt.imshow(np.transpose(im.numpy(), (1, 2, 0)))"
      ],
      "execution_count": 47,
      "outputs": [
        {
          "output_type": "stream",
          "text": [
            "Index: [ 679  692  698  716  729  745  749  768]\n",
            "Label: [   6    9    6    2    5    4    5    2]\n",
            "Guess: [   3    7    5    3    6    2    6    0]\n"
          ],
          "name": "stdout"
        },
        {
          "output_type": "execute_result",
          "data": {
            "text/plain": [
              "<matplotlib.image.AxesImage at 0x7fee2857b790>"
            ]
          },
          "metadata": {
            "tags": []
          },
          "execution_count": 47
        },
        {
          "output_type": "display_data",
          "data": {
            "image/png": "[encoded data removed]",
            "text/plain": [
              "<Figure size 720x288 with 1 Axes>"
            ]
          },
          "metadata": {
            "tags": [],
            "needs_background": "light"
          }
        }
      ]
    },
    {
      "cell_type": "code",
      "metadata": {
        "id": "kUP2jtC8jb01"
      },
      "source": [
        ""
      ],
      "execution_count": null,
      "outputs": []
    }
  ]
}