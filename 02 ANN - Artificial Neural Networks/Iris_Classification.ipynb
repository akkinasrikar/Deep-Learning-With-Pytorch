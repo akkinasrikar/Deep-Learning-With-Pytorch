{
  "nbformat": 4,
  "nbformat_minor": 0,
  "metadata": {
    "colab": {
      "name": "Iris Classification.ipynb",
      "provenance": [],
      "collapsed_sections": []
    },
    "kernelspec": {
      "name": "python3",
      "display_name": "Python 3"
    },
    "language_info": {
      "name": "python"
    }
  },
  "cells": [
    {
      "cell_type": "code",
      "metadata": {
        "id": "LYfdxUZ9z35J"
      },
      "source": [
        "import torch\n",
        "import torch.nn as nn\n",
        "import torch.nn.functional as F"
      ],
      "execution_count": 1,
      "outputs": []
    },
    {
      "cell_type": "code",
      "metadata": {
        "id": "_K52u70o0SpG"
      },
      "source": [
        "class Model(nn.Module):\n",
        "\n",
        "  def __init__(self,in_features=4,h1=8,h2=9,out_features=3):\n",
        "    super().__init__()\n",
        "    self.fc1=nn.Linear(in_features,h1)\n",
        "    self.fc2=nn.Linear(h1,h2)\n",
        "    self.out=nn.Linear(h2,out_features)\n",
        "  \n",
        "  def forward(self,x):\n",
        "    x=F.relu(self.fc1(x))\n",
        "    x=F.relu(self.fc2(x))\n",
        "    x=self.out(x)\n",
        "    return x"
      ],
      "execution_count": 2,
      "outputs": []
    },
    {
      "cell_type": "code",
      "metadata": {
        "id": "2bSUDl3h1ko3"
      },
      "source": [
        "model=Model()"
      ],
      "execution_count": 3,
      "outputs": []
    },
    {
      "cell_type": "code",
      "metadata": {
        "id": "jj5AE23g1oQK"
      },
      "source": [
        "import pandas as pd\n",
        "import matplotlib.pyplot as plt\n",
        "%matplotlib inline"
      ],
      "execution_count": 4,
      "outputs": []
    },
    {
      "cell_type": "code",
      "metadata": {
        "id": "w7cF6MEh2eXm"
      },
      "source": [
        "df=pd.read_csv(\"/content/iris.csv\")"
      ],
      "execution_count": 5,
      "outputs": []
    },
    {
      "cell_type": "code",
      "metadata": {
        "id": "56EVNnYA2mSa"
      },
      "source": [
        "from sklearn.model_selection import train_test_split\n",
        "import numpy as np"
      ],
      "execution_count": 6,
      "outputs": []
    },
    {
      "cell_type": "code",
      "metadata": {
        "id": "AMmRE-7r2332"
      },
      "source": [
        "features=df.drop('target',axis=1).values\n",
        "labels=df['target'].values"
      ],
      "execution_count": 7,
      "outputs": []
    },
    {
      "cell_type": "code",
      "metadata": {
        "id": "VRjOiH9p26He"
      },
      "source": [
        "x_train,x_test,y_train,y_test=train_test_split(features,labels,test_size=0.3,random_state=25)"
      ],
      "execution_count": 8,
      "outputs": []
    },
    {
      "cell_type": "code",
      "metadata": {
        "id": "tI33eH-y3ELQ"
      },
      "source": [
        "x_train=torch.FloatTensor(x_train)\n",
        "x_test=torch.FloatTensor(x_test)"
      ],
      "execution_count": 9,
      "outputs": []
    },
    {
      "cell_type": "code",
      "metadata": {
        "id": "dm3wlZQM3INh"
      },
      "source": [
        "y_test=torch.LongTensor(y_test)\n",
        "y_train=torch.LongTensor(y_train)"
      ],
      "execution_count": 10,
      "outputs": []
    },
    {
      "cell_type": "code",
      "metadata": {
        "colab": {
          "base_uri": "https://localhost:8080/"
        },
        "id": "7mwQI2Zl37Sq",
        "outputId": "a0add46d-db9c-491b-ed69-0f1371f1d398"
      },
      "source": [
        "model.parameters"
      ],
      "execution_count": 11,
      "outputs": [
        {
          "output_type": "execute_result",
          "data": {
            "text/plain": [
              "<bound method Module.parameters of Model(\n",
              "  (fc1): Linear(in_features=4, out_features=8, bias=True)\n",
              "  (fc2): Linear(in_features=8, out_features=9, bias=True)\n",
              "  (out): Linear(in_features=9, out_features=3, bias=True)\n",
              ")>"
            ]
          },
          "metadata": {
            "tags": []
          },
          "execution_count": 11
        }
      ]
    },
    {
      "cell_type": "code",
      "metadata": {
        "colab": {
          "base_uri": "https://localhost:8080/"
        },
        "id": "C6HUx-3O3NFx",
        "outputId": "a697a8ad-8863-4236-e408-7573dea9ff78"
      },
      "source": [
        "criterion=nn.CrossEntropyLoss()\n",
        "optimizer=torch.optim.Adam(model.parameters(),lr=0.01)\n",
        "epochs=300\n",
        "losses=[]\n",
        "for i in range(epochs):\n",
        "  # forward and get predictions\n",
        "  y_pred=model.forward(x_train)\n",
        "  #calculate loss/error\n",
        "  loss=criterion(y_pred,y_train)\n",
        "  losses.append(loss)\n",
        "  if i%10==0:\n",
        "    print(f\"Epoch: {i} Loss: {loss} \")\n",
        "  #backpropagation \n",
        "  optimizer.zero_grad()\n",
        "  loss.backward()\n",
        "  optimizer.step()"
      ],
      "execution_count": 12,
      "outputs": [
        {
          "output_type": "stream",
          "text": [
            "Epoch: 0 Loss: 1.167543888092041 \n",
            "Epoch: 10 Loss: 1.012305736541748 \n",
            "Epoch: 20 Loss: 0.7869352698326111 \n",
            "Epoch: 30 Loss: 0.4861556589603424 \n",
            "Epoch: 40 Loss: 0.30292433500289917 \n",
            "Epoch: 50 Loss: 0.1789674311876297 \n",
            "Epoch: 60 Loss: 0.10532747954130173 \n",
            "Epoch: 70 Loss: 0.07101614773273468 \n",
            "Epoch: 80 Loss: 0.05729768052697182 \n",
            "Epoch: 90 Loss: 0.05052667856216431 \n",
            "Epoch: 100 Loss: 0.04670087993144989 \n",
            "Epoch: 110 Loss: 0.04412221163511276 \n",
            "Epoch: 120 Loss: 0.042177144438028336 \n",
            "Epoch: 130 Loss: 0.04059150442481041 \n",
            "Epoch: 140 Loss: 0.0392274484038353 \n",
            "Epoch: 150 Loss: 0.038012076169252396 \n",
            "Epoch: 160 Loss: 0.03690338879823685 \n",
            "Epoch: 170 Loss: 0.03587673231959343 \n",
            "Epoch: 180 Loss: 0.034915849566459656 \n",
            "Epoch: 190 Loss: 0.034010354429483414 \n",
            "Epoch: 200 Loss: 0.03315320238471031 \n",
            "Epoch: 210 Loss: 0.032339729368686676 \n",
            "Epoch: 220 Loss: 0.031566720455884933 \n",
            "Epoch: 230 Loss: 0.03126665577292442 \n",
            "Epoch: 240 Loss: 0.030168810859322548 \n",
            "Epoch: 250 Loss: 0.02956666238605976 \n",
            "Epoch: 260 Loss: 0.02896479144692421 \n",
            "Epoch: 270 Loss: 0.028377002105116844 \n",
            "Epoch: 280 Loss: 0.027827538549900055 \n",
            "Epoch: 290 Loss: 0.02730095013976097 \n"
          ],
          "name": "stdout"
        }
      ]
    },
    {
      "cell_type": "code",
      "metadata": {
        "id": "dbKUkvc33pxR"
      },
      "source": [
        "def plot_loss(ls,ep):\n",
        "  plt.plot(range(epochs),ls)\n",
        "  plt.ylabel(\"Loss\")\n",
        "  plt.xlabel(\"Epoch\")"
      ],
      "execution_count": 13,
      "outputs": []
    },
    {
      "cell_type": "code",
      "metadata": {
        "colab": {
          "base_uri": "https://localhost:8080/",
          "height": 278
        },
        "id": "Jdl3AFMA3xEu",
        "outputId": "26e3759f-a581-4f04-e3e0-697969050610"
      },
      "source": [
        "plot_loss(losses,epochs)"
      ],
      "execution_count": 14,
      "outputs": [
        {
          "output_type": "display_data",
          "data": {
            "image/png": "[encoded data removed]",
            "text/plain": [
              "<Figure size 432x288 with 1 Axes>"
            ]
          },
          "metadata": {
            "tags": [],
            "needs_background": "light"
          }
        }
      ]
    },
    {
      "cell_type": "code",
      "metadata": {
        "id": "hqFU_kV756GS"
      },
      "source": [
        "with torch.no_grad():\n",
        "  y_eval=model.forward(x_test)\n",
        "  loss=criterion(y_eval,y_test)"
      ],
      "execution_count": 15,
      "outputs": []
    },
    {
      "cell_type": "code",
      "metadata": {
        "colab": {
          "base_uri": "https://localhost:8080/"
        },
        "id": "sAC2_x1M64XJ",
        "outputId": "16650d3b-1e65-44d1-c88c-c3cce0c2ffc1"
      },
      "source": [
        "loss"
      ],
      "execution_count": 16,
      "outputs": [
        {
          "output_type": "execute_result",
          "data": {
            "text/plain": [
              "tensor(0.0867)"
            ]
          },
          "metadata": {
            "tags": []
          },
          "execution_count": 16
        }
      ]
    },
    {
      "cell_type": "code",
      "metadata": {
        "colab": {
          "base_uri": "https://localhost:8080/"
        },
        "id": "3oRCh0pz67D5",
        "outputId": "f35111f1-5cb3-4c03-c782-57ace3743f67"
      },
      "source": [
        "correct=0\n",
        "with torch.no_grad():\n",
        "  for i,data in enumerate(x_test):\n",
        "    y_ev=model.forward(data)\n",
        "    print(f\"{i+1}: {str(y_ev)} pred: {y_ev.argmax().item()} actual: {y_test[i]}\")"
      ],
      "execution_count": 17,
      "outputs": [
        {
          "output_type": "stream",
          "text": [
            "1: tensor([ 17.9838,   9.9668, -22.7470]) pred: 0 actual: 0\n",
            "2: tensor([-4.3369,  6.0045,  5.1380]) pred: 1 actual: 1\n",
            "3: tensor([-3.8307,  5.8104,  4.6023]) pred: 1 actual: 1\n",
            "4: tensor([-0.8285,  8.1280, -0.0601]) pred: 1 actual: 1\n",
            "5: tensor([-9.0607,  1.7368, 13.1406]) pred: 2 actual: 2\n",
            "6: tensor([ 0.1663,  9.0395, -1.5469]) pred: 1 actual: 1\n",
            "7: tensor([-4.6711,  5.3100,  5.9123]) pred: 2 actual: 2\n",
            "8: tensor([ 16.5733,   9.5622, -21.2126]) pred: 0 actual: 0\n",
            "9: tensor([ 1.3173,  8.9377, -3.8253]) pred: 1 actual: 1\n",
            "10: tensor([ 2.0861,  8.5386, -4.7147]) pred: 1 actual: 1\n",
            "11: tensor([ 17.7760,   9.5383, -22.2035]) pred: 0 actual: 0\n",
            "12: tensor([ 17.1467,   9.5581, -21.6657]) pred: 0 actual: 0\n",
            "13: tensor([ 16.3641,   9.3508, -20.8708]) pred: 0 actual: 0\n",
            "14: tensor([-3.9766,  6.3229,  4.5916]) pred: 1 actual: 2\n",
            "15: tensor([ 16.8232,   9.4569, -21.3460]) pred: 0 actual: 0\n",
            "16: tensor([-0.8997,  9.1009, -0.5154]) pred: 1 actual: 1\n",
            "17: tensor([-6.8007,  4.7056,  9.2217]) pred: 2 actual: 2\n",
            "18: tensor([-7.3106,  3.7205, 10.2139]) pred: 2 actual: 2\n",
            "19: tensor([ 2.2074,  8.4006, -4.1157]) pred: 1 actual: 1\n",
            "20: tensor([-0.7776,  8.1816, -0.5564]) pred: 1 actual: 1\n",
            "21: tensor([ 3.2094,  9.0404, -5.8679]) pred: 1 actual: 1\n",
            "22: tensor([-0.1840,  8.5253, -1.4698]) pred: 1 actual: 1\n",
            "23: tensor([-1.8809,  7.3416,  1.3192]) pred: 1 actual: 1\n",
            "24: tensor([ 17.3739,  10.0083, -22.2855]) pred: 0 actual: 0\n",
            "25: tensor([ 16.7765,   9.8703, -21.7657]) pred: 0 actual: 0\n",
            "26: tensor([-9.1859,  2.9680, 13.2772]) pred: 2 actual: 2\n",
            "27: tensor([ 0.5350,  8.7382, -2.6420]) pred: 1 actual: 1\n",
            "28: tensor([-10.5447,   1.6744,  15.4364]) pred: 2 actual: 2\n",
            "29: tensor([-9.0954,  2.0899, 13.2331]) pred: 2 actual: 2\n",
            "30: tensor([ 13.2105,   9.0876, -17.8357]) pred: 0 actual: 0\n",
            "31: tensor([-2.4214,  7.8139,  1.9990]) pred: 1 actual: 1\n",
            "32: tensor([-7.9356,  2.0015, 11.3495]) pred: 2 actual: 2\n",
            "33: tensor([-10.5356,   1.7046,  15.4161]) pred: 2 actual: 2\n",
            "34: tensor([ 18.3329,  10.0292, -23.0117]) pred: 0 actual: 0\n",
            "35: tensor([-8.1340,  2.3655, 11.7533]) pred: 2 actual: 2\n",
            "36: tensor([-2.1837,  8.4456,  1.5749]) pred: 1 actual: 1\n",
            "37: tensor([-4.1523,  6.0324,  4.8095]) pred: 1 actual: 1\n",
            "38: tensor([ 17.9175,   9.7288, -22.4279]) pred: 0 actual: 0\n",
            "39: tensor([ 15.3082,   9.2689, -19.6773]) pred: 0 actual: 0\n",
            "40: tensor([ 17.6251,   9.8417, -22.3102]) pred: 0 actual: 0\n",
            "41: tensor([ 19.3042,   9.8878, -23.6276]) pred: 0 actual: 0\n",
            "42: tensor([ 18.1583,   9.9980, -22.8793]) pred: 0 actual: 0\n",
            "43: tensor([ 15.3941,   9.3056, -20.1619]) pred: 0 actual: 0\n",
            "44: tensor([ 15.7900,   9.7140, -20.6645]) pred: 0 actual: 0\n",
            "45: tensor([-4.4200,  5.4136,  5.5198]) pred: 2 actual: 2\n"
          ],
          "name": "stdout"
        }
      ]
    },
    {
      "cell_type": "code",
      "metadata": {
        "colab": {
          "base_uri": "https://localhost:8080/"
        },
        "id": "vYvDmVZy8c_x",
        "outputId": "37799e9a-4505-4891-c4fb-9efcd0dca1d7"
      },
      "source": [
        "#for saving weights and bias not model\n",
        "torch.save(model.state_dict(),\"my_iris_model.pt\")\n",
        "new_model=Model()\n",
        "new_model.load_state_dict(torch.load(\"my_iris_model.pt\"))"
      ],
      "execution_count": 18,
      "outputs": [
        {
          "output_type": "execute_result",
          "data": {
            "text/plain": [
              "<All keys matched successfully>"
            ]
          },
          "metadata": {
            "tags": []
          },
          "execution_count": 18
        }
      ]
    },
    {
      "cell_type": "code",
      "metadata": {
        "colab": {
          "base_uri": "https://localhost:8080/"
        },
        "id": "FBtfI51k-PQJ",
        "outputId": "612de8d6-3ba7-4f4a-c30e-87b078ffff2b"
      },
      "source": [
        "new_model.eval()"
      ],
      "execution_count": 19,
      "outputs": [
        {
          "output_type": "execute_result",
          "data": {
            "text/plain": [
              "Model(\n",
              "  (fc1): Linear(in_features=4, out_features=8, bias=True)\n",
              "  (fc2): Linear(in_features=8, out_features=9, bias=True)\n",
              "  (out): Linear(in_features=9, out_features=3, bias=True)\n",
              ")"
            ]
          },
          "metadata": {
            "tags": []
          },
          "execution_count": 19
        }
      ]
    },
    {
      "cell_type": "code",
      "metadata": {
        "id": "FCndziTT-Tr_"
      },
      "source": [
        "#save entire model\n",
        "torch.save(model,\"my_iris_model.pickle\")\n",
        "new_model=torch.load(\"/content/my_iris_model.pickle\")"
      ],
      "execution_count": 20,
      "outputs": []
    },
    {
      "cell_type": "code",
      "metadata": {
        "colab": {
          "base_uri": "https://localhost:8080/"
        },
        "id": "FMFAaKH7_fK5",
        "outputId": "558c0e67-3e63-4948-e34a-efe3a0fd82c8"
      },
      "source": [
        "new_model.eval"
      ],
      "execution_count": 21,
      "outputs": [
        {
          "output_type": "execute_result",
          "data": {
            "text/plain": [
              "<bound method Module.eval of Model(\n",
              "  (fc1): Linear(in_features=4, out_features=8, bias=True)\n",
              "  (fc2): Linear(in_features=8, out_features=9, bias=True)\n",
              "  (out): Linear(in_features=9, out_features=3, bias=True)\n",
              ")>"
            ]
          },
          "metadata": {
            "tags": []
          },
          "execution_count": 21
        }
      ]
    },
    {
      "cell_type": "code",
      "metadata": {
        "id": "yqf8SaAH_-tG"
      },
      "source": [
        "mystery_iris=torch.Tensor([5.6,3.7,2.2,0.5])"
      ],
      "execution_count": 22,
      "outputs": []
    },
    {
      "cell_type": "code",
      "metadata": {
        "colab": {
          "base_uri": "https://localhost:8080/",
          "height": 530
        },
        "id": "s7BxtOcPAVx7",
        "outputId": "e79cd008-7de5-4381-b4dd-bb8acddb11f9"
      },
      "source": [
        "fig, axes = plt.subplots(nrows=2, ncols=2, figsize=(10,7))\n",
        "fig.tight_layout()\n",
        "\n",
        "plots = [(0,1),(2,3),(0,2),(1,3)]\n",
        "colors = ['b', 'r', 'g']\n",
        "labels = ['Iris setosa','Iris virginica','Iris versicolor','Mystery iris']\n",
        "\n",
        "for i, ax in enumerate(axes.flat):\n",
        "    for j in range(3):\n",
        "        x = df.columns[plots[i][0]]\n",
        "        y = df.columns[plots[i][1]]\n",
        "        ax.scatter(df[df['target']==j][x], df[df['target']==j][y], color=colors[j])\n",
        "        ax.set(xlabel=x, ylabel=y)\n",
        "        \n",
        "    ax.scatter(mystery_iris[plots[i][0]],mystery_iris[plots[i][1]], color='y')\n",
        "    \n",
        "fig.legend(labels=labels, loc=3, bbox_to_anchor=(1.0,0.85))\n",
        "plt.show()"
      ],
      "execution_count": 23,
      "outputs": [
        {
          "output_type": "display_data",
          "data": {
            "image/png": "[encoded data removed]",
            "text/plain": [
              "<Figure size 720x504 with 4 Axes>"
            ]
          },
          "metadata": {
            "tags": [],
            "needs_background": "light"
          }
        }
      ]
    },
    {
      "cell_type": "code",
      "metadata": {
        "colab": {
          "base_uri": "https://localhost:8080/"
        },
        "id": "W6p5rqusAdKs",
        "outputId": "516b8aa9-6c71-4846-a9e0-a7e25bfe9e58"
      },
      "source": [
        "with torch.no_grad():\n",
        "  pred=new_model.forward(mystery_iris)\n",
        "  print(pred,pred.argmax().item())"
      ],
      "execution_count": 24,
      "outputs": [
        {
          "output_type": "stream",
          "text": [
            "tensor([ 15.6388,   9.7899, -20.1435]) 0\n"
          ],
          "name": "stdout"
        }
      ]
    },
    {
      "cell_type": "code",
      "metadata": {
        "id": "em0NyxbqAwIr"
      },
      "source": [
        ""
      ],
      "execution_count": 24,
      "outputs": []
    }
  ]
}