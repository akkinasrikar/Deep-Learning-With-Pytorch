{
  "nbformat": 4,
  "nbformat_minor": 0,
  "metadata": {
    "colab": {
      "name": "Linear Regression with PyTorch.ipynb",
      "provenance": [],
      "collapsed_sections": []
    },
    "kernelspec": {
      "name": "python3",
      "display_name": "Python 3"
    },
    "language_info": {
      "name": "python"
    }
  },
  "cells": [
    {
      "cell_type": "code",
      "metadata": {
        "id": "7xXRuvTdIQv0"
      },
      "source": [
        "import torch\n",
        "import numpy as np\n",
        "import matplotlib.pyplot as plt\n",
        "%matplotlib inline\n",
        "from google.colab import output"
      ],
      "execution_count": 1,
      "outputs": []
    },
    {
      "cell_type": "code",
      "metadata": {
        "id": "UJlWIzlvIZO6"
      },
      "source": [
        "import torch.nn as nn"
      ],
      "execution_count": 2,
      "outputs": []
    },
    {
      "cell_type": "code",
      "metadata": {
        "id": "H8o6Ouk3IkfV"
      },
      "source": [
        "x=torch.linspace(1,50,50).reshape(-1,1)"
      ],
      "execution_count": 3,
      "outputs": []
    },
    {
      "cell_type": "code",
      "metadata": {
        "colab": {
          "base_uri": "https://localhost:8080/"
        },
        "id": "J1s_8tOeIrVQ",
        "outputId": "18233a8a-9d6c-4bd4-e937-702ed71f8caa"
      },
      "source": [
        "x"
      ],
      "execution_count": 4,
      "outputs": [
        {
          "output_type": "execute_result",
          "data": {
            "text/plain": [
              "tensor([[ 1.],\n",
              "        [ 2.],\n",
              "        [ 3.],\n",
              "        [ 4.],\n",
              "        [ 5.],\n",
              "        [ 6.],\n",
              "        [ 7.],\n",
              "        [ 8.],\n",
              "        [ 9.],\n",
              "        [10.],\n",
              "        [11.],\n",
              "        [12.],\n",
              "        [13.],\n",
              "        [14.],\n",
              "        [15.],\n",
              "        [16.],\n",
              "        [17.],\n",
              "        [18.],\n",
              "        [19.],\n",
              "        [20.],\n",
              "        [21.],\n",
              "        [22.],\n",
              "        [23.],\n",
              "        [24.],\n",
              "        [25.],\n",
              "        [26.],\n",
              "        [27.],\n",
              "        [28.],\n",
              "        [29.],\n",
              "        [30.],\n",
              "        [31.],\n",
              "        [32.],\n",
              "        [33.],\n",
              "        [34.],\n",
              "        [35.],\n",
              "        [36.],\n",
              "        [37.],\n",
              "        [38.],\n",
              "        [39.],\n",
              "        [40.],\n",
              "        [41.],\n",
              "        [42.],\n",
              "        [43.],\n",
              "        [44.],\n",
              "        [45.],\n",
              "        [46.],\n",
              "        [47.],\n",
              "        [48.],\n",
              "        [49.],\n",
              "        [50.]])"
            ]
          },
          "metadata": {
            "tags": []
          },
          "execution_count": 4
        }
      ]
    },
    {
      "cell_type": "code",
      "metadata": {
        "colab": {
          "base_uri": "https://localhost:8080/"
        },
        "id": "vF48SSWaIrqB",
        "outputId": "fd88e608-a8f2-49a5-e8a8-ae2c6dbbab34"
      },
      "source": [
        "torch.manual_seed(71)"
      ],
      "execution_count": 5,
      "outputs": [
        {
          "output_type": "execute_result",
          "data": {
            "text/plain": [
              "<torch._C.Generator at 0x7f8fd9b0b9d0>"
            ]
          },
          "metadata": {
            "tags": []
          },
          "execution_count": 5
        }
      ]
    },
    {
      "cell_type": "code",
      "metadata": {
        "id": "zc38aM7DIxxU"
      },
      "source": [
        "e=torch.randint(-8,9,(50,1),dtype=torch.float)"
      ],
      "execution_count": 6,
      "outputs": []
    },
    {
      "cell_type": "code",
      "metadata": {
        "colab": {
          "base_uri": "https://localhost:8080/"
        },
        "id": "HGSyGO2GJfIu",
        "outputId": "8c37c847-b123-4dde-962b-bd075492f269"
      },
      "source": [
        "e"
      ],
      "execution_count": 7,
      "outputs": [
        {
          "output_type": "execute_result",
          "data": {
            "text/plain": [
              "tensor([[ 2.],\n",
              "        [ 7.],\n",
              "        [ 2.],\n",
              "        [ 6.],\n",
              "        [ 2.],\n",
              "        [-4.],\n",
              "        [ 2.],\n",
              "        [-5.],\n",
              "        [ 4.],\n",
              "        [ 1.],\n",
              "        [ 2.],\n",
              "        [ 3.],\n",
              "        [ 1.],\n",
              "        [-8.],\n",
              "        [ 5.],\n",
              "        [ 5.],\n",
              "        [-6.],\n",
              "        [ 0.],\n",
              "        [-7.],\n",
              "        [-8.],\n",
              "        [-3.],\n",
              "        [-1.],\n",
              "        [ 2.],\n",
              "        [-6.],\n",
              "        [-3.],\n",
              "        [ 3.],\n",
              "        [ 2.],\n",
              "        [ 3.],\n",
              "        [ 4.],\n",
              "        [ 5.],\n",
              "        [ 1.],\n",
              "        [ 7.],\n",
              "        [ 6.],\n",
              "        [-1.],\n",
              "        [-6.],\n",
              "        [-5.],\n",
              "        [-3.],\n",
              "        [ 7.],\n",
              "        [ 0.],\n",
              "        [ 8.],\n",
              "        [-1.],\n",
              "        [-2.],\n",
              "        [ 2.],\n",
              "        [-8.],\n",
              "        [-1.],\n",
              "        [ 6.],\n",
              "        [-8.],\n",
              "        [-3.],\n",
              "        [-7.],\n",
              "        [-2.]])"
            ]
          },
          "metadata": {
            "tags": []
          },
          "execution_count": 7
        }
      ]
    },
    {
      "cell_type": "code",
      "metadata": {
        "id": "EFuJyms8Jf0W"
      },
      "source": [
        "y=2*x+1+e"
      ],
      "execution_count": 8,
      "outputs": []
    },
    {
      "cell_type": "code",
      "metadata": {
        "colab": {
          "base_uri": "https://localhost:8080/"
        },
        "id": "gkM8Ub_yJoXI",
        "outputId": "fe224be0-fac2-4dfd-9779-4fd96f9921bc"
      },
      "source": [
        "y.shape"
      ],
      "execution_count": 9,
      "outputs": [
        {
          "output_type": "execute_result",
          "data": {
            "text/plain": [
              "torch.Size([50, 1])"
            ]
          },
          "metadata": {
            "tags": []
          },
          "execution_count": 9
        }
      ]
    },
    {
      "cell_type": "code",
      "metadata": {
        "colab": {
          "base_uri": "https://localhost:8080/"
        },
        "id": "KosY_ZkiJpQU",
        "outputId": "2fcd4e00-f648-48e8-ccb6-6782c0021bab"
      },
      "source": [
        "y"
      ],
      "execution_count": 10,
      "outputs": [
        {
          "output_type": "execute_result",
          "data": {
            "text/plain": [
              "tensor([[ 5.],\n",
              "        [12.],\n",
              "        [ 9.],\n",
              "        [15.],\n",
              "        [13.],\n",
              "        [ 9.],\n",
              "        [17.],\n",
              "        [12.],\n",
              "        [23.],\n",
              "        [22.],\n",
              "        [25.],\n",
              "        [28.],\n",
              "        [28.],\n",
              "        [21.],\n",
              "        [36.],\n",
              "        [38.],\n",
              "        [29.],\n",
              "        [37.],\n",
              "        [32.],\n",
              "        [33.],\n",
              "        [40.],\n",
              "        [44.],\n",
              "        [49.],\n",
              "        [43.],\n",
              "        [48.],\n",
              "        [56.],\n",
              "        [57.],\n",
              "        [60.],\n",
              "        [63.],\n",
              "        [66.],\n",
              "        [64.],\n",
              "        [72.],\n",
              "        [73.],\n",
              "        [68.],\n",
              "        [65.],\n",
              "        [68.],\n",
              "        [72.],\n",
              "        [84.],\n",
              "        [79.],\n",
              "        [89.],\n",
              "        [82.],\n",
              "        [83.],\n",
              "        [89.],\n",
              "        [81.],\n",
              "        [90.],\n",
              "        [99.],\n",
              "        [87.],\n",
              "        [94.],\n",
              "        [92.],\n",
              "        [99.]])"
            ]
          },
          "metadata": {
            "tags": []
          },
          "execution_count": 10
        }
      ]
    },
    {
      "cell_type": "code",
      "metadata": {
        "colab": {
          "base_uri": "https://localhost:8080/",
          "height": 282
        },
        "id": "Wd10H53rJqJP",
        "outputId": "d8d13831-4e80-43fb-fc3d-f55c74f4e27d"
      },
      "source": [
        "plt.scatter(x.numpy(),y.numpy())"
      ],
      "execution_count": 11,
      "outputs": [
        {
          "output_type": "execute_result",
          "data": {
            "text/plain": [
              "<matplotlib.collections.PathCollection at 0x7f902faf0290>"
            ]
          },
          "metadata": {
            "tags": []
          },
          "execution_count": 11
        },
        {
          "output_type": "display_data",
          "data": {
            "image/png": "[encoded data removed]",
            "text/plain": [
              "<Figure size 432x288 with 1 Axes>"
            ]
          },
          "metadata": {
            "tags": [],
            "needs_background": "light"
          }
        }
      ]
    },
    {
      "cell_type": "code",
      "metadata": {
        "colab": {
          "base_uri": "https://localhost:8080/"
        },
        "id": "Sv1q5otIJ1b1",
        "outputId": "428223b9-ad51-4cbe-8dd6-31223843b76e"
      },
      "source": [
        "torch.manual_seed(59)"
      ],
      "execution_count": 12,
      "outputs": [
        {
          "output_type": "execute_result",
          "data": {
            "text/plain": [
              "<torch._C.Generator at 0x7f8fd9b0b9d0>"
            ]
          },
          "metadata": {
            "tags": []
          },
          "execution_count": 12
        }
      ]
    },
    {
      "cell_type": "code",
      "metadata": {
        "id": "6KqtI5KmKCy2"
      },
      "source": [
        "model=nn.Linear(in_features=1,out_features=1)"
      ],
      "execution_count": 13,
      "outputs": []
    },
    {
      "cell_type": "code",
      "metadata": {
        "colab": {
          "base_uri": "https://localhost:8080/"
        },
        "id": "x7UwyLQNKNpt",
        "outputId": "eca330b5-4eff-476b-a435-be08d84c140b"
      },
      "source": [
        "print(model.weight)\n",
        "print(model.bias)"
      ],
      "execution_count": 14,
      "outputs": [
        {
          "output_type": "stream",
          "text": [
            "Parameter containing:\n",
            "tensor([[0.1060]], requires_grad=True)\n",
            "Parameter containing:\n",
            "tensor([0.9638], requires_grad=True)\n"
          ],
          "name": "stdout"
        }
      ]
    },
    {
      "cell_type": "code",
      "metadata": {
        "id": "C-5CQAshKSNR"
      },
      "source": [
        "class Model(nn.Module):\n",
        "  \n",
        "  def __init__(self,in_features,out_features):\n",
        "\n",
        "    super().__init__()\n",
        "    self.linear=nn.Linear(in_features,out_features)\n",
        "  \n",
        "  def forward(self,x):\n",
        "    y_pred=self.linear(x)\n",
        "    return y_pred\n"
      ],
      "execution_count": 15,
      "outputs": []
    },
    {
      "cell_type": "code",
      "metadata": {
        "id": "MtcLRrahLdlI"
      },
      "source": [
        "model=Model(1,1)"
      ],
      "execution_count": 16,
      "outputs": []
    },
    {
      "cell_type": "code",
      "metadata": {
        "colab": {
          "base_uri": "https://localhost:8080/"
        },
        "id": "9IUu5ntTLi8t",
        "outputId": "95e05c5a-b656-4be2-b4a6-c4e5f54252f0"
      },
      "source": [
        "model.linear.weight,model.linear.bias"
      ],
      "execution_count": 17,
      "outputs": [
        {
          "output_type": "execute_result",
          "data": {
            "text/plain": [
              "(Parameter containing:\n",
              " tensor([[-0.1703]], requires_grad=True), Parameter containing:\n",
              " tensor([-0.6405], requires_grad=True))"
            ]
          },
          "metadata": {
            "tags": []
          },
          "execution_count": 17
        }
      ]
    },
    {
      "cell_type": "code",
      "metadata": {
        "colab": {
          "base_uri": "https://localhost:8080/"
        },
        "id": "JCsZHtMaLnbZ",
        "outputId": "f5cf6fcb-fb37-46a7-df78-042107e25992"
      },
      "source": [
        "for name,param in model.named_parameters():\n",
        "  print(name,\"\\t\",param.item())"
      ],
      "execution_count": 18,
      "outputs": [
        {
          "output_type": "stream",
          "text": [
            "linear.weight \t -0.1702636480331421\n",
            "linear.bias \t -0.6405459642410278\n"
          ],
          "name": "stdout"
        }
      ]
    },
    {
      "cell_type": "code",
      "metadata": {
        "id": "TfHnNJCFL_6F"
      },
      "source": [
        "n=torch.tensor([2.0])"
      ],
      "execution_count": 19,
      "outputs": []
    },
    {
      "cell_type": "code",
      "metadata": {
        "colab": {
          "base_uri": "https://localhost:8080/"
        },
        "id": "i7gNu54OMXjA",
        "outputId": "873572ac-81f9-4970-d52f-bdf8188f48a1"
      },
      "source": [
        "model.forward(n)"
      ],
      "execution_count": 20,
      "outputs": [
        {
          "output_type": "execute_result",
          "data": {
            "text/plain": [
              "tensor([-0.9811], grad_fn=<AddBackward0>)"
            ]
          },
          "metadata": {
            "tags": []
          },
          "execution_count": 20
        }
      ]
    },
    {
      "cell_type": "code",
      "metadata": {
        "id": "NQaxg7YkMZUq"
      },
      "source": [
        "x1=np.linspace(0.0,50.0,50)"
      ],
      "execution_count": 21,
      "outputs": []
    },
    {
      "cell_type": "code",
      "metadata": {
        "colab": {
          "base_uri": "https://localhost:8080/"
        },
        "id": "hdSng3HmQkFC",
        "outputId": "5bef795b-0012-4b11-f14b-83f8e3f3f07f"
      },
      "source": [
        "x1"
      ],
      "execution_count": 22,
      "outputs": [
        {
          "output_type": "execute_result",
          "data": {
            "text/plain": [
              "array([ 0.        ,  1.02040816,  2.04081633,  3.06122449,  4.08163265,\n",
              "        5.10204082,  6.12244898,  7.14285714,  8.16326531,  9.18367347,\n",
              "       10.20408163, 11.2244898 , 12.24489796, 13.26530612, 14.28571429,\n",
              "       15.30612245, 16.32653061, 17.34693878, 18.36734694, 19.3877551 ,\n",
              "       20.40816327, 21.42857143, 22.44897959, 23.46938776, 24.48979592,\n",
              "       25.51020408, 26.53061224, 27.55102041, 28.57142857, 29.59183673,\n",
              "       30.6122449 , 31.63265306, 32.65306122, 33.67346939, 34.69387755,\n",
              "       35.71428571, 36.73469388, 37.75510204, 38.7755102 , 39.79591837,\n",
              "       40.81632653, 41.83673469, 42.85714286, 43.87755102, 44.89795918,\n",
              "       45.91836735, 46.93877551, 47.95918367, 48.97959184, 50.        ])"
            ]
          },
          "metadata": {
            "tags": []
          },
          "execution_count": 22
        }
      ]
    },
    {
      "cell_type": "code",
      "metadata": {
        "id": "W1f7q76TQkaq"
      },
      "source": [
        "w1=0.8605169057846069\n",
        "b1=0.330835223197937"
      ],
      "execution_count": 23,
      "outputs": []
    },
    {
      "cell_type": "code",
      "metadata": {
        "id": "CUHtVlB_QxQR"
      },
      "source": [
        "y1=x1*w1+b1"
      ],
      "execution_count": 24,
      "outputs": []
    },
    {
      "cell_type": "code",
      "metadata": {
        "colab": {
          "base_uri": "https://localhost:8080/"
        },
        "id": "9Z51Hl2cQzqG",
        "outputId": "077c529a-702d-451b-8658-b1379c5e11d2"
      },
      "source": [
        "y1"
      ],
      "execution_count": 25,
      "outputs": [
        {
          "output_type": "execute_result",
          "data": {
            "text/plain": [
              "array([ 0.33083522,  1.2089137 ,  2.08699217,  2.96507065,  3.84314912,\n",
              "        4.7212276 ,  5.59930607,  6.47738455,  7.35546303,  8.2335415 ,\n",
              "        9.11161998,  9.98969845, 10.86777693, 11.7458554 , 12.62393388,\n",
              "       13.50201235, 14.38009083, 15.2581693 , 16.13624778, 17.01432625,\n",
              "       17.89240473, 18.7704832 , 19.64856168, 20.52664015, 21.40471863,\n",
              "       22.28279711, 23.16087558, 24.03895406, 24.91703253, 25.79511101,\n",
              "       26.67318948, 27.55126796, 28.42934643, 29.30742491, 30.18550338,\n",
              "       31.06358186, 31.94166033, 32.81973881, 33.69781728, 34.57589576,\n",
              "       35.45397423, 36.33205271, 37.21013119, 38.08820966, 38.96628814,\n",
              "       39.84436661, 40.72244509, 41.60052356, 42.47860204, 43.35668051])"
            ]
          },
          "metadata": {
            "tags": []
          },
          "execution_count": 25
        }
      ]
    },
    {
      "cell_type": "code",
      "metadata": {
        "colab": {
          "base_uri": "https://localhost:8080/",
          "height": 282
        },
        "id": "3c3mqAafQ0G3",
        "outputId": "217bb8c7-2c0d-49d1-f71f-4dc3ee4ccfe5"
      },
      "source": [
        "plt.scatter(x.numpy(),y.numpy())\n",
        "plt.plot(x1,y1,\"r\")"
      ],
      "execution_count": 26,
      "outputs": [
        {
          "output_type": "execute_result",
          "data": {
            "text/plain": [
              "[<matplotlib.lines.Line2D at 0x7f9030008b90>]"
            ]
          },
          "metadata": {
            "tags": []
          },
          "execution_count": 26
        },
        {
          "output_type": "display_data",
          "data": {
            "image/png": "[encoded data removed]",
            "text/plain": [
              "<Figure size 432x288 with 1 Axes>"
            ]
          },
          "metadata": {
            "tags": [],
            "needs_background": "light"
          }
        }
      ]
    },
    {
      "cell_type": "code",
      "metadata": {
        "id": "dEoC9BE6RR9A"
      },
      "source": [
        "model=Model(1,1)\n",
        "criterion = nn.MSELoss()\n",
        "optimizer = torch.optim.SGD(model.parameters(),lr=0.001)"
      ],
      "execution_count": 27,
      "outputs": []
    },
    {
      "cell_type": "code",
      "metadata": {
        "colab": {
          "base_uri": "https://localhost:8080/"
        },
        "id": "nh-JzrJkRmyO",
        "outputId": "b2cb8750-c4bc-43c4-a93d-ef16036f029d"
      },
      "source": [
        "epochs=50\n",
        "losses=[]\n",
        "\n",
        "for i in range(epochs):\n",
        "  y_pred=model.forward(x)\n",
        "  loss=criterion(y_pred,y)\n",
        "  losses.append(loss)\n",
        "  print(f\"epoch: {i+1} loss: {loss.item()} weight: {model.linear.weight.item()} bias: {model.linear.bias.item()}\")\n",
        "  optimizer.zero_grad()\n",
        "  loss.backward()\n",
        "  optimizer.step()\n"
      ],
      "execution_count": 28,
      "outputs": [
        {
          "output_type": "stream",
          "text": [
            "epoch: 1 loss: 1146.8690185546875 weight: 0.8605169057846069 bias: 0.330835223197937\n",
            "epoch: 2 loss: 602.5680541992188 weight: 2.8261771202087402 bias: 0.3902871906757355\n",
            "epoch: 3 loss: 321.56414794921875 weight: 1.4137661457061768 bias: 0.3493715822696686\n",
            "epoch: 4 loss: 176.4911346435547 weight: 2.42855167388916 bias: 0.38057076930999756\n",
            "epoch: 5 loss: 101.5945816040039 weight: 1.69935941696167 bias: 0.35995349287986755\n",
            "epoch: 6 loss: 62.92766189575195 weight: 2.2232415676116943 bias: 0.3765662610530853\n",
            "epoch: 7 loss: 42.964813232421875 weight: 1.846771001815796 bias: 0.36642780900001526\n",
            "epoch: 8 loss: 32.658233642578125 weight: 2.117217540740967 bias: 0.3755096197128296\n",
            "epoch: 9 loss: 27.336753845214844 weight: 1.9228439331054688 bias: 0.37078049778938293\n",
            "epoch: 10 loss: 24.58893585205078 weight: 2.062451124191284 bias: 0.3759739100933075\n",
            "epoch: 11 loss: 23.169809341430664 weight: 1.9620877504348755 bias: 0.374036967754364\n",
            "epoch: 12 loss: 22.436620712280273 weight: 2.034147024154663 bias: 0.3772224187850952\n",
            "epoch: 13 loss: 22.05759048461914 weight: 1.9823182821273804 bias: 0.3767264783382416\n",
            "epoch: 14 loss: 21.86138153076172 weight: 2.0195047855377197 bias: 0.378874808549881\n",
            "epoch: 15 loss: 21.759563446044922 weight: 1.9927324056625366 bias: 0.3791223168373108\n",
            "epoch: 16 loss: 21.706472396850586 weight: 2.011915683746338 bias: 0.38073471188545227\n",
            "epoch: 17 loss: 21.678539276123047 weight: 1.9980789422988892 bias: 0.3813655376434326\n",
            "epoch: 18 loss: 21.663589477539062 weight: 2.007967710494995 bias: 0.38270077109336853\n",
            "epoch: 19 loss: 21.655349731445312 weight: 2.00080943107605 bias: 0.38352900743484497\n",
            "epoch: 20 loss: 21.65057945251465 weight: 2.005899667739868 bias: 0.38472065329551697\n",
            "epoch: 21 loss: 21.64759063720703 weight: 2.0021891593933105 bias: 0.3856503367424011\n",
            "epoch: 22 loss: 21.645524978637695 weight: 2.0048022270202637 bias: 0.3867673873901367\n",
            "epoch: 23 loss: 21.643943786621094 weight: 2.0028717517852783 bias: 0.38774892687797546\n",
            "epoch: 24 loss: 21.642597198486328 weight: 2.0042057037353516 bias: 0.38882696628570557\n",
            "epoch: 25 loss: 21.641386032104492 weight: 2.0031943321228027 bias: 0.38983482122421265\n",
            "epoch: 26 loss: 21.640243530273438 weight: 2.0038681030273438 bias: 0.39089223742485046\n",
            "epoch: 27 loss: 21.639131546020508 weight: 2.003331184387207 bias: 0.39191317558288574\n",
            "epoch: 28 loss: 21.638042449951172 weight: 2.003664016723633 bias: 0.39295944571495056\n",
            "epoch: 29 loss: 21.636960983276367 weight: 2.0033719539642334 bias: 0.39398667216300964\n",
            "epoch: 30 loss: 21.635887145996094 weight: 2.0035288333892822 bias: 0.39502671360969543\n",
            "epoch: 31 loss: 21.634811401367188 weight: 2.0033633708953857 bias: 0.3960566818714142\n",
            "epoch: 32 loss: 21.633745193481445 weight: 2.003429651260376 bias: 0.3970930278301239\n",
            "epoch: 33 loss: 21.632673263549805 weight: 2.003329038619995 bias: 0.39812391996383667\n",
            "epoch: 34 loss: 21.631607055664062 weight: 2.0033488273620605 bias: 0.39915788173675537\n",
            "epoch: 35 loss: 21.630544662475586 weight: 2.003281831741333 bias: 0.40018877387046814\n",
            "epoch: 36 loss: 21.629478454589844 weight: 2.00327730178833 bias: 0.40122100710868835\n",
            "epoch: 37 loss: 21.62841033935547 weight: 2.003227949142456 bias: 0.4022514224052429\n",
            "epoch: 38 loss: 21.627347946166992 weight: 2.0032107830047607 bias: 0.4032822847366333\n",
            "epoch: 39 loss: 21.62628936767578 weight: 2.0031704902648926 bias: 0.40431198477745056\n",
            "epoch: 40 loss: 21.625228881835938 weight: 2.0031468868255615 bias: 0.40534165501594543\n",
            "epoch: 41 loss: 21.624170303344727 weight: 2.0031113624572754 bias: 0.40637049078941345\n",
            "epoch: 42 loss: 21.62310791015625 weight: 2.003084182739258 bias: 0.40739905834198\n",
            "epoch: 43 loss: 21.622053146362305 weight: 2.003051280975342 bias: 0.408426970243454\n",
            "epoch: 44 loss: 21.62099838256836 weight: 2.0030224323272705 bias: 0.40945449471473694\n",
            "epoch: 45 loss: 21.619943618774414 weight: 2.00299072265625 bias: 0.41048145294189453\n",
            "epoch: 46 loss: 21.618886947631836 weight: 2.0029609203338623 bias: 0.4115079641342163\n",
            "epoch: 47 loss: 21.617835998535156 weight: 2.002930164337158 bias: 0.4125339388847351\n",
            "epoch: 48 loss: 21.616779327392578 weight: 2.0028998851776123 bias: 0.4135594367980957\n",
            "epoch: 49 loss: 21.6157283782959 weight: 2.0028693675994873 bias: 0.4145844280719757\n",
            "epoch: 50 loss: 21.61467742919922 weight: 2.0028388500213623 bias: 0.4156089127063751\n"
          ],
          "name": "stdout"
        }
      ]
    },
    {
      "cell_type": "code",
      "metadata": {
        "colab": {
          "base_uri": "https://localhost:8080/",
          "height": 282
        },
        "id": "P2OMmsY1TBsv",
        "outputId": "f4a59a9a-1653-406a-88d6-af7043940e24"
      },
      "source": [
        "plt.scatter(x.numpy(),y.numpy())\n",
        "plt.plot(x.numpy(),y_pred.detach().numpy(),\"r\")"
      ],
      "execution_count": 29,
      "outputs": [
        {
          "output_type": "execute_result",
          "data": {
            "text/plain": [
              "[<matplotlib.lines.Line2D at 0x7f8fd89cca10>]"
            ]
          },
          "metadata": {
            "tags": []
          },
          "execution_count": 29
        },
        {
          "output_type": "display_data",
          "data": {
            "image/png": "[encoded data removed]",
            "text/plain": [
              "<Figure size 432x288 with 1 Axes>"
            ]
          },
          "metadata": {
            "tags": [],
            "needs_background": "light"
          }
        }
      ]
    },
    {
      "cell_type": "code",
      "metadata": {
        "colab": {
          "base_uri": "https://localhost:8080/",
          "height": 300
        },
        "id": "CyrttmG4YDGF",
        "outputId": "9f30f715-985b-4e2e-cd1a-7a0292037784"
      },
      "source": [
        "plt.plot(range(epochs),losses)\n",
        "plt.ylabel(\"MSE Loss\")\n",
        "plt.xlabel(\"Epoch\")"
      ],
      "execution_count": 30,
      "outputs": [
        {
          "output_type": "execute_result",
          "data": {
            "text/plain": [
              "Text(0.5, 0, 'Epoch')"
            ]
          },
          "metadata": {
            "tags": []
          },
          "execution_count": 30
        },
        {
          "output_type": "display_data",
          "data": {
            "image/png": "[encoded data removed]",
            "text/plain": [
              "<Figure size 432x288 with 1 Axes>"
            ]
          },
          "metadata": {
            "tags": [],
            "needs_background": "light"
          }
        }
      ]
    },
    {
      "cell_type": "code",
      "metadata": {
        "id": "vhRIVp1jTkI1"
      },
      "source": [
        ""
      ],
      "execution_count": 30,
      "outputs": []
    },
    {
      "cell_type": "code",
      "metadata": {
        "id": "jD6nHuoPYBfx"
      },
      "source": [
        ""
      ],
      "execution_count": 30,
      "outputs": []
    }
  ]
}