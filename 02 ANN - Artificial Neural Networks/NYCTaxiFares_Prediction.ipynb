{
  "nbformat": 4,
  "nbformat_minor": 0,
  "metadata": {
    "colab": {
      "name": "NYCTaxiFares-Prediction.ipynb",
      "provenance": [],
      "collapsed_sections": []
    },
    "kernelspec": {
      "name": "python3",
      "display_name": "Python 3"
    },
    "language_info": {
      "name": "python"
    },
    "accelerator": "GPU"
  },
  "cells": [
    {
      "cell_type": "code",
      "metadata": {
        "id": "z7FBsTtPH-ys"
      },
      "source": [
        "import torch\n",
        "import torch.nn as nn\n",
        "import numpy as np\n",
        "import matplotlib.pyplot as plt\n",
        "import pandas as pd\n",
        "%matplotlib inline"
      ],
      "execution_count": 1,
      "outputs": []
    },
    {
      "cell_type": "code",
      "metadata": {
        "id": "VeOeopcONgyO"
      },
      "source": [
        "df=pd.read_csv(\"/content/NYCTaxiFares.csv\")"
      ],
      "execution_count": 2,
      "outputs": []
    },
    {
      "cell_type": "code",
      "metadata": {
        "colab": {
          "base_uri": "https://localhost:8080/",
          "height": 202
        },
        "id": "FiHa1J-9O3yc",
        "outputId": "64b08a12-0597-4bee-9b27-e93d12fa405b"
      },
      "source": [
        "df.head()"
      ],
      "execution_count": 3,
      "outputs": [
        {
          "output_type": "execute_result",
          "data": {
            "text/html": [
              "<div>\n",
              "<style scoped>\n",
              "    .dataframe tbody tr th:only-of-type {\n",
              "        vertical-align: middle;\n",
              "    }\n",
              "\n",
              "    .dataframe tbody tr th {\n",
              "        vertical-align: top;\n",
              "    }\n",
              "\n",
              "    .dataframe thead th {\n",
              "        text-align: right;\n",
              "    }\n",
              "</style>\n",
              "<table border=\"1\" class=\"dataframe\">\n",
              "  <thead>\n",
              "    <tr style=\"text-align: right;\">\n",
              "      <th></th>\n",
              "      <th>pickup_datetime</th>\n",
              "      <th>fare_amount</th>\n",
              "      <th>fare_class</th>\n",
              "      <th>pickup_longitude</th>\n",
              "      <th>pickup_latitude</th>\n",
              "      <th>dropoff_longitude</th>\n",
              "      <th>dropoff_latitude</th>\n",
              "      <th>passenger_count</th>\n",
              "    </tr>\n",
              "  </thead>\n",
              "  <tbody>\n",
              "    <tr>\n",
              "      <th>0</th>\n",
              "      <td>2010-04-19 08:17:56 UTC</td>\n",
              "      <td>6.5</td>\n",
              "      <td>0</td>\n",
              "      <td>-73.992365</td>\n",
              "      <td>40.730521</td>\n",
              "      <td>-73.975499</td>\n",
              "      <td>40.744746</td>\n",
              "      <td>1</td>\n",
              "    </tr>\n",
              "    <tr>\n",
              "      <th>1</th>\n",
              "      <td>2010-04-17 15:43:53 UTC</td>\n",
              "      <td>6.9</td>\n",
              "      <td>0</td>\n",
              "      <td>-73.990078</td>\n",
              "      <td>40.740558</td>\n",
              "      <td>-73.974232</td>\n",
              "      <td>40.744114</td>\n",
              "      <td>1</td>\n",
              "    </tr>\n",
              "    <tr>\n",
              "      <th>2</th>\n",
              "      <td>2010-04-17 11:23:26 UTC</td>\n",
              "      <td>10.1</td>\n",
              "      <td>1</td>\n",
              "      <td>-73.994149</td>\n",
              "      <td>40.751118</td>\n",
              "      <td>-73.960064</td>\n",
              "      <td>40.766235</td>\n",
              "      <td>2</td>\n",
              "    </tr>\n",
              "    <tr>\n",
              "      <th>3</th>\n",
              "      <td>2010-04-11 21:25:03 UTC</td>\n",
              "      <td>8.9</td>\n",
              "      <td>0</td>\n",
              "      <td>-73.990485</td>\n",
              "      <td>40.756422</td>\n",
              "      <td>-73.971205</td>\n",
              "      <td>40.748192</td>\n",
              "      <td>1</td>\n",
              "    </tr>\n",
              "    <tr>\n",
              "      <th>4</th>\n",
              "      <td>2010-04-17 02:19:01 UTC</td>\n",
              "      <td>19.7</td>\n",
              "      <td>1</td>\n",
              "      <td>-73.990976</td>\n",
              "      <td>40.734202</td>\n",
              "      <td>-73.905956</td>\n",
              "      <td>40.743115</td>\n",
              "      <td>1</td>\n",
              "    </tr>\n",
              "  </tbody>\n",
              "</table>\n",
              "</div>"
            ],
            "text/plain": [
              "           pickup_datetime  fare_amount  ...  dropoff_latitude  passenger_count\n",
              "0  2010-04-19 08:17:56 UTC          6.5  ...         40.744746                1\n",
              "1  2010-04-17 15:43:53 UTC          6.9  ...         40.744114                1\n",
              "2  2010-04-17 11:23:26 UTC         10.1  ...         40.766235                2\n",
              "3  2010-04-11 21:25:03 UTC          8.9  ...         40.748192                1\n",
              "4  2010-04-17 02:19:01 UTC         19.7  ...         40.743115                1\n",
              "\n",
              "[5 rows x 8 columns]"
            ]
          },
          "metadata": {
            "tags": []
          },
          "execution_count": 3
        }
      ]
    },
    {
      "cell_type": "code",
      "metadata": {
        "colab": {
          "base_uri": "https://localhost:8080/"
        },
        "id": "l-XmKMibO50A",
        "outputId": "412aa9c0-c9d7-43ea-b926-21dddfcc6c26"
      },
      "source": [
        "df['fare_amount'].describe()"
      ],
      "execution_count": 4,
      "outputs": [
        {
          "output_type": "execute_result",
          "data": {
            "text/plain": [
              "count    120000.000000\n",
              "mean         10.040326\n",
              "std           7.500134\n",
              "min           2.500000\n",
              "25%           5.700000\n",
              "50%           7.700000\n",
              "75%          11.300000\n",
              "max          49.900000\n",
              "Name: fare_amount, dtype: float64"
            ]
          },
          "metadata": {
            "tags": []
          },
          "execution_count": 4
        }
      ]
    },
    {
      "cell_type": "code",
      "metadata": {
        "id": "iY9yeVoLPLpg"
      },
      "source": [
        "#calculating distance based on lat and long points\n",
        "def haversine_distance(df, lat1, long1, lat2, long2):\n",
        "    r = 6371  # average radius of Earth in kilometers  \n",
        "    phi1 = np.radians(df[lat1])\n",
        "    phi2 = np.radians(df[lat2])\n",
        "    delta_phi = np.radians(df[lat2]-df[lat1])\n",
        "    delta_lambda = np.radians(df[long2]-df[long1])\n",
        "    a = np.sin(delta_phi/2)**2 + np.cos(phi1) * np.cos(phi2) * np.sin(delta_lambda/2)**2\n",
        "    c = 2 * np.arctan2(np.sqrt(a), np.sqrt(1-a))\n",
        "    d = (r * c) # in kilometers\n",
        "    return d"
      ],
      "execution_count": 5,
      "outputs": []
    },
    {
      "cell_type": "code",
      "metadata": {
        "id": "DmyLN97fb15u"
      },
      "source": [
        "df[\"distance_km\"]=haversine_distance(df,\"pickup_latitude\",\"pickup_longitude\",\"dropoff_latitude\",\"dropoff_longitude\")"
      ],
      "execution_count": 6,
      "outputs": []
    },
    {
      "cell_type": "code",
      "metadata": {
        "colab": {
          "base_uri": "https://localhost:8080/",
          "height": 202
        },
        "id": "5Mce3mkZcar7",
        "outputId": "1d2b7019-6268-4562-9c25-39e7b7b451c8"
      },
      "source": [
        "df.head()"
      ],
      "execution_count": 7,
      "outputs": [
        {
          "output_type": "execute_result",
          "data": {
            "text/html": [
              "<div>\n",
              "<style scoped>\n",
              "    .dataframe tbody tr th:only-of-type {\n",
              "        vertical-align: middle;\n",
              "    }\n",
              "\n",
              "    .dataframe tbody tr th {\n",
              "        vertical-align: top;\n",
              "    }\n",
              "\n",
              "    .dataframe thead th {\n",
              "        text-align: right;\n",
              "    }\n",
              "</style>\n",
              "<table border=\"1\" class=\"dataframe\">\n",
              "  <thead>\n",
              "    <tr style=\"text-align: right;\">\n",
              "      <th></th>\n",
              "      <th>pickup_datetime</th>\n",
              "      <th>fare_amount</th>\n",
              "      <th>fare_class</th>\n",
              "      <th>pickup_longitude</th>\n",
              "      <th>pickup_latitude</th>\n",
              "      <th>dropoff_longitude</th>\n",
              "      <th>dropoff_latitude</th>\n",
              "      <th>passenger_count</th>\n",
              "      <th>distance_km</th>\n",
              "    </tr>\n",
              "  </thead>\n",
              "  <tbody>\n",
              "    <tr>\n",
              "      <th>0</th>\n",
              "      <td>2010-04-19 08:17:56 UTC</td>\n",
              "      <td>6.5</td>\n",
              "      <td>0</td>\n",
              "      <td>-73.992365</td>\n",
              "      <td>40.730521</td>\n",
              "      <td>-73.975499</td>\n",
              "      <td>40.744746</td>\n",
              "      <td>1</td>\n",
              "      <td>2.126312</td>\n",
              "    </tr>\n",
              "    <tr>\n",
              "      <th>1</th>\n",
              "      <td>2010-04-17 15:43:53 UTC</td>\n",
              "      <td>6.9</td>\n",
              "      <td>0</td>\n",
              "      <td>-73.990078</td>\n",
              "      <td>40.740558</td>\n",
              "      <td>-73.974232</td>\n",
              "      <td>40.744114</td>\n",
              "      <td>1</td>\n",
              "      <td>1.392307</td>\n",
              "    </tr>\n",
              "    <tr>\n",
              "      <th>2</th>\n",
              "      <td>2010-04-17 11:23:26 UTC</td>\n",
              "      <td>10.1</td>\n",
              "      <td>1</td>\n",
              "      <td>-73.994149</td>\n",
              "      <td>40.751118</td>\n",
              "      <td>-73.960064</td>\n",
              "      <td>40.766235</td>\n",
              "      <td>2</td>\n",
              "      <td>3.326763</td>\n",
              "    </tr>\n",
              "    <tr>\n",
              "      <th>3</th>\n",
              "      <td>2010-04-11 21:25:03 UTC</td>\n",
              "      <td>8.9</td>\n",
              "      <td>0</td>\n",
              "      <td>-73.990485</td>\n",
              "      <td>40.756422</td>\n",
              "      <td>-73.971205</td>\n",
              "      <td>40.748192</td>\n",
              "      <td>1</td>\n",
              "      <td>1.864129</td>\n",
              "    </tr>\n",
              "    <tr>\n",
              "      <th>4</th>\n",
              "      <td>2010-04-17 02:19:01 UTC</td>\n",
              "      <td>19.7</td>\n",
              "      <td>1</td>\n",
              "      <td>-73.990976</td>\n",
              "      <td>40.734202</td>\n",
              "      <td>-73.905956</td>\n",
              "      <td>40.743115</td>\n",
              "      <td>1</td>\n",
              "      <td>7.231321</td>\n",
              "    </tr>\n",
              "  </tbody>\n",
              "</table>\n",
              "</div>"
            ],
            "text/plain": [
              "           pickup_datetime  fare_amount  ...  passenger_count  distance_km\n",
              "0  2010-04-19 08:17:56 UTC          6.5  ...                1     2.126312\n",
              "1  2010-04-17 15:43:53 UTC          6.9  ...                1     1.392307\n",
              "2  2010-04-17 11:23:26 UTC         10.1  ...                2     3.326763\n",
              "3  2010-04-11 21:25:03 UTC          8.9  ...                1     1.864129\n",
              "4  2010-04-17 02:19:01 UTC         19.7  ...                1     7.231321\n",
              "\n",
              "[5 rows x 9 columns]"
            ]
          },
          "metadata": {
            "tags": []
          },
          "execution_count": 7
        }
      ]
    },
    {
      "cell_type": "code",
      "metadata": {
        "colab": {
          "base_uri": "https://localhost:8080/"
        },
        "id": "pPjvBeIwccHs",
        "outputId": "ac416260-7ec2-4d90-fd8f-280996548cea"
      },
      "source": [
        "df.info()"
      ],
      "execution_count": 8,
      "outputs": [
        {
          "output_type": "stream",
          "text": [
            "<class 'pandas.core.frame.DataFrame'>\n",
            "RangeIndex: 120000 entries, 0 to 119999\n",
            "Data columns (total 9 columns):\n",
            " #   Column             Non-Null Count   Dtype  \n",
            "---  ------             --------------   -----  \n",
            " 0   pickup_datetime    120000 non-null  object \n",
            " 1   fare_amount        120000 non-null  float64\n",
            " 2   fare_class         120000 non-null  int64  \n",
            " 3   pickup_longitude   120000 non-null  float64\n",
            " 4   pickup_latitude    120000 non-null  float64\n",
            " 5   dropoff_longitude  120000 non-null  float64\n",
            " 6   dropoff_latitude   120000 non-null  float64\n",
            " 7   passenger_count    120000 non-null  int64  \n",
            " 8   distance_km        120000 non-null  float64\n",
            "dtypes: float64(6), int64(2), object(1)\n",
            "memory usage: 8.2+ MB\n"
          ],
          "name": "stdout"
        }
      ]
    },
    {
      "cell_type": "code",
      "metadata": {
        "id": "CM8sfyXpcy2J"
      },
      "source": [
        "df[\"pickup_datetime\"]=pd.to_datetime(df[\"pickup_datetime\"])"
      ],
      "execution_count": 9,
      "outputs": []
    },
    {
      "cell_type": "code",
      "metadata": {
        "colab": {
          "base_uri": "https://localhost:8080/"
        },
        "id": "SY2Ywtk3c-Qv",
        "outputId": "20051d13-152a-412d-b0aa-428fa60d8a4c"
      },
      "source": [
        "df.info()"
      ],
      "execution_count": 10,
      "outputs": [
        {
          "output_type": "stream",
          "text": [
            "<class 'pandas.core.frame.DataFrame'>\n",
            "RangeIndex: 120000 entries, 0 to 119999\n",
            "Data columns (total 9 columns):\n",
            " #   Column             Non-Null Count   Dtype              \n",
            "---  ------             --------------   -----              \n",
            " 0   pickup_datetime    120000 non-null  datetime64[ns, UTC]\n",
            " 1   fare_amount        120000 non-null  float64            \n",
            " 2   fare_class         120000 non-null  int64              \n",
            " 3   pickup_longitude   120000 non-null  float64            \n",
            " 4   pickup_latitude    120000 non-null  float64            \n",
            " 5   dropoff_longitude  120000 non-null  float64            \n",
            " 6   dropoff_latitude   120000 non-null  float64            \n",
            " 7   passenger_count    120000 non-null  int64              \n",
            " 8   distance_km        120000 non-null  float64            \n",
            "dtypes: datetime64[ns, UTC](1), float64(6), int64(2)\n",
            "memory usage: 8.2 MB\n"
          ],
          "name": "stdout"
        }
      ]
    },
    {
      "cell_type": "code",
      "metadata": {
        "colab": {
          "base_uri": "https://localhost:8080/",
          "height": 202
        },
        "id": "HSXosZASdHLc",
        "outputId": "1a1178e2-bc84-4d84-9f52-4f3d15e5b3b4"
      },
      "source": [
        "df.head()"
      ],
      "execution_count": 11,
      "outputs": [
        {
          "output_type": "execute_result",
          "data": {
            "text/html": [
              "<div>\n",
              "<style scoped>\n",
              "    .dataframe tbody tr th:only-of-type {\n",
              "        vertical-align: middle;\n",
              "    }\n",
              "\n",
              "    .dataframe tbody tr th {\n",
              "        vertical-align: top;\n",
              "    }\n",
              "\n",
              "    .dataframe thead th {\n",
              "        text-align: right;\n",
              "    }\n",
              "</style>\n",
              "<table border=\"1\" class=\"dataframe\">\n",
              "  <thead>\n",
              "    <tr style=\"text-align: right;\">\n",
              "      <th></th>\n",
              "      <th>pickup_datetime</th>\n",
              "      <th>fare_amount</th>\n",
              "      <th>fare_class</th>\n",
              "      <th>pickup_longitude</th>\n",
              "      <th>pickup_latitude</th>\n",
              "      <th>dropoff_longitude</th>\n",
              "      <th>dropoff_latitude</th>\n",
              "      <th>passenger_count</th>\n",
              "      <th>distance_km</th>\n",
              "    </tr>\n",
              "  </thead>\n",
              "  <tbody>\n",
              "    <tr>\n",
              "      <th>0</th>\n",
              "      <td>2010-04-19 08:17:56+00:00</td>\n",
              "      <td>6.5</td>\n",
              "      <td>0</td>\n",
              "      <td>-73.992365</td>\n",
              "      <td>40.730521</td>\n",
              "      <td>-73.975499</td>\n",
              "      <td>40.744746</td>\n",
              "      <td>1</td>\n",
              "      <td>2.126312</td>\n",
              "    </tr>\n",
              "    <tr>\n",
              "      <th>1</th>\n",
              "      <td>2010-04-17 15:43:53+00:00</td>\n",
              "      <td>6.9</td>\n",
              "      <td>0</td>\n",
              "      <td>-73.990078</td>\n",
              "      <td>40.740558</td>\n",
              "      <td>-73.974232</td>\n",
              "      <td>40.744114</td>\n",
              "      <td>1</td>\n",
              "      <td>1.392307</td>\n",
              "    </tr>\n",
              "    <tr>\n",
              "      <th>2</th>\n",
              "      <td>2010-04-17 11:23:26+00:00</td>\n",
              "      <td>10.1</td>\n",
              "      <td>1</td>\n",
              "      <td>-73.994149</td>\n",
              "      <td>40.751118</td>\n",
              "      <td>-73.960064</td>\n",
              "      <td>40.766235</td>\n",
              "      <td>2</td>\n",
              "      <td>3.326763</td>\n",
              "    </tr>\n",
              "    <tr>\n",
              "      <th>3</th>\n",
              "      <td>2010-04-11 21:25:03+00:00</td>\n",
              "      <td>8.9</td>\n",
              "      <td>0</td>\n",
              "      <td>-73.990485</td>\n",
              "      <td>40.756422</td>\n",
              "      <td>-73.971205</td>\n",
              "      <td>40.748192</td>\n",
              "      <td>1</td>\n",
              "      <td>1.864129</td>\n",
              "    </tr>\n",
              "    <tr>\n",
              "      <th>4</th>\n",
              "      <td>2010-04-17 02:19:01+00:00</td>\n",
              "      <td>19.7</td>\n",
              "      <td>1</td>\n",
              "      <td>-73.990976</td>\n",
              "      <td>40.734202</td>\n",
              "      <td>-73.905956</td>\n",
              "      <td>40.743115</td>\n",
              "      <td>1</td>\n",
              "      <td>7.231321</td>\n",
              "    </tr>\n",
              "  </tbody>\n",
              "</table>\n",
              "</div>"
            ],
            "text/plain": [
              "            pickup_datetime  fare_amount  ...  passenger_count  distance_km\n",
              "0 2010-04-19 08:17:56+00:00          6.5  ...                1     2.126312\n",
              "1 2010-04-17 15:43:53+00:00          6.9  ...                1     1.392307\n",
              "2 2010-04-17 11:23:26+00:00         10.1  ...                2     3.326763\n",
              "3 2010-04-11 21:25:03+00:00          8.9  ...                1     1.864129\n",
              "4 2010-04-17 02:19:01+00:00         19.7  ...                1     7.231321\n",
              "\n",
              "[5 rows x 9 columns]"
            ]
          },
          "metadata": {
            "tags": []
          },
          "execution_count": 11
        }
      ]
    },
    {
      "cell_type": "code",
      "metadata": {
        "id": "4vJZwtUwdKPn"
      },
      "source": [
        "my_time=df['pickup_datetime'][0]"
      ],
      "execution_count": 12,
      "outputs": []
    },
    {
      "cell_type": "code",
      "metadata": {
        "colab": {
          "base_uri": "https://localhost:8080/"
        },
        "id": "n5Vd6TQcdVWU",
        "outputId": "d36537ce-1585-4d30-f2f8-7f4f4b3040be"
      },
      "source": [
        "my_time"
      ],
      "execution_count": 13,
      "outputs": [
        {
          "output_type": "execute_result",
          "data": {
            "text/plain": [
              "Timestamp('2010-04-19 08:17:56+0000', tz='UTC')"
            ]
          },
          "metadata": {
            "tags": []
          },
          "execution_count": 13
        }
      ]
    },
    {
      "cell_type": "code",
      "metadata": {
        "id": "VfxGEH_1dWAq"
      },
      "source": [
        "df[\"EDT_Time\"]=df[\"pickup_datetime\"]-pd.Timedelta(hours=4)"
      ],
      "execution_count": 14,
      "outputs": []
    },
    {
      "cell_type": "code",
      "metadata": {
        "id": "WKTYs0L1dfTp"
      },
      "source": [
        "df['Hour']=df[\"EDT_Time\"].dt.hour\n",
        "df[\"AMorPM\"]=np.where(df['Hour']<12,\"am\",\"pm\")\n",
        "df[\"Weekday\"]=df[\"EDT_Time\"].dt.strftime(\"%a\") "
      ],
      "execution_count": 15,
      "outputs": []
    },
    {
      "cell_type": "code",
      "metadata": {
        "colab": {
          "base_uri": "https://localhost:8080/",
          "height": 202
        },
        "id": "kw1XEizPd94t",
        "outputId": "ee345cbe-5ae0-419a-a3eb-6c402822c462"
      },
      "source": [
        "df.head()"
      ],
      "execution_count": 16,
      "outputs": [
        {
          "output_type": "execute_result",
          "data": {
            "text/html": [
              "<div>\n",
              "<style scoped>\n",
              "    .dataframe tbody tr th:only-of-type {\n",
              "        vertical-align: middle;\n",
              "    }\n",
              "\n",
              "    .dataframe tbody tr th {\n",
              "        vertical-align: top;\n",
              "    }\n",
              "\n",
              "    .dataframe thead th {\n",
              "        text-align: right;\n",
              "    }\n",
              "</style>\n",
              "<table border=\"1\" class=\"dataframe\">\n",
              "  <thead>\n",
              "    <tr style=\"text-align: right;\">\n",
              "      <th></th>\n",
              "      <th>pickup_datetime</th>\n",
              "      <th>fare_amount</th>\n",
              "      <th>fare_class</th>\n",
              "      <th>pickup_longitude</th>\n",
              "      <th>pickup_latitude</th>\n",
              "      <th>dropoff_longitude</th>\n",
              "      <th>dropoff_latitude</th>\n",
              "      <th>passenger_count</th>\n",
              "      <th>distance_km</th>\n",
              "      <th>EDT_Time</th>\n",
              "      <th>Hour</th>\n",
              "      <th>AMorPM</th>\n",
              "      <th>Weekday</th>\n",
              "    </tr>\n",
              "  </thead>\n",
              "  <tbody>\n",
              "    <tr>\n",
              "      <th>0</th>\n",
              "      <td>2010-04-19 08:17:56+00:00</td>\n",
              "      <td>6.5</td>\n",
              "      <td>0</td>\n",
              "      <td>-73.992365</td>\n",
              "      <td>40.730521</td>\n",
              "      <td>-73.975499</td>\n",
              "      <td>40.744746</td>\n",
              "      <td>1</td>\n",
              "      <td>2.126312</td>\n",
              "      <td>2010-04-19 04:17:56+00:00</td>\n",
              "      <td>4</td>\n",
              "      <td>am</td>\n",
              "      <td>Mon</td>\n",
              "    </tr>\n",
              "    <tr>\n",
              "      <th>1</th>\n",
              "      <td>2010-04-17 15:43:53+00:00</td>\n",
              "      <td>6.9</td>\n",
              "      <td>0</td>\n",
              "      <td>-73.990078</td>\n",
              "      <td>40.740558</td>\n",
              "      <td>-73.974232</td>\n",
              "      <td>40.744114</td>\n",
              "      <td>1</td>\n",
              "      <td>1.392307</td>\n",
              "      <td>2010-04-17 11:43:53+00:00</td>\n",
              "      <td>11</td>\n",
              "      <td>am</td>\n",
              "      <td>Sat</td>\n",
              "    </tr>\n",
              "    <tr>\n",
              "      <th>2</th>\n",
              "      <td>2010-04-17 11:23:26+00:00</td>\n",
              "      <td>10.1</td>\n",
              "      <td>1</td>\n",
              "      <td>-73.994149</td>\n",
              "      <td>40.751118</td>\n",
              "      <td>-73.960064</td>\n",
              "      <td>40.766235</td>\n",
              "      <td>2</td>\n",
              "      <td>3.326763</td>\n",
              "      <td>2010-04-17 07:23:26+00:00</td>\n",
              "      <td>7</td>\n",
              "      <td>am</td>\n",
              "      <td>Sat</td>\n",
              "    </tr>\n",
              "    <tr>\n",
              "      <th>3</th>\n",
              "      <td>2010-04-11 21:25:03+00:00</td>\n",
              "      <td>8.9</td>\n",
              "      <td>0</td>\n",
              "      <td>-73.990485</td>\n",
              "      <td>40.756422</td>\n",
              "      <td>-73.971205</td>\n",
              "      <td>40.748192</td>\n",
              "      <td>1</td>\n",
              "      <td>1.864129</td>\n",
              "      <td>2010-04-11 17:25:03+00:00</td>\n",
              "      <td>17</td>\n",
              "      <td>pm</td>\n",
              "      <td>Sun</td>\n",
              "    </tr>\n",
              "    <tr>\n",
              "      <th>4</th>\n",
              "      <td>2010-04-17 02:19:01+00:00</td>\n",
              "      <td>19.7</td>\n",
              "      <td>1</td>\n",
              "      <td>-73.990976</td>\n",
              "      <td>40.734202</td>\n",
              "      <td>-73.905956</td>\n",
              "      <td>40.743115</td>\n",
              "      <td>1</td>\n",
              "      <td>7.231321</td>\n",
              "      <td>2010-04-16 22:19:01+00:00</td>\n",
              "      <td>22</td>\n",
              "      <td>pm</td>\n",
              "      <td>Fri</td>\n",
              "    </tr>\n",
              "  </tbody>\n",
              "</table>\n",
              "</div>"
            ],
            "text/plain": [
              "            pickup_datetime  fare_amount  fare_class  ...  Hour  AMorPM  Weekday\n",
              "0 2010-04-19 08:17:56+00:00          6.5           0  ...     4      am      Mon\n",
              "1 2010-04-17 15:43:53+00:00          6.9           0  ...    11      am      Sat\n",
              "2 2010-04-17 11:23:26+00:00         10.1           1  ...     7      am      Sat\n",
              "3 2010-04-11 21:25:03+00:00          8.9           0  ...    17      pm      Sun\n",
              "4 2010-04-17 02:19:01+00:00         19.7           1  ...    22      pm      Fri\n",
              "\n",
              "[5 rows x 13 columns]"
            ]
          },
          "metadata": {
            "tags": []
          },
          "execution_count": 16
        }
      ]
    },
    {
      "cell_type": "code",
      "metadata": {
        "colab": {
          "base_uri": "https://localhost:8080/"
        },
        "id": "z_GTVW7WkUIR",
        "outputId": "dd648867-ab67-4a05-f37d-edb254c78a2b"
      },
      "source": [
        "df.columns"
      ],
      "execution_count": 17,
      "outputs": [
        {
          "output_type": "execute_result",
          "data": {
            "text/plain": [
              "Index(['pickup_datetime', 'fare_amount', 'fare_class', 'pickup_longitude',\n",
              "       'pickup_latitude', 'dropoff_longitude', 'dropoff_latitude',\n",
              "       'passenger_count', 'distance_km', 'EDT_Time', 'Hour', 'AMorPM',\n",
              "       'Weekday'],\n",
              "      dtype='object')"
            ]
          },
          "metadata": {
            "tags": []
          },
          "execution_count": 17
        }
      ]
    },
    {
      "cell_type": "code",
      "metadata": {
        "id": "ux9q3CqefHVQ"
      },
      "source": [
        "cat_cols=[\"Hour\",\"AMorPM\",\"Weekday\"]\n",
        "cont_cols=['pickup_longitude',\n",
        "           'pickup_latitude', 'dropoff_longitude', 'dropoff_latitude',\n",
        "           'passenger_count', 'distance_km']"
      ],
      "execution_count": 18,
      "outputs": []
    },
    {
      "cell_type": "code",
      "metadata": {
        "id": "in20khUGkdzh"
      },
      "source": [
        "y_col=[\"fare_amount\"]"
      ],
      "execution_count": 19,
      "outputs": []
    },
    {
      "cell_type": "code",
      "metadata": {
        "colab": {
          "base_uri": "https://localhost:8080/"
        },
        "id": "3Y4oESCvktjs",
        "outputId": "f2120383-5bcf-4537-b1fa-aa7363b1403b"
      },
      "source": [
        "df.dtypes"
      ],
      "execution_count": 20,
      "outputs": [
        {
          "output_type": "execute_result",
          "data": {
            "text/plain": [
              "pickup_datetime      datetime64[ns, UTC]\n",
              "fare_amount                      float64\n",
              "fare_class                         int64\n",
              "pickup_longitude                 float64\n",
              "pickup_latitude                  float64\n",
              "dropoff_longitude                float64\n",
              "dropoff_latitude                 float64\n",
              "passenger_count                    int64\n",
              "distance_km                      float64\n",
              "EDT_Time             datetime64[ns, UTC]\n",
              "Hour                               int64\n",
              "AMorPM                            object\n",
              "Weekday                           object\n",
              "dtype: object"
            ]
          },
          "metadata": {
            "tags": []
          },
          "execution_count": 20
        }
      ]
    },
    {
      "cell_type": "code",
      "metadata": {
        "id": "lJa12TDYkyzq"
      },
      "source": [
        "for cat in cat_cols:\n",
        "  df[cat]=df[cat].astype(\"category\")"
      ],
      "execution_count": 21,
      "outputs": []
    },
    {
      "cell_type": "code",
      "metadata": {
        "colab": {
          "base_uri": "https://localhost:8080/"
        },
        "id": "_Rb-GmE1lBHr",
        "outputId": "cd1e4b65-311e-461c-94ac-2957fb5941a0"
      },
      "source": [
        "df.dtypes"
      ],
      "execution_count": 22,
      "outputs": [
        {
          "output_type": "execute_result",
          "data": {
            "text/plain": [
              "pickup_datetime      datetime64[ns, UTC]\n",
              "fare_amount                      float64\n",
              "fare_class                         int64\n",
              "pickup_longitude                 float64\n",
              "pickup_latitude                  float64\n",
              "dropoff_longitude                float64\n",
              "dropoff_latitude                 float64\n",
              "passenger_count                    int64\n",
              "distance_km                      float64\n",
              "EDT_Time             datetime64[ns, UTC]\n",
              "Hour                            category\n",
              "AMorPM                          category\n",
              "Weekday                         category\n",
              "dtype: object"
            ]
          },
          "metadata": {
            "tags": []
          },
          "execution_count": 22
        }
      ]
    },
    {
      "cell_type": "code",
      "metadata": {
        "colab": {
          "base_uri": "https://localhost:8080/"
        },
        "id": "OKbfqGgHlFxM",
        "outputId": "dfab6363-f101-4a31-836a-7adff61f8d27"
      },
      "source": [
        "df[\"Weekday\"].cat.codes.values"
      ],
      "execution_count": 23,
      "outputs": [
        {
          "output_type": "execute_result",
          "data": {
            "text/plain": [
              "array([1, 2, 2, ..., 3, 5, 2], dtype=int8)"
            ]
          },
          "metadata": {
            "tags": []
          },
          "execution_count": 23
        }
      ]
    },
    {
      "cell_type": "code",
      "metadata": {
        "colab": {
          "base_uri": "https://localhost:8080/"
        },
        "id": "SaADKOs3lMHZ",
        "outputId": "afc7376f-027f-42a4-9d1f-c8f2124046ec"
      },
      "source": [
        "df[\"Weekday\"].cat.categories"
      ],
      "execution_count": 24,
      "outputs": [
        {
          "output_type": "execute_result",
          "data": {
            "text/plain": [
              "Index(['Fri', 'Mon', 'Sat', 'Sun', 'Thu', 'Tue', 'Wed'], dtype='object')"
            ]
          },
          "metadata": {
            "tags": []
          },
          "execution_count": 24
        }
      ]
    },
    {
      "cell_type": "code",
      "metadata": {
        "id": "42ubUpGMmMms"
      },
      "source": [
        "hr=df[\"Hour\"].cat.codes.values\n",
        "wkdy=df[\"Weekday\"].cat.codes.values\n",
        "ampm=df[\"AMorPM\"].cat.codes.values"
      ],
      "execution_count": 25,
      "outputs": []
    },
    {
      "cell_type": "code",
      "metadata": {
        "id": "jz5DN-sUm-cM"
      },
      "source": [
        "cats=np.stack([hr,wkdy,ampm],axis=1)"
      ],
      "execution_count": 26,
      "outputs": []
    },
    {
      "cell_type": "code",
      "metadata": {
        "colab": {
          "base_uri": "https://localhost:8080/"
        },
        "id": "9EKEnLfanINe",
        "outputId": "a0d77d37-76e0-4299-ac63-9eecdcc5ae1e"
      },
      "source": [
        "cats"
      ],
      "execution_count": 27,
      "outputs": [
        {
          "output_type": "execute_result",
          "data": {
            "text/plain": [
              "array([[ 4,  1,  0],\n",
              "       [11,  2,  0],\n",
              "       [ 7,  2,  0],\n",
              "       ...,\n",
              "       [14,  3,  1],\n",
              "       [ 4,  5,  0],\n",
              "       [12,  2,  1]], dtype=int8)"
            ]
          },
          "metadata": {
            "tags": []
          },
          "execution_count": 27
        }
      ]
    },
    {
      "cell_type": "code",
      "metadata": {
        "id": "bUh6dsrhnLN8"
      },
      "source": [
        "cats=np.stack([df[col].cat.codes.values for col in cat_cols],1)"
      ],
      "execution_count": 28,
      "outputs": []
    },
    {
      "cell_type": "code",
      "metadata": {
        "colab": {
          "base_uri": "https://localhost:8080/"
        },
        "id": "2VunGAQJniI_",
        "outputId": "6a1aac5c-db8a-4709-c8b1-49a76404518b"
      },
      "source": [
        "cats"
      ],
      "execution_count": 29,
      "outputs": [
        {
          "output_type": "execute_result",
          "data": {
            "text/plain": [
              "array([[ 4,  0,  1],\n",
              "       [11,  0,  2],\n",
              "       [ 7,  0,  2],\n",
              "       ...,\n",
              "       [14,  1,  3],\n",
              "       [ 4,  0,  5],\n",
              "       [12,  1,  2]], dtype=int8)"
            ]
          },
          "metadata": {
            "tags": []
          },
          "execution_count": 29
        }
      ]
    },
    {
      "cell_type": "code",
      "metadata": {
        "id": "9xKunja2nihx"
      },
      "source": [
        "cats=torch.tensor(cats,dtype=torch.int64)"
      ],
      "execution_count": 30,
      "outputs": []
    },
    {
      "cell_type": "code",
      "metadata": {
        "colab": {
          "base_uri": "https://localhost:8080/"
        },
        "id": "kg5v8z3pn5qf",
        "outputId": "8fd38547-5cc7-4062-9321-6d4f6a94c877"
      },
      "source": [
        "cats"
      ],
      "execution_count": 31,
      "outputs": [
        {
          "output_type": "execute_result",
          "data": {
            "text/plain": [
              "tensor([[ 4,  0,  1],\n",
              "        [11,  0,  2],\n",
              "        [ 7,  0,  2],\n",
              "        ...,\n",
              "        [14,  1,  3],\n",
              "        [ 4,  0,  5],\n",
              "        [12,  1,  2]])"
            ]
          },
          "metadata": {
            "tags": []
          },
          "execution_count": 31
        }
      ]
    },
    {
      "cell_type": "code",
      "metadata": {
        "id": "whiC6kj6n6DY"
      },
      "source": [
        "conts=np.stack([df[col].values for col in cont_cols],axis=1)"
      ],
      "execution_count": 32,
      "outputs": []
    },
    {
      "cell_type": "code",
      "metadata": {
        "colab": {
          "base_uri": "https://localhost:8080/"
        },
        "id": "0PGDb0BJoKWc",
        "outputId": "589478f3-76fb-417b-a390-2a2427119bfa"
      },
      "source": [
        "conts"
      ],
      "execution_count": 33,
      "outputs": [
        {
          "output_type": "execute_result",
          "data": {
            "text/plain": [
              "array([[-73.992365  ,  40.730521  , -73.975499  ,  40.744746  ,\n",
              "          1.        ,   2.12631159],\n",
              "       [-73.990078  ,  40.740558  , -73.974232  ,  40.744114  ,\n",
              "          1.        ,   1.39230687],\n",
              "       [-73.994149  ,  40.751118  , -73.960064  ,  40.766235  ,\n",
              "          2.        ,   3.32676344],\n",
              "       ...,\n",
              "       [-73.988574  ,  40.749772  , -74.011541  ,  40.707799  ,\n",
              "          3.        ,   5.05252282],\n",
              "       [-74.004449  ,  40.724529  , -73.992697  ,  40.730765  ,\n",
              "          1.        ,   1.20892296],\n",
              "       [-73.955415  ,  40.77192   , -73.967623  ,  40.763015  ,\n",
              "          3.        ,   1.42739869]])"
            ]
          },
          "metadata": {
            "tags": []
          },
          "execution_count": 33
        }
      ]
    },
    {
      "cell_type": "code",
      "metadata": {
        "id": "UWs29L13oPQT"
      },
      "source": [
        "conts=torch.tensor(conts,dtype=torch.float)"
      ],
      "execution_count": 34,
      "outputs": []
    },
    {
      "cell_type": "code",
      "metadata": {
        "colab": {
          "base_uri": "https://localhost:8080/"
        },
        "id": "_7QRptzCoU7J",
        "outputId": "1eed9386-206b-4a66-9190-8c444f01bc00"
      },
      "source": [
        "conts"
      ],
      "execution_count": 35,
      "outputs": [
        {
          "output_type": "execute_result",
          "data": {
            "text/plain": [
              "tensor([[-73.9924,  40.7305, -73.9755,  40.7447,   1.0000,   2.1263],\n",
              "        [-73.9901,  40.7406, -73.9742,  40.7441,   1.0000,   1.3923],\n",
              "        [-73.9941,  40.7511, -73.9601,  40.7662,   2.0000,   3.3268],\n",
              "        ...,\n",
              "        [-73.9886,  40.7498, -74.0115,  40.7078,   3.0000,   5.0525],\n",
              "        [-74.0044,  40.7245, -73.9927,  40.7308,   1.0000,   1.2089],\n",
              "        [-73.9554,  40.7719, -73.9676,  40.7630,   3.0000,   1.4274]])"
            ]
          },
          "metadata": {
            "tags": []
          },
          "execution_count": 35
        }
      ]
    },
    {
      "cell_type": "code",
      "metadata": {
        "id": "AGmbbGxGoVcx"
      },
      "source": [
        "y=torch.tensor(df[y_col].values,dtype=torch.float)"
      ],
      "execution_count": 36,
      "outputs": []
    },
    {
      "cell_type": "code",
      "metadata": {
        "colab": {
          "base_uri": "https://localhost:8080/"
        },
        "id": "lYjqdrfKowbA",
        "outputId": "8c6d781f-978e-4d86-bb55-75f650831b9d"
      },
      "source": [
        "y"
      ],
      "execution_count": 37,
      "outputs": [
        {
          "output_type": "execute_result",
          "data": {
            "text/plain": [
              "tensor([[ 6.5000],\n",
              "        [ 6.9000],\n",
              "        [10.1000],\n",
              "        ...,\n",
              "        [12.5000],\n",
              "        [ 4.9000],\n",
              "        [ 5.3000]])"
            ]
          },
          "metadata": {
            "tags": []
          },
          "execution_count": 37
        }
      ]
    },
    {
      "cell_type": "code",
      "metadata": {
        "colab": {
          "base_uri": "https://localhost:8080/"
        },
        "id": "vB-bryQOoxAj",
        "outputId": "3c5f18ba-f308-440c-ba82-09285f068864"
      },
      "source": [
        "print(cats.shape,conts.shape,y.shape)"
      ],
      "execution_count": 38,
      "outputs": [
        {
          "output_type": "stream",
          "text": [
            "torch.Size([120000, 3]) torch.Size([120000, 6]) torch.Size([120000, 1])\n"
          ],
          "name": "stdout"
        }
      ]
    },
    {
      "cell_type": "code",
      "metadata": {
        "id": "an_2Q70Io5hS"
      },
      "source": [
        "cat_sizes=[len(df[col].cat.categories) for col in cat_cols]"
      ],
      "execution_count": 39,
      "outputs": []
    },
    {
      "cell_type": "code",
      "metadata": {
        "colab": {
          "base_uri": "https://localhost:8080/"
        },
        "id": "H7JdMamwpWNF",
        "outputId": "07254da5-2844-4f24-859f-46bf356c2c2c"
      },
      "source": [
        "cat_sizes"
      ],
      "execution_count": 40,
      "outputs": [
        {
          "output_type": "execute_result",
          "data": {
            "text/plain": [
              "[24, 2, 7]"
            ]
          },
          "metadata": {
            "tags": []
          },
          "execution_count": 40
        }
      ]
    },
    {
      "cell_type": "code",
      "metadata": {
        "id": "52-FRTUJpXpG"
      },
      "source": [
        "emb_sizes=[(size,min(50,(size+1)//2)) for size in cat_sizes]"
      ],
      "execution_count": 41,
      "outputs": []
    },
    {
      "cell_type": "code",
      "metadata": {
        "colab": {
          "base_uri": "https://localhost:8080/"
        },
        "id": "T4i45oCup93Y",
        "outputId": "b43b6a0b-a570-491c-ff63-de95191018f2"
      },
      "source": [
        "emb_sizes"
      ],
      "execution_count": 42,
      "outputs": [
        {
          "output_type": "execute_result",
          "data": {
            "text/plain": [
              "[(24, 12), (2, 1), (7, 4)]"
            ]
          },
          "metadata": {
            "tags": []
          },
          "execution_count": 42
        }
      ]
    },
    {
      "cell_type": "code",
      "metadata": {
        "id": "1EXJcMrFp-pp"
      },
      "source": [
        "catz=cats[:4]"
      ],
      "execution_count": 43,
      "outputs": []
    },
    {
      "cell_type": "code",
      "metadata": {
        "colab": {
          "base_uri": "https://localhost:8080/"
        },
        "id": "qFEHCzZBqafB",
        "outputId": "dec729c6-1a7b-45e5-ec44-604a0be17df6"
      },
      "source": [
        "catz"
      ],
      "execution_count": 44,
      "outputs": [
        {
          "output_type": "execute_result",
          "data": {
            "text/plain": [
              "tensor([[ 4,  0,  1],\n",
              "        [11,  0,  2],\n",
              "        [ 7,  0,  2],\n",
              "        [17,  1,  3]])"
            ]
          },
          "metadata": {
            "tags": []
          },
          "execution_count": 44
        }
      ]
    },
    {
      "cell_type": "code",
      "metadata": {
        "id": "iBwa_tgkqa2s"
      },
      "source": [
        "selfembeds=nn.ModuleList([nn.Embedding(ni,nf) for ni,nf in emb_sizes])"
      ],
      "execution_count": 45,
      "outputs": []
    },
    {
      "cell_type": "code",
      "metadata": {
        "colab": {
          "base_uri": "https://localhost:8080/"
        },
        "id": "hiOe-VDHqxSt",
        "outputId": "68f3193c-2dd2-4a6a-e97d-306aa111a77c"
      },
      "source": [
        "selfembeds"
      ],
      "execution_count": 46,
      "outputs": [
        {
          "output_type": "execute_result",
          "data": {
            "text/plain": [
              "ModuleList(\n",
              "  (0): Embedding(24, 12)\n",
              "  (1): Embedding(2, 1)\n",
              "  (2): Embedding(7, 4)\n",
              ")"
            ]
          },
          "metadata": {
            "tags": []
          },
          "execution_count": 46
        }
      ]
    },
    {
      "cell_type": "code",
      "metadata": {
        "colab": {
          "base_uri": "https://localhost:8080/"
        },
        "id": "vrECcohqq4Hn",
        "outputId": "c5bbd741-cbb1-4e54-f709-da423064989a"
      },
      "source": [
        "#this happens in forword pass\n",
        "embeddingz = []\n",
        "for i,e in enumerate(selfembeds):\n",
        "    embeddingz.append(e(catz[:,i]))\n",
        "embeddingz"
      ],
      "execution_count": 47,
      "outputs": [
        {
          "output_type": "execute_result",
          "data": {
            "text/plain": [
              "[tensor([[ 0.0044, -0.6085, -1.6781, -1.2227,  0.1790, -0.6237, -0.7254, -0.7570,\n",
              "          -1.2883, -0.6750,  1.0691,  1.1883],\n",
              "         [-0.2421,  0.8636, -0.0885, -1.0613, -0.8609,  0.0662, -0.9508, -1.4363,\n",
              "          -1.3129,  0.2798, -0.3224,  0.0741],\n",
              "         [-2.1137, -0.0179,  0.1060,  0.8972,  1.5070, -1.0291, -0.7338, -0.0482,\n",
              "           1.0977,  0.7666,  1.0227,  0.6116],\n",
              "         [-0.1846, -0.4775, -0.6737,  0.5735, -0.9284, -0.4106,  1.2209, -2.1431,\n",
              "           1.3150, -1.1649, -0.9122, -0.3574]], grad_fn=<EmbeddingBackward>),\n",
              " tensor([[ 0.2399],\n",
              "         [ 0.2399],\n",
              "         [ 0.2399],\n",
              "         [-1.7482]], grad_fn=<EmbeddingBackward>),\n",
              " tensor([[ 0.8512, -1.1245,  0.5569, -0.0551],\n",
              "         [-0.5166,  2.1762,  1.2609,  0.8897],\n",
              "         [-0.5166,  2.1762,  1.2609,  0.8897],\n",
              "         [ 0.2117, -1.8138, -0.5988, -1.6799]], grad_fn=<EmbeddingBackward>)]"
            ]
          },
          "metadata": {
            "tags": []
          },
          "execution_count": 47
        }
      ]
    },
    {
      "cell_type": "code",
      "metadata": {
        "id": "rBZ1opcnsySN"
      },
      "source": [
        "z=torch.cat(embeddingz,1)"
      ],
      "execution_count": 48,
      "outputs": []
    },
    {
      "cell_type": "code",
      "metadata": {
        "colab": {
          "base_uri": "https://localhost:8080/"
        },
        "id": "egigaAhYs-D-",
        "outputId": "7c861951-a056-4514-c4b6-c8a8b13180db"
      },
      "source": [
        "z"
      ],
      "execution_count": 49,
      "outputs": [
        {
          "output_type": "execute_result",
          "data": {
            "text/plain": [
              "tensor([[ 0.0044, -0.6085, -1.6781, -1.2227,  0.1790, -0.6237, -0.7254, -0.7570,\n",
              "         -1.2883, -0.6750,  1.0691,  1.1883,  0.2399,  0.8512, -1.1245,  0.5569,\n",
              "         -0.0551],\n",
              "        [-0.2421,  0.8636, -0.0885, -1.0613, -0.8609,  0.0662, -0.9508, -1.4363,\n",
              "         -1.3129,  0.2798, -0.3224,  0.0741,  0.2399, -0.5166,  2.1762,  1.2609,\n",
              "          0.8897],\n",
              "        [-2.1137, -0.0179,  0.1060,  0.8972,  1.5070, -1.0291, -0.7338, -0.0482,\n",
              "          1.0977,  0.7666,  1.0227,  0.6116,  0.2399, -0.5166,  2.1762,  1.2609,\n",
              "          0.8897],\n",
              "        [-0.1846, -0.4775, -0.6737,  0.5735, -0.9284, -0.4106,  1.2209, -2.1431,\n",
              "          1.3150, -1.1649, -0.9122, -0.3574, -1.7482,  0.2117, -1.8138, -0.5988,\n",
              "         -1.6799]], grad_fn=<CatBackward>)"
            ]
          },
          "metadata": {
            "tags": []
          },
          "execution_count": 49
        }
      ]
    },
    {
      "cell_type": "code",
      "metadata": {
        "id": "yQ_zlg_-s-S5"
      },
      "source": [
        "selfemdrop=nn.Dropout(0.4)"
      ],
      "execution_count": 50,
      "outputs": []
    },
    {
      "cell_type": "code",
      "metadata": {
        "id": "9pbpOHZItGZc"
      },
      "source": [
        "z=selfemdrop(z)"
      ],
      "execution_count": 51,
      "outputs": []
    },
    {
      "cell_type": "code",
      "metadata": {
        "colab": {
          "base_uri": "https://localhost:8080/"
        },
        "id": "UZEhITaEtKdY",
        "outputId": "861a19af-b180-47e3-8021-a49fa658b27d"
      },
      "source": [
        "z"
      ],
      "execution_count": 52,
      "outputs": [
        {
          "output_type": "execute_result",
          "data": {
            "text/plain": [
              "tensor([[ 0.0073, -1.0142, -0.0000, -0.0000,  0.0000, -1.0395, -1.2090, -1.2617,\n",
              "         -2.1472, -1.1251,  1.7818,  0.0000,  0.3999,  0.0000, -0.0000,  0.9282,\n",
              "         -0.0918],\n",
              "        [-0.0000,  1.4393, -0.1475, -1.7688, -1.4349,  0.0000, -0.0000, -2.3938,\n",
              "         -0.0000,  0.0000, -0.0000,  0.1234,  0.0000, -0.0000,  3.6270,  2.1015,\n",
              "          0.0000],\n",
              "        [-3.5228, -0.0298,  0.1767,  1.4953,  2.5117, -1.7152, -1.2229, -0.0803,\n",
              "          0.0000,  0.0000,  1.7045,  0.0000,  0.0000, -0.8611,  0.0000,  2.1015,\n",
              "          0.0000],\n",
              "        [-0.3077, -0.7958, -1.1229,  0.9559, -0.0000, -0.0000,  2.0348, -3.5719,\n",
              "          2.1916, -0.0000, -0.0000, -0.5956, -2.9136,  0.3528, -3.0229, -0.9979,\n",
              "         -2.7998]], grad_fn=<MulBackward0>)"
            ]
          },
          "metadata": {
            "tags": []
          },
          "execution_count": 52
        }
      ]
    },
    {
      "cell_type": "code",
      "metadata": {
        "id": "rO4YhRh6tKnx"
      },
      "source": [
        "class TabularModel(nn.Module):\n",
        "\n",
        "    def __init__(self, emb_szs, n_cont, out_sz, layers, p=0.5):\n",
        "        super().__init__()\n",
        "        self.embeds = nn.ModuleList([nn.Embedding(ni, nf) for ni,nf in emb_szs])\n",
        "        self.emb_drop = nn.Dropout(p)\n",
        "        self.bn_cont = nn.BatchNorm1d(n_cont)\n",
        "        \n",
        "        layerlist = []\n",
        "        n_emb = sum((nf for ni,nf in emb_szs))\n",
        "        n_in = n_emb + n_cont\n",
        "        \n",
        "        for i in layers:\n",
        "            layerlist.append(nn.Linear(n_in,i)) \n",
        "            layerlist.append(nn.ReLU(inplace=True))\n",
        "            layerlist.append(nn.BatchNorm1d(i))\n",
        "            layerlist.append(nn.Dropout(p))\n",
        "            n_in = i\n",
        "        layerlist.append(nn.Linear(layers[-1],out_sz))\n",
        "            \n",
        "        self.layers = nn.Sequential(*layerlist)\n",
        "    \n",
        "    def forward(self, x_cat, x_cont):\n",
        "        embeddings = []\n",
        "        for i,e in enumerate(self.embeds):\n",
        "            embeddings.append(e(x_cat[:,i]))\n",
        "        x = torch.cat(embeddings, 1)\n",
        "        x = self.emb_drop(x)\n",
        "        \n",
        "        x_cont = self.bn_cont(x_cont)\n",
        "        x = torch.cat([x, x_cont], 1)\n",
        "        x = self.layers(x)\n",
        "        return x"
      ],
      "execution_count": 53,
      "outputs": []
    },
    {
      "cell_type": "code",
      "metadata": {
        "id": "VC4nK-iMC80W"
      },
      "source": [
        "model=TabularModel(emb_sizes,conts.shape[1],1,[200,100],p=0.4)"
      ],
      "execution_count": 66,
      "outputs": []
    },
    {
      "cell_type": "code",
      "metadata": {
        "colab": {
          "base_uri": "https://localhost:8080/"
        },
        "id": "l8aUT4tXDQYM",
        "outputId": "15b40192-da62-4dce-f2e8-529142738122"
      },
      "source": [
        "model"
      ],
      "execution_count": 67,
      "outputs": [
        {
          "output_type": "execute_result",
          "data": {
            "text/plain": [
              "TabularModel(\n",
              "  (embeds): ModuleList(\n",
              "    (0): Embedding(24, 12)\n",
              "    (1): Embedding(2, 1)\n",
              "    (2): Embedding(7, 4)\n",
              "  )\n",
              "  (emb_drop): Dropout(p=0.4, inplace=False)\n",
              "  (bn_cont): BatchNorm1d(6, eps=1e-05, momentum=0.1, affine=True, track_running_stats=True)\n",
              "  (layers): Sequential(\n",
              "    (0): Linear(in_features=23, out_features=200, bias=True)\n",
              "    (1): ReLU(inplace=True)\n",
              "    (2): BatchNorm1d(200, eps=1e-05, momentum=0.1, affine=True, track_running_stats=True)\n",
              "    (3): Dropout(p=0.4, inplace=False)\n",
              "    (4): Linear(in_features=200, out_features=100, bias=True)\n",
              "    (5): ReLU(inplace=True)\n",
              "    (6): BatchNorm1d(100, eps=1e-05, momentum=0.1, affine=True, track_running_stats=True)\n",
              "    (7): Dropout(p=0.4, inplace=False)\n",
              "    (8): Linear(in_features=100, out_features=1, bias=True)\n",
              "  )\n",
              ")"
            ]
          },
          "metadata": {
            "tags": []
          },
          "execution_count": 67
        }
      ]
    },
    {
      "cell_type": "code",
      "metadata": {
        "id": "s_olLijQEjkQ"
      },
      "source": [
        "batch_size = 60000\n",
        "test_size = int(batch_size * .2)\n",
        "\n",
        "cat_train = cats[:batch_size-test_size]\n",
        "cat_test = cats[batch_size-test_size:batch_size]\n",
        "con_train = conts[:batch_size-test_size]\n",
        "con_test = conts[batch_size-test_size:batch_size]\n",
        "y_train = y[:batch_size-test_size]\n",
        "y_test = y[batch_size-test_size:batch_size]"
      ],
      "execution_count": 68,
      "outputs": []
    },
    {
      "cell_type": "code",
      "metadata": {
        "id": "gZKlqR7OE8vK"
      },
      "source": [
        "criterion = nn.MSELoss() \n",
        "optimizer = torch.optim.Adam(model.parameters(), lr=0.001)"
      ],
      "execution_count": 69,
      "outputs": []
    },
    {
      "cell_type": "code",
      "metadata": {
        "colab": {
          "base_uri": "https://localhost:8080/"
        },
        "id": "uw4sujebE9qy",
        "outputId": "9fea15a8-8bc6-4552-88f0-7b83570e3a40"
      },
      "source": [
        "import time\n",
        "start_time=time.time()\n",
        "epochs=300\n",
        "losses=[]\n",
        "for i in range(epochs):\n",
        "  y_pred=model(cat_train,con_train)\n",
        "  loss=torch.sqrt(criterion(y_pred,y_train))\n",
        "  losses.append(loss)\n",
        "  if i%10==0:\n",
        "    print(f\"Epoch: {i} Loss: {loss}\")\n",
        "  optimizer.zero_grad()\n",
        "  loss.backward()\n",
        "  optimizer.step()\n",
        "duration=time.time()-start_time\n",
        "print(f\"Time Taken {duration/60} minutes\")"
      ],
      "execution_count": 70,
      "outputs": [
        {
          "output_type": "stream",
          "text": [
            "Epoch: 0 Loss: 12.619027137756348\n",
            "Epoch: 10 Loss: 11.718297958374023\n",
            "Epoch: 20 Loss: 11.111527442932129\n",
            "Epoch: 30 Loss: 10.715119361877441\n",
            "Epoch: 40 Loss: 10.42496395111084\n",
            "Epoch: 50 Loss: 10.196025848388672\n",
            "Epoch: 60 Loss: 10.013688087463379\n",
            "Epoch: 70 Loss: 9.821294784545898\n",
            "Epoch: 80 Loss: 9.636232376098633\n",
            "Epoch: 90 Loss: 9.426163673400879\n",
            "Epoch: 100 Loss: 9.169565200805664\n",
            "Epoch: 110 Loss: 8.888559341430664\n",
            "Epoch: 120 Loss: 8.58887004852295\n",
            "Epoch: 130 Loss: 8.215535163879395\n",
            "Epoch: 140 Loss: 7.8147735595703125\n",
            "Epoch: 150 Loss: 7.401594638824463\n",
            "Epoch: 160 Loss: 6.93002986907959\n",
            "Epoch: 170 Loss: 6.427277565002441\n",
            "Epoch: 180 Loss: 5.937445163726807\n",
            "Epoch: 190 Loss: 5.46004581451416\n",
            "Epoch: 200 Loss: 5.019212245941162\n",
            "Epoch: 210 Loss: 4.628223896026611\n",
            "Epoch: 220 Loss: 4.292520999908447\n",
            "Epoch: 230 Loss: 4.080895900726318\n",
            "Epoch: 240 Loss: 3.9395699501037598\n",
            "Epoch: 250 Loss: 3.8595635890960693\n",
            "Epoch: 260 Loss: 3.78428316116333\n",
            "Epoch: 270 Loss: 3.7554478645324707\n",
            "Epoch: 280 Loss: 3.72674560546875\n",
            "Epoch: 290 Loss: 3.7204697132110596\n",
            "Time Taken 5.124002548058828 minutes\n"
          ],
          "name": "stdout"
        }
      ]
    },
    {
      "cell_type": "code",
      "metadata": {
        "id": "1yXGei_IFAuf"
      },
      "source": [
        "def plot_loss(ls,ep):\n",
        "  plt.plot(range(epochs),ls)\n",
        "  plt.ylabel(\"Loss\")\n",
        "  plt.xlabel(\"Epoch\")"
      ],
      "execution_count": 71,
      "outputs": []
    },
    {
      "cell_type": "code",
      "metadata": {
        "colab": {
          "base_uri": "https://localhost:8080/",
          "height": 278
        },
        "id": "D-32hAtCFEGB",
        "outputId": "b9ad25d3-f11a-4779-890f-5fec17973ae8"
      },
      "source": [
        "plot_loss(losses,epochs)"
      ],
      "execution_count": 72,
      "outputs": [
        {
          "output_type": "display_data",
          "data": {
            "image/png": "[encoded data removed]",
            "text/plain": [
              "<Figure size 432x288 with 1 Axes>"
            ]
          },
          "metadata": {
            "tags": [],
            "needs_background": "light"
          }
        }
      ]
    },
    {
      "cell_type": "code",
      "metadata": {
        "id": "iZXDFZaCNZyN"
      },
      "source": [
        "with torch.no_grad():\n",
        "  y_val=model(cat_test,con_test)\n",
        "  loss=torch.sqrt(criterion(y_val,y_test))"
      ],
      "execution_count": 73,
      "outputs": []
    },
    {
      "cell_type": "code",
      "metadata": {
        "colab": {
          "base_uri": "https://localhost:8080/"
        },
        "id": "r809wuaDNux5",
        "outputId": "5dfecc80-4f4d-468d-c8b9-e15c6a676bee"
      },
      "source": [
        "loss"
      ],
      "execution_count": 74,
      "outputs": [
        {
          "output_type": "execute_result",
          "data": {
            "text/plain": [
              "tensor(3.6706)"
            ]
          },
          "metadata": {
            "tags": []
          },
          "execution_count": 74
        }
      ]
    },
    {
      "cell_type": "code",
      "metadata": {
        "colab": {
          "base_uri": "https://localhost:8080/"
        },
        "id": "UXYW1f2mNvNd",
        "outputId": "230bdfcb-cf87-4292-fa80-39290f40d3e8"
      },
      "source": [
        "for j in range(100):\n",
        "  i=np.random.randint(test_size)\n",
        "  diff = np.abs(y_val[i].item()-y_test[i].item())\n",
        "  print(f\"{i+1}: \\t Predicted: {y_val[i].item():8.4f} \\t Actual: {y_test[i][0]:8.4f} \\t Difference: {diff:8.4f}\")"
      ],
      "execution_count": 88,
      "outputs": [
        {
          "output_type": "stream",
          "text": [
            "4426: \t Predicted:   1.9173 \t Actual:   7.3000 \t Difference:   5.3827\n",
            "6194: \t Predicted:   3.2403 \t Actual:   4.9000 \t Difference:   1.6597\n",
            "4714: \t Predicted:  11.4277 \t Actual:  13.3000 \t Difference:   1.8723\n",
            "4278: \t Predicted:  16.9564 \t Actual:  16.1000 \t Difference:   0.8564\n",
            "6882: \t Predicted:   4.5133 \t Actual:   6.9000 \t Difference:   2.3867\n",
            "3420: \t Predicted:  18.0552 \t Actual:  18.1000 \t Difference:   0.0448\n",
            "2080: \t Predicted:   3.7776 \t Actual:   4.5000 \t Difference:   0.7224\n",
            "5574: \t Predicted:   7.9968 \t Actual:   5.3000 \t Difference:   2.6968\n",
            "1151: \t Predicted:   6.8919 \t Actual:  11.3000 \t Difference:   4.4081\n",
            "4068: \t Predicted:   6.9208 \t Actual:   6.9000 \t Difference:   0.0208\n",
            "4256: \t Predicted:   5.6562 \t Actual:   9.3000 \t Difference:   3.6438\n",
            "5306: \t Predicted:  10.9279 \t Actual:  13.7000 \t Difference:   2.7721\n",
            "3157: \t Predicted:   6.6440 \t Actual:   6.9000 \t Difference:   0.2560\n",
            "9510: \t Predicted:   8.4462 \t Actual:   7.3000 \t Difference:   1.1462\n",
            "1565: \t Predicted:  10.6497 \t Actual:   8.5000 \t Difference:   2.1497\n",
            "9524: \t Predicted:  26.6345 \t Actual:  26.2700 \t Difference:   0.3645\n",
            "1970: \t Predicted:   9.6992 \t Actual:   9.7000 \t Difference:   0.0008\n",
            "11601: \t Predicted:   4.9477 \t Actual:   6.1000 \t Difference:   1.1523\n",
            "9125: \t Predicted:   5.8472 \t Actual:   4.1000 \t Difference:   1.7472\n",
            "3229: \t Predicted:   9.2104 \t Actual:   7.3000 \t Difference:   1.9104\n",
            "1543: \t Predicted:   6.7518 \t Actual:   6.9000 \t Difference:   0.1482\n",
            "8913: \t Predicted:  25.8693 \t Actual:  18.5000 \t Difference:   7.3693\n",
            "57: \t Predicted:  15.8720 \t Actual:  16.5000 \t Difference:   0.6280\n",
            "3042: \t Predicted:  38.7029 \t Actual:  45.8100 \t Difference:   7.1071\n",
            "9278: \t Predicted:  30.5068 \t Actual:  24.9000 \t Difference:   5.6068\n",
            "6041: \t Predicted:   1.7534 \t Actual:   4.5000 \t Difference:   2.7466\n",
            "7732: \t Predicted:   5.8859 \t Actual:   3.7000 \t Difference:   2.1859\n",
            "6180: \t Predicted:   5.3947 \t Actual:   3.7000 \t Difference:   1.6947\n",
            "3398: \t Predicted:   3.4191 \t Actual:   5.3000 \t Difference:   1.8809\n",
            "11008: \t Predicted:  37.9310 \t Actual:  45.0000 \t Difference:   7.0690\n",
            "6225: \t Predicted:   4.9881 \t Actual:   6.5000 \t Difference:   1.5119\n",
            "9833: \t Predicted:   9.0816 \t Actual:   8.9000 \t Difference:   0.1816\n",
            "1154: \t Predicted:  10.6698 \t Actual:  12.1000 \t Difference:   1.4302\n",
            "4209: \t Predicted:   6.7767 \t Actual:   6.1000 \t Difference:   0.6767\n",
            "9962: \t Predicted:   8.4892 \t Actual:   6.5000 \t Difference:   1.9892\n",
            "289: \t Predicted:   8.9189 \t Actual:  10.1000 \t Difference:   1.1811\n",
            "6293: \t Predicted:   7.5783 \t Actual:  11.3000 \t Difference:   3.7217\n",
            "4144: \t Predicted:   8.5976 \t Actual:   6.1000 \t Difference:   2.4976\n",
            "7066: \t Predicted:   3.7938 \t Actual:   6.9000 \t Difference:   3.1062\n",
            "1302: \t Predicted:   6.5164 \t Actual:   4.9000 \t Difference:   1.6164\n",
            "6713: \t Predicted:  16.2508 \t Actual:  11.3000 \t Difference:   4.9508\n",
            "519: \t Predicted:  15.8949 \t Actual:  10.1000 \t Difference:   5.7949\n",
            "8317: \t Predicted:   5.5387 \t Actual:   5.3000 \t Difference:   0.2387\n",
            "1314: \t Predicted:  11.8637 \t Actual:  14.1000 \t Difference:   2.2363\n",
            "3499: \t Predicted:   3.8740 \t Actual:   6.9000 \t Difference:   3.0260\n",
            "4261: \t Predicted:   4.4558 \t Actual:   4.5000 \t Difference:   0.0442\n",
            "11836: \t Predicted:  15.0672 \t Actual:  10.5000 \t Difference:   4.5672\n",
            "1352: \t Predicted:   6.3289 \t Actual:   5.3000 \t Difference:   1.0289\n",
            "387: \t Predicted:  13.2158 \t Actual:  13.3000 \t Difference:   0.0842\n",
            "7546: \t Predicted:  21.3705 \t Actual:  29.0700 \t Difference:   7.6995\n",
            "1981: \t Predicted:  13.4569 \t Actual:  15.3000 \t Difference:   1.8431\n",
            "6768: \t Predicted:  39.4404 \t Actual:  26.2700 \t Difference:  13.1704\n",
            "846: \t Predicted:  16.8670 \t Actual:  19.3000 \t Difference:   2.4330\n",
            "9998: \t Predicted:  27.6862 \t Actual:  31.7000 \t Difference:   4.0138\n",
            "8117: \t Predicted:   8.1191 \t Actual:   7.7000 \t Difference:   0.4191\n",
            "2063: \t Predicted:   5.2683 \t Actual:   5.7000 \t Difference:   0.4317\n",
            "11317: \t Predicted:   5.1252 \t Actual:   7.3000 \t Difference:   2.1748\n",
            "8170: \t Predicted:   7.6290 \t Actual:  10.1000 \t Difference:   2.4710\n",
            "9286: \t Predicted:  14.9825 \t Actual:  13.7000 \t Difference:   1.2825\n",
            "7723: \t Predicted:   4.6904 \t Actual:   3.7000 \t Difference:   0.9904\n",
            "7553: \t Predicted:   6.7650 \t Actual:   4.9000 \t Difference:   1.8650\n",
            "8356: \t Predicted:   8.0561 \t Actual:   6.9000 \t Difference:   1.1561\n",
            "7435: \t Predicted:  12.0332 \t Actual:  12.1000 \t Difference:   0.0668\n",
            "5973: \t Predicted:   5.0089 \t Actual:   3.3000 \t Difference:   1.7089\n",
            "2638: \t Predicted:  10.1401 \t Actual:   3.3000 \t Difference:   6.8401\n",
            "3309: \t Predicted:   7.2524 \t Actual:   9.3000 \t Difference:   2.0476\n",
            "9928: \t Predicted:   5.6112 \t Actual:   5.3000 \t Difference:   0.3112\n",
            "11012: \t Predicted:   5.0473 \t Actual:  10.1000 \t Difference:   5.0527\n",
            "895: \t Predicted:   7.8891 \t Actual:   6.1000 \t Difference:   1.7891\n",
            "4534: \t Predicted:  11.2158 \t Actual:  12.1000 \t Difference:   0.8842\n",
            "2331: \t Predicted:  10.3004 \t Actual:   8.1000 \t Difference:   2.2004\n",
            "7694: \t Predicted:  13.8976 \t Actual:  17.7000 \t Difference:   3.8024\n",
            "7063: \t Predicted:  12.0869 \t Actual:  10.9000 \t Difference:   1.1869\n",
            "5236: \t Predicted:   7.6573 \t Actual:   6.1000 \t Difference:   1.5573\n",
            "7385: \t Predicted:   9.3839 \t Actual:  12.9000 \t Difference:   3.5161\n",
            "3199: \t Predicted:   8.2869 \t Actual:   5.7000 \t Difference:   2.5869\n",
            "10828: \t Predicted:   6.9430 \t Actual:   7.3000 \t Difference:   0.3570\n",
            "4386: \t Predicted:   9.3929 \t Actual:   9.3000 \t Difference:   0.0929\n",
            "11093: \t Predicted:   7.0586 \t Actual:   7.3000 \t Difference:   0.2414\n",
            "1721: \t Predicted:   8.1592 \t Actual:   9.3000 \t Difference:   1.1408\n",
            "3457: \t Predicted:   5.7540 \t Actual:   5.7000 \t Difference:   0.0540\n",
            "8034: \t Predicted:   9.6983 \t Actual:  12.1000 \t Difference:   2.4017\n",
            "6368: \t Predicted:   7.5279 \t Actual:   5.3000 \t Difference:   2.2279\n",
            "9566: \t Predicted:  14.2181 \t Actual:  14.9000 \t Difference:   0.6819\n",
            "11634: \t Predicted:  19.5071 \t Actual:  20.1000 \t Difference:   0.5929\n",
            "1593: \t Predicted:   4.7048 \t Actual:   5.3000 \t Difference:   0.5952\n",
            "248: \t Predicted:  27.8035 \t Actual:  33.3000 \t Difference:   5.4965\n",
            "4136: \t Predicted:  33.0290 \t Actual:  25.3000 \t Difference:   7.7290\n",
            "5790: \t Predicted:  65.0926 \t Actual:  49.5700 \t Difference:  15.5226\n",
            "1982: \t Predicted:   6.1477 \t Actual:   5.7000 \t Difference:   0.4477\n",
            "6290: \t Predicted:   7.5067 \t Actual:   5.7000 \t Difference:   1.8067\n",
            "6095: \t Predicted:   5.0674 \t Actual:   4.5000 \t Difference:   0.5674\n",
            "2770: \t Predicted:   5.9560 \t Actual:   6.9000 \t Difference:   0.9440\n",
            "1751: \t Predicted:   9.2051 \t Actual:  16.9000 \t Difference:   7.6949\n",
            "9007: \t Predicted:   4.5006 \t Actual:   5.7000 \t Difference:   1.1994\n",
            "994: \t Predicted:   7.4026 \t Actual:  10.1000 \t Difference:   2.6974\n",
            "6485: \t Predicted:  38.8410 \t Actual:  45.0000 \t Difference:   6.1590\n",
            "1392: \t Predicted:  12.3004 \t Actual:  11.3000 \t Difference:   1.0004\n",
            "1994: \t Predicted:   9.0381 \t Actual:   8.5000 \t Difference:   0.5381\n",
            "8192: \t Predicted:   4.3109 \t Actual:   4.1000 \t Difference:   0.2109\n"
          ],
          "name": "stdout"
        }
      ]
    },
    {
      "cell_type": "code",
      "metadata": {
        "colab": {
          "base_uri": "https://localhost:8080/"
        },
        "id": "QL5v425fODw0",
        "outputId": "0a32b81d-1de7-42ee-ba53-15392cc85a56"
      },
      "source": [
        "np.random.randint(100)"
      ],
      "execution_count": 82,
      "outputs": [
        {
          "output_type": "execute_result",
          "data": {
            "text/plain": [
              "71"
            ]
          },
          "metadata": {
            "tags": []
          },
          "execution_count": 82
        }
      ]
    },
    {
      "cell_type": "code",
      "metadata": {
        "id": "hBOu0E2jPKDt"
      },
      "source": [
        ""
      ],
      "execution_count": null,
      "outputs": []
    }
  ]
}