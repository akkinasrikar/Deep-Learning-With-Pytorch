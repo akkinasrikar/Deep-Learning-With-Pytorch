{
  "nbformat": 4,
  "nbformat_minor": 0,
  "metadata": {
    "colab": {
      "name": "NYCTaxiFares-Classification.ipynb",
      "provenance": [],
      "collapsed_sections": []
    },
    "kernelspec": {
      "name": "python3",
      "display_name": "Python 3"
    },
    "language_info": {
      "name": "python"
    },
    "accelerator": "GPU"
  },
  "cells": [
    {
      "cell_type": "code",
      "metadata": {
        "id": "z7FBsTtPH-ys"
      },
      "source": [
        "import torch\n",
        "import torch.nn as nn\n",
        "import numpy as np\n",
        "import matplotlib.pyplot as plt\n",
        "import pandas as pd\n",
        "%matplotlib inline"
      ],
      "execution_count": 95,
      "outputs": []
    },
    {
      "cell_type": "code",
      "metadata": {
        "id": "VeOeopcONgyO"
      },
      "source": [
        "df=pd.read_csv(\"/content/NYCTaxiFares.csv\")"
      ],
      "execution_count": 96,
      "outputs": []
    },
    {
      "cell_type": "code",
      "metadata": {
        "colab": {
          "base_uri": "https://localhost:8080/",
          "height": 202
        },
        "id": "FiHa1J-9O3yc",
        "outputId": "1a22bba3-66aa-43f7-be24-8600f8e24fb3"
      },
      "source": [
        "df.head()"
      ],
      "execution_count": 97,
      "outputs": [
        {
          "output_type": "execute_result",
          "data": {
            "text/html": [
              "<div>\n",
              "<style scoped>\n",
              "    .dataframe tbody tr th:only-of-type {\n",
              "        vertical-align: middle;\n",
              "    }\n",
              "\n",
              "    .dataframe tbody tr th {\n",
              "        vertical-align: top;\n",
              "    }\n",
              "\n",
              "    .dataframe thead th {\n",
              "        text-align: right;\n",
              "    }\n",
              "</style>\n",
              "<table border=\"1\" class=\"dataframe\">\n",
              "  <thead>\n",
              "    <tr style=\"text-align: right;\">\n",
              "      <th></th>\n",
              "      <th>pickup_datetime</th>\n",
              "      <th>fare_amount</th>\n",
              "      <th>fare_class</th>\n",
              "      <th>pickup_longitude</th>\n",
              "      <th>pickup_latitude</th>\n",
              "      <th>dropoff_longitude</th>\n",
              "      <th>dropoff_latitude</th>\n",
              "      <th>passenger_count</th>\n",
              "    </tr>\n",
              "  </thead>\n",
              "  <tbody>\n",
              "    <tr>\n",
              "      <th>0</th>\n",
              "      <td>2010-04-19 08:17:56 UTC</td>\n",
              "      <td>6.5</td>\n",
              "      <td>0</td>\n",
              "      <td>-73.992365</td>\n",
              "      <td>40.730521</td>\n",
              "      <td>-73.975499</td>\n",
              "      <td>40.744746</td>\n",
              "      <td>1</td>\n",
              "    </tr>\n",
              "    <tr>\n",
              "      <th>1</th>\n",
              "      <td>2010-04-17 15:43:53 UTC</td>\n",
              "      <td>6.9</td>\n",
              "      <td>0</td>\n",
              "      <td>-73.990078</td>\n",
              "      <td>40.740558</td>\n",
              "      <td>-73.974232</td>\n",
              "      <td>40.744114</td>\n",
              "      <td>1</td>\n",
              "    </tr>\n",
              "    <tr>\n",
              "      <th>2</th>\n",
              "      <td>2010-04-17 11:23:26 UTC</td>\n",
              "      <td>10.1</td>\n",
              "      <td>1</td>\n",
              "      <td>-73.994149</td>\n",
              "      <td>40.751118</td>\n",
              "      <td>-73.960064</td>\n",
              "      <td>40.766235</td>\n",
              "      <td>2</td>\n",
              "    </tr>\n",
              "    <tr>\n",
              "      <th>3</th>\n",
              "      <td>2010-04-11 21:25:03 UTC</td>\n",
              "      <td>8.9</td>\n",
              "      <td>0</td>\n",
              "      <td>-73.990485</td>\n",
              "      <td>40.756422</td>\n",
              "      <td>-73.971205</td>\n",
              "      <td>40.748192</td>\n",
              "      <td>1</td>\n",
              "    </tr>\n",
              "    <tr>\n",
              "      <th>4</th>\n",
              "      <td>2010-04-17 02:19:01 UTC</td>\n",
              "      <td>19.7</td>\n",
              "      <td>1</td>\n",
              "      <td>-73.990976</td>\n",
              "      <td>40.734202</td>\n",
              "      <td>-73.905956</td>\n",
              "      <td>40.743115</td>\n",
              "      <td>1</td>\n",
              "    </tr>\n",
              "  </tbody>\n",
              "</table>\n",
              "</div>"
            ],
            "text/plain": [
              "           pickup_datetime  fare_amount  ...  dropoff_latitude  passenger_count\n",
              "0  2010-04-19 08:17:56 UTC          6.5  ...         40.744746                1\n",
              "1  2010-04-17 15:43:53 UTC          6.9  ...         40.744114                1\n",
              "2  2010-04-17 11:23:26 UTC         10.1  ...         40.766235                2\n",
              "3  2010-04-11 21:25:03 UTC          8.9  ...         40.748192                1\n",
              "4  2010-04-17 02:19:01 UTC         19.7  ...         40.743115                1\n",
              "\n",
              "[5 rows x 8 columns]"
            ]
          },
          "metadata": {
            "tags": []
          },
          "execution_count": 97
        }
      ]
    },
    {
      "cell_type": "code",
      "metadata": {
        "colab": {
          "base_uri": "https://localhost:8080/"
        },
        "id": "l-XmKMibO50A",
        "outputId": "9853f01c-40d3-4195-dafa-7289aec61927"
      },
      "source": [
        "df['fare_amount'].describe()"
      ],
      "execution_count": 98,
      "outputs": [
        {
          "output_type": "execute_result",
          "data": {
            "text/plain": [
              "count    120000.000000\n",
              "mean         10.040326\n",
              "std           7.500134\n",
              "min           2.500000\n",
              "25%           5.700000\n",
              "50%           7.700000\n",
              "75%          11.300000\n",
              "max          49.900000\n",
              "Name: fare_amount, dtype: float64"
            ]
          },
          "metadata": {
            "tags": []
          },
          "execution_count": 98
        }
      ]
    },
    {
      "cell_type": "code",
      "metadata": {
        "id": "iY9yeVoLPLpg"
      },
      "source": [
        "#calculating distance based on lat and long points\n",
        "def haversine_distance(df, lat1, long1, lat2, long2):\n",
        "    r = 6371  # average radius of Earth in kilometers  \n",
        "    phi1 = np.radians(df[lat1])\n",
        "    phi2 = np.radians(df[lat2])\n",
        "    delta_phi = np.radians(df[lat2]-df[lat1])\n",
        "    delta_lambda = np.radians(df[long2]-df[long1])\n",
        "    a = np.sin(delta_phi/2)**2 + np.cos(phi1) * np.cos(phi2) * np.sin(delta_lambda/2)**2\n",
        "    c = 2 * np.arctan2(np.sqrt(a), np.sqrt(1-a))\n",
        "    d = (r * c) # in kilometers\n",
        "    return d"
      ],
      "execution_count": 99,
      "outputs": []
    },
    {
      "cell_type": "code",
      "metadata": {
        "id": "DmyLN97fb15u"
      },
      "source": [
        "df[\"distance_km\"]=haversine_distance(df,\"pickup_latitude\",\"pickup_longitude\",\"dropoff_latitude\",\"dropoff_longitude\")"
      ],
      "execution_count": 100,
      "outputs": []
    },
    {
      "cell_type": "code",
      "metadata": {
        "colab": {
          "base_uri": "https://localhost:8080/",
          "height": 202
        },
        "id": "5Mce3mkZcar7",
        "outputId": "d560d507-ad45-47a2-a30c-c77ed8e80fea"
      },
      "source": [
        "df.head()"
      ],
      "execution_count": 101,
      "outputs": [
        {
          "output_type": "execute_result",
          "data": {
            "text/html": [
              "<div>\n",
              "<style scoped>\n",
              "    .dataframe tbody tr th:only-of-type {\n",
              "        vertical-align: middle;\n",
              "    }\n",
              "\n",
              "    .dataframe tbody tr th {\n",
              "        vertical-align: top;\n",
              "    }\n",
              "\n",
              "    .dataframe thead th {\n",
              "        text-align: right;\n",
              "    }\n",
              "</style>\n",
              "<table border=\"1\" class=\"dataframe\">\n",
              "  <thead>\n",
              "    <tr style=\"text-align: right;\">\n",
              "      <th></th>\n",
              "      <th>pickup_datetime</th>\n",
              "      <th>fare_amount</th>\n",
              "      <th>fare_class</th>\n",
              "      <th>pickup_longitude</th>\n",
              "      <th>pickup_latitude</th>\n",
              "      <th>dropoff_longitude</th>\n",
              "      <th>dropoff_latitude</th>\n",
              "      <th>passenger_count</th>\n",
              "      <th>distance_km</th>\n",
              "    </tr>\n",
              "  </thead>\n",
              "  <tbody>\n",
              "    <tr>\n",
              "      <th>0</th>\n",
              "      <td>2010-04-19 08:17:56 UTC</td>\n",
              "      <td>6.5</td>\n",
              "      <td>0</td>\n",
              "      <td>-73.992365</td>\n",
              "      <td>40.730521</td>\n",
              "      <td>-73.975499</td>\n",
              "      <td>40.744746</td>\n",
              "      <td>1</td>\n",
              "      <td>2.126312</td>\n",
              "    </tr>\n",
              "    <tr>\n",
              "      <th>1</th>\n",
              "      <td>2010-04-17 15:43:53 UTC</td>\n",
              "      <td>6.9</td>\n",
              "      <td>0</td>\n",
              "      <td>-73.990078</td>\n",
              "      <td>40.740558</td>\n",
              "      <td>-73.974232</td>\n",
              "      <td>40.744114</td>\n",
              "      <td>1</td>\n",
              "      <td>1.392307</td>\n",
              "    </tr>\n",
              "    <tr>\n",
              "      <th>2</th>\n",
              "      <td>2010-04-17 11:23:26 UTC</td>\n",
              "      <td>10.1</td>\n",
              "      <td>1</td>\n",
              "      <td>-73.994149</td>\n",
              "      <td>40.751118</td>\n",
              "      <td>-73.960064</td>\n",
              "      <td>40.766235</td>\n",
              "      <td>2</td>\n",
              "      <td>3.326763</td>\n",
              "    </tr>\n",
              "    <tr>\n",
              "      <th>3</th>\n",
              "      <td>2010-04-11 21:25:03 UTC</td>\n",
              "      <td>8.9</td>\n",
              "      <td>0</td>\n",
              "      <td>-73.990485</td>\n",
              "      <td>40.756422</td>\n",
              "      <td>-73.971205</td>\n",
              "      <td>40.748192</td>\n",
              "      <td>1</td>\n",
              "      <td>1.864129</td>\n",
              "    </tr>\n",
              "    <tr>\n",
              "      <th>4</th>\n",
              "      <td>2010-04-17 02:19:01 UTC</td>\n",
              "      <td>19.7</td>\n",
              "      <td>1</td>\n",
              "      <td>-73.990976</td>\n",
              "      <td>40.734202</td>\n",
              "      <td>-73.905956</td>\n",
              "      <td>40.743115</td>\n",
              "      <td>1</td>\n",
              "      <td>7.231321</td>\n",
              "    </tr>\n",
              "  </tbody>\n",
              "</table>\n",
              "</div>"
            ],
            "text/plain": [
              "           pickup_datetime  fare_amount  ...  passenger_count  distance_km\n",
              "0  2010-04-19 08:17:56 UTC          6.5  ...                1     2.126312\n",
              "1  2010-04-17 15:43:53 UTC          6.9  ...                1     1.392307\n",
              "2  2010-04-17 11:23:26 UTC         10.1  ...                2     3.326763\n",
              "3  2010-04-11 21:25:03 UTC          8.9  ...                1     1.864129\n",
              "4  2010-04-17 02:19:01 UTC         19.7  ...                1     7.231321\n",
              "\n",
              "[5 rows x 9 columns]"
            ]
          },
          "metadata": {
            "tags": []
          },
          "execution_count": 101
        }
      ]
    },
    {
      "cell_type": "code",
      "metadata": {
        "colab": {
          "base_uri": "https://localhost:8080/"
        },
        "id": "pPjvBeIwccHs",
        "outputId": "53a4eb50-1522-4f7d-e52f-6abf1cbf5dea"
      },
      "source": [
        "df.info()"
      ],
      "execution_count": 102,
      "outputs": [
        {
          "output_type": "stream",
          "text": [
            "<class 'pandas.core.frame.DataFrame'>\n",
            "RangeIndex: 120000 entries, 0 to 119999\n",
            "Data columns (total 9 columns):\n",
            " #   Column             Non-Null Count   Dtype  \n",
            "---  ------             --------------   -----  \n",
            " 0   pickup_datetime    120000 non-null  object \n",
            " 1   fare_amount        120000 non-null  float64\n",
            " 2   fare_class         120000 non-null  int64  \n",
            " 3   pickup_longitude   120000 non-null  float64\n",
            " 4   pickup_latitude    120000 non-null  float64\n",
            " 5   dropoff_longitude  120000 non-null  float64\n",
            " 6   dropoff_latitude   120000 non-null  float64\n",
            " 7   passenger_count    120000 non-null  int64  \n",
            " 8   distance_km        120000 non-null  float64\n",
            "dtypes: float64(6), int64(2), object(1)\n",
            "memory usage: 8.2+ MB\n"
          ],
          "name": "stdout"
        }
      ]
    },
    {
      "cell_type": "code",
      "metadata": {
        "id": "CM8sfyXpcy2J"
      },
      "source": [
        "df[\"pickup_datetime\"]=pd.to_datetime(df[\"pickup_datetime\"])"
      ],
      "execution_count": 103,
      "outputs": []
    },
    {
      "cell_type": "code",
      "metadata": {
        "colab": {
          "base_uri": "https://localhost:8080/"
        },
        "id": "SY2Ywtk3c-Qv",
        "outputId": "1e9c96ee-6106-4e23-9ba3-e338d3660eae"
      },
      "source": [
        "df.info()"
      ],
      "execution_count": 104,
      "outputs": [
        {
          "output_type": "stream",
          "text": [
            "<class 'pandas.core.frame.DataFrame'>\n",
            "RangeIndex: 120000 entries, 0 to 119999\n",
            "Data columns (total 9 columns):\n",
            " #   Column             Non-Null Count   Dtype              \n",
            "---  ------             --------------   -----              \n",
            " 0   pickup_datetime    120000 non-null  datetime64[ns, UTC]\n",
            " 1   fare_amount        120000 non-null  float64            \n",
            " 2   fare_class         120000 non-null  int64              \n",
            " 3   pickup_longitude   120000 non-null  float64            \n",
            " 4   pickup_latitude    120000 non-null  float64            \n",
            " 5   dropoff_longitude  120000 non-null  float64            \n",
            " 6   dropoff_latitude   120000 non-null  float64            \n",
            " 7   passenger_count    120000 non-null  int64              \n",
            " 8   distance_km        120000 non-null  float64            \n",
            "dtypes: datetime64[ns, UTC](1), float64(6), int64(2)\n",
            "memory usage: 8.2 MB\n"
          ],
          "name": "stdout"
        }
      ]
    },
    {
      "cell_type": "code",
      "metadata": {
        "colab": {
          "base_uri": "https://localhost:8080/",
          "height": 202
        },
        "id": "HSXosZASdHLc",
        "outputId": "583040e1-7d26-437a-d6d7-6ff9411a5025"
      },
      "source": [
        "df.head()"
      ],
      "execution_count": 105,
      "outputs": [
        {
          "output_type": "execute_result",
          "data": {
            "text/html": [
              "<div>\n",
              "<style scoped>\n",
              "    .dataframe tbody tr th:only-of-type {\n",
              "        vertical-align: middle;\n",
              "    }\n",
              "\n",
              "    .dataframe tbody tr th {\n",
              "        vertical-align: top;\n",
              "    }\n",
              "\n",
              "    .dataframe thead th {\n",
              "        text-align: right;\n",
              "    }\n",
              "</style>\n",
              "<table border=\"1\" class=\"dataframe\">\n",
              "  <thead>\n",
              "    <tr style=\"text-align: right;\">\n",
              "      <th></th>\n",
              "      <th>pickup_datetime</th>\n",
              "      <th>fare_amount</th>\n",
              "      <th>fare_class</th>\n",
              "      <th>pickup_longitude</th>\n",
              "      <th>pickup_latitude</th>\n",
              "      <th>dropoff_longitude</th>\n",
              "      <th>dropoff_latitude</th>\n",
              "      <th>passenger_count</th>\n",
              "      <th>distance_km</th>\n",
              "    </tr>\n",
              "  </thead>\n",
              "  <tbody>\n",
              "    <tr>\n",
              "      <th>0</th>\n",
              "      <td>2010-04-19 08:17:56+00:00</td>\n",
              "      <td>6.5</td>\n",
              "      <td>0</td>\n",
              "      <td>-73.992365</td>\n",
              "      <td>40.730521</td>\n",
              "      <td>-73.975499</td>\n",
              "      <td>40.744746</td>\n",
              "      <td>1</td>\n",
              "      <td>2.126312</td>\n",
              "    </tr>\n",
              "    <tr>\n",
              "      <th>1</th>\n",
              "      <td>2010-04-17 15:43:53+00:00</td>\n",
              "      <td>6.9</td>\n",
              "      <td>0</td>\n",
              "      <td>-73.990078</td>\n",
              "      <td>40.740558</td>\n",
              "      <td>-73.974232</td>\n",
              "      <td>40.744114</td>\n",
              "      <td>1</td>\n",
              "      <td>1.392307</td>\n",
              "    </tr>\n",
              "    <tr>\n",
              "      <th>2</th>\n",
              "      <td>2010-04-17 11:23:26+00:00</td>\n",
              "      <td>10.1</td>\n",
              "      <td>1</td>\n",
              "      <td>-73.994149</td>\n",
              "      <td>40.751118</td>\n",
              "      <td>-73.960064</td>\n",
              "      <td>40.766235</td>\n",
              "      <td>2</td>\n",
              "      <td>3.326763</td>\n",
              "    </tr>\n",
              "    <tr>\n",
              "      <th>3</th>\n",
              "      <td>2010-04-11 21:25:03+00:00</td>\n",
              "      <td>8.9</td>\n",
              "      <td>0</td>\n",
              "      <td>-73.990485</td>\n",
              "      <td>40.756422</td>\n",
              "      <td>-73.971205</td>\n",
              "      <td>40.748192</td>\n",
              "      <td>1</td>\n",
              "      <td>1.864129</td>\n",
              "    </tr>\n",
              "    <tr>\n",
              "      <th>4</th>\n",
              "      <td>2010-04-17 02:19:01+00:00</td>\n",
              "      <td>19.7</td>\n",
              "      <td>1</td>\n",
              "      <td>-73.990976</td>\n",
              "      <td>40.734202</td>\n",
              "      <td>-73.905956</td>\n",
              "      <td>40.743115</td>\n",
              "      <td>1</td>\n",
              "      <td>7.231321</td>\n",
              "    </tr>\n",
              "  </tbody>\n",
              "</table>\n",
              "</div>"
            ],
            "text/plain": [
              "            pickup_datetime  fare_amount  ...  passenger_count  distance_km\n",
              "0 2010-04-19 08:17:56+00:00          6.5  ...                1     2.126312\n",
              "1 2010-04-17 15:43:53+00:00          6.9  ...                1     1.392307\n",
              "2 2010-04-17 11:23:26+00:00         10.1  ...                2     3.326763\n",
              "3 2010-04-11 21:25:03+00:00          8.9  ...                1     1.864129\n",
              "4 2010-04-17 02:19:01+00:00         19.7  ...                1     7.231321\n",
              "\n",
              "[5 rows x 9 columns]"
            ]
          },
          "metadata": {
            "tags": []
          },
          "execution_count": 105
        }
      ]
    },
    {
      "cell_type": "code",
      "metadata": {
        "id": "4vJZwtUwdKPn"
      },
      "source": [
        "my_time=df['pickup_datetime'][0]"
      ],
      "execution_count": 106,
      "outputs": []
    },
    {
      "cell_type": "code",
      "metadata": {
        "colab": {
          "base_uri": "https://localhost:8080/"
        },
        "id": "n5Vd6TQcdVWU",
        "outputId": "b7219bba-ab75-426b-d67c-04fee762cd6b"
      },
      "source": [
        "my_time"
      ],
      "execution_count": 107,
      "outputs": [
        {
          "output_type": "execute_result",
          "data": {
            "text/plain": [
              "Timestamp('2010-04-19 08:17:56+0000', tz='UTC')"
            ]
          },
          "metadata": {
            "tags": []
          },
          "execution_count": 107
        }
      ]
    },
    {
      "cell_type": "code",
      "metadata": {
        "id": "VfxGEH_1dWAq"
      },
      "source": [
        "df[\"EDT_Time\"]=df[\"pickup_datetime\"]-pd.Timedelta(hours=4)"
      ],
      "execution_count": 108,
      "outputs": []
    },
    {
      "cell_type": "code",
      "metadata": {
        "id": "WKTYs0L1dfTp"
      },
      "source": [
        "df['Hour']=df[\"EDT_Time\"].dt.hour\n",
        "df[\"AMorPM\"]=np.where(df['Hour']<12,\"am\",\"pm\")\n",
        "df[\"Weekday\"]=df[\"EDT_Time\"].dt.strftime(\"%a\") "
      ],
      "execution_count": 109,
      "outputs": []
    },
    {
      "cell_type": "code",
      "metadata": {
        "colab": {
          "base_uri": "https://localhost:8080/",
          "height": 202
        },
        "id": "kw1XEizPd94t",
        "outputId": "70b2ce53-103b-4d1d-f10b-c56799185e76"
      },
      "source": [
        "df.head()"
      ],
      "execution_count": 110,
      "outputs": [
        {
          "output_type": "execute_result",
          "data": {
            "text/html": [
              "<div>\n",
              "<style scoped>\n",
              "    .dataframe tbody tr th:only-of-type {\n",
              "        vertical-align: middle;\n",
              "    }\n",
              "\n",
              "    .dataframe tbody tr th {\n",
              "        vertical-align: top;\n",
              "    }\n",
              "\n",
              "    .dataframe thead th {\n",
              "        text-align: right;\n",
              "    }\n",
              "</style>\n",
              "<table border=\"1\" class=\"dataframe\">\n",
              "  <thead>\n",
              "    <tr style=\"text-align: right;\">\n",
              "      <th></th>\n",
              "      <th>pickup_datetime</th>\n",
              "      <th>fare_amount</th>\n",
              "      <th>fare_class</th>\n",
              "      <th>pickup_longitude</th>\n",
              "      <th>pickup_latitude</th>\n",
              "      <th>dropoff_longitude</th>\n",
              "      <th>dropoff_latitude</th>\n",
              "      <th>passenger_count</th>\n",
              "      <th>distance_km</th>\n",
              "      <th>EDT_Time</th>\n",
              "      <th>Hour</th>\n",
              "      <th>AMorPM</th>\n",
              "      <th>Weekday</th>\n",
              "    </tr>\n",
              "  </thead>\n",
              "  <tbody>\n",
              "    <tr>\n",
              "      <th>0</th>\n",
              "      <td>2010-04-19 08:17:56+00:00</td>\n",
              "      <td>6.5</td>\n",
              "      <td>0</td>\n",
              "      <td>-73.992365</td>\n",
              "      <td>40.730521</td>\n",
              "      <td>-73.975499</td>\n",
              "      <td>40.744746</td>\n",
              "      <td>1</td>\n",
              "      <td>2.126312</td>\n",
              "      <td>2010-04-19 04:17:56+00:00</td>\n",
              "      <td>4</td>\n",
              "      <td>am</td>\n",
              "      <td>Mon</td>\n",
              "    </tr>\n",
              "    <tr>\n",
              "      <th>1</th>\n",
              "      <td>2010-04-17 15:43:53+00:00</td>\n",
              "      <td>6.9</td>\n",
              "      <td>0</td>\n",
              "      <td>-73.990078</td>\n",
              "      <td>40.740558</td>\n",
              "      <td>-73.974232</td>\n",
              "      <td>40.744114</td>\n",
              "      <td>1</td>\n",
              "      <td>1.392307</td>\n",
              "      <td>2010-04-17 11:43:53+00:00</td>\n",
              "      <td>11</td>\n",
              "      <td>am</td>\n",
              "      <td>Sat</td>\n",
              "    </tr>\n",
              "    <tr>\n",
              "      <th>2</th>\n",
              "      <td>2010-04-17 11:23:26+00:00</td>\n",
              "      <td>10.1</td>\n",
              "      <td>1</td>\n",
              "      <td>-73.994149</td>\n",
              "      <td>40.751118</td>\n",
              "      <td>-73.960064</td>\n",
              "      <td>40.766235</td>\n",
              "      <td>2</td>\n",
              "      <td>3.326763</td>\n",
              "      <td>2010-04-17 07:23:26+00:00</td>\n",
              "      <td>7</td>\n",
              "      <td>am</td>\n",
              "      <td>Sat</td>\n",
              "    </tr>\n",
              "    <tr>\n",
              "      <th>3</th>\n",
              "      <td>2010-04-11 21:25:03+00:00</td>\n",
              "      <td>8.9</td>\n",
              "      <td>0</td>\n",
              "      <td>-73.990485</td>\n",
              "      <td>40.756422</td>\n",
              "      <td>-73.971205</td>\n",
              "      <td>40.748192</td>\n",
              "      <td>1</td>\n",
              "      <td>1.864129</td>\n",
              "      <td>2010-04-11 17:25:03+00:00</td>\n",
              "      <td>17</td>\n",
              "      <td>pm</td>\n",
              "      <td>Sun</td>\n",
              "    </tr>\n",
              "    <tr>\n",
              "      <th>4</th>\n",
              "      <td>2010-04-17 02:19:01+00:00</td>\n",
              "      <td>19.7</td>\n",
              "      <td>1</td>\n",
              "      <td>-73.990976</td>\n",
              "      <td>40.734202</td>\n",
              "      <td>-73.905956</td>\n",
              "      <td>40.743115</td>\n",
              "      <td>1</td>\n",
              "      <td>7.231321</td>\n",
              "      <td>2010-04-16 22:19:01+00:00</td>\n",
              "      <td>22</td>\n",
              "      <td>pm</td>\n",
              "      <td>Fri</td>\n",
              "    </tr>\n",
              "  </tbody>\n",
              "</table>\n",
              "</div>"
            ],
            "text/plain": [
              "            pickup_datetime  fare_amount  fare_class  ...  Hour  AMorPM  Weekday\n",
              "0 2010-04-19 08:17:56+00:00          6.5           0  ...     4      am      Mon\n",
              "1 2010-04-17 15:43:53+00:00          6.9           0  ...    11      am      Sat\n",
              "2 2010-04-17 11:23:26+00:00         10.1           1  ...     7      am      Sat\n",
              "3 2010-04-11 21:25:03+00:00          8.9           0  ...    17      pm      Sun\n",
              "4 2010-04-17 02:19:01+00:00         19.7           1  ...    22      pm      Fri\n",
              "\n",
              "[5 rows x 13 columns]"
            ]
          },
          "metadata": {
            "tags": []
          },
          "execution_count": 110
        }
      ]
    },
    {
      "cell_type": "code",
      "metadata": {
        "colab": {
          "base_uri": "https://localhost:8080/"
        },
        "id": "z_GTVW7WkUIR",
        "outputId": "a3da8401-c076-443a-9dbc-2e9de100e693"
      },
      "source": [
        "df.columns"
      ],
      "execution_count": 111,
      "outputs": [
        {
          "output_type": "execute_result",
          "data": {
            "text/plain": [
              "Index(['pickup_datetime', 'fare_amount', 'fare_class', 'pickup_longitude',\n",
              "       'pickup_latitude', 'dropoff_longitude', 'dropoff_latitude',\n",
              "       'passenger_count', 'distance_km', 'EDT_Time', 'Hour', 'AMorPM',\n",
              "       'Weekday'],\n",
              "      dtype='object')"
            ]
          },
          "metadata": {
            "tags": []
          },
          "execution_count": 111
        }
      ]
    },
    {
      "cell_type": "code",
      "metadata": {
        "id": "ux9q3CqefHVQ"
      },
      "source": [
        "cat_cols=[\"Hour\",\"AMorPM\",\"Weekday\"]\n",
        "cont_cols=['pickup_longitude',\n",
        "           'pickup_latitude', 'dropoff_longitude', 'dropoff_latitude',\n",
        "           'passenger_count', 'distance_km']"
      ],
      "execution_count": 112,
      "outputs": []
    },
    {
      "cell_type": "code",
      "metadata": {
        "id": "in20khUGkdzh"
      },
      "source": [
        "y_col=[\"fare_class\"]"
      ],
      "execution_count": 113,
      "outputs": []
    },
    {
      "cell_type": "code",
      "metadata": {
        "colab": {
          "base_uri": "https://localhost:8080/"
        },
        "id": "3Y4oESCvktjs",
        "outputId": "466d38f2-691a-49ad-d98a-92eaef95f9d5"
      },
      "source": [
        "df.dtypes"
      ],
      "execution_count": 114,
      "outputs": [
        {
          "output_type": "execute_result",
          "data": {
            "text/plain": [
              "pickup_datetime      datetime64[ns, UTC]\n",
              "fare_amount                      float64\n",
              "fare_class                         int64\n",
              "pickup_longitude                 float64\n",
              "pickup_latitude                  float64\n",
              "dropoff_longitude                float64\n",
              "dropoff_latitude                 float64\n",
              "passenger_count                    int64\n",
              "distance_km                      float64\n",
              "EDT_Time             datetime64[ns, UTC]\n",
              "Hour                               int64\n",
              "AMorPM                            object\n",
              "Weekday                           object\n",
              "dtype: object"
            ]
          },
          "metadata": {
            "tags": []
          },
          "execution_count": 114
        }
      ]
    },
    {
      "cell_type": "code",
      "metadata": {
        "id": "lJa12TDYkyzq"
      },
      "source": [
        "for cat in cat_cols:\n",
        "  df[cat]=df[cat].astype(\"category\")"
      ],
      "execution_count": 115,
      "outputs": []
    },
    {
      "cell_type": "code",
      "metadata": {
        "colab": {
          "base_uri": "https://localhost:8080/"
        },
        "id": "_Rb-GmE1lBHr",
        "outputId": "f49a1adb-c41c-49c6-d3ee-f3ed8fba4149"
      },
      "source": [
        "df.dtypes"
      ],
      "execution_count": 116,
      "outputs": [
        {
          "output_type": "execute_result",
          "data": {
            "text/plain": [
              "pickup_datetime      datetime64[ns, UTC]\n",
              "fare_amount                      float64\n",
              "fare_class                         int64\n",
              "pickup_longitude                 float64\n",
              "pickup_latitude                  float64\n",
              "dropoff_longitude                float64\n",
              "dropoff_latitude                 float64\n",
              "passenger_count                    int64\n",
              "distance_km                      float64\n",
              "EDT_Time             datetime64[ns, UTC]\n",
              "Hour                            category\n",
              "AMorPM                          category\n",
              "Weekday                         category\n",
              "dtype: object"
            ]
          },
          "metadata": {
            "tags": []
          },
          "execution_count": 116
        }
      ]
    },
    {
      "cell_type": "code",
      "metadata": {
        "colab": {
          "base_uri": "https://localhost:8080/"
        },
        "id": "OKbfqGgHlFxM",
        "outputId": "3bfda9d2-ea72-4ab7-aa7a-4cbcaf886ea3"
      },
      "source": [
        "df[\"Weekday\"].cat.codes.values"
      ],
      "execution_count": 117,
      "outputs": [
        {
          "output_type": "execute_result",
          "data": {
            "text/plain": [
              "array([1, 2, 2, ..., 3, 5, 2], dtype=int8)"
            ]
          },
          "metadata": {
            "tags": []
          },
          "execution_count": 117
        }
      ]
    },
    {
      "cell_type": "code",
      "metadata": {
        "colab": {
          "base_uri": "https://localhost:8080/"
        },
        "id": "SaADKOs3lMHZ",
        "outputId": "11762081-770e-4bbf-cc29-dc2bbaa0b849"
      },
      "source": [
        "df[\"Weekday\"].cat.categories"
      ],
      "execution_count": 118,
      "outputs": [
        {
          "output_type": "execute_result",
          "data": {
            "text/plain": [
              "Index(['Fri', 'Mon', 'Sat', 'Sun', 'Thu', 'Tue', 'Wed'], dtype='object')"
            ]
          },
          "metadata": {
            "tags": []
          },
          "execution_count": 118
        }
      ]
    },
    {
      "cell_type": "code",
      "metadata": {
        "id": "42ubUpGMmMms"
      },
      "source": [
        "hr=df[\"Hour\"].cat.codes.values\n",
        "wkdy=df[\"Weekday\"].cat.codes.values\n",
        "ampm=df[\"AMorPM\"].cat.codes.values"
      ],
      "execution_count": 119,
      "outputs": []
    },
    {
      "cell_type": "code",
      "metadata": {
        "id": "jz5DN-sUm-cM"
      },
      "source": [
        "cats=np.stack([hr,wkdy,ampm],axis=1)"
      ],
      "execution_count": 120,
      "outputs": []
    },
    {
      "cell_type": "code",
      "metadata": {
        "colab": {
          "base_uri": "https://localhost:8080/"
        },
        "id": "9EKEnLfanINe",
        "outputId": "37028819-6770-4540-9feb-0d9ddd0dd044"
      },
      "source": [
        "cats"
      ],
      "execution_count": 121,
      "outputs": [
        {
          "output_type": "execute_result",
          "data": {
            "text/plain": [
              "array([[ 4,  1,  0],\n",
              "       [11,  2,  0],\n",
              "       [ 7,  2,  0],\n",
              "       ...,\n",
              "       [14,  3,  1],\n",
              "       [ 4,  5,  0],\n",
              "       [12,  2,  1]], dtype=int8)"
            ]
          },
          "metadata": {
            "tags": []
          },
          "execution_count": 121
        }
      ]
    },
    {
      "cell_type": "code",
      "metadata": {
        "id": "bUh6dsrhnLN8"
      },
      "source": [
        "cats=np.stack([df[col].cat.codes.values for col in cat_cols],1)"
      ],
      "execution_count": 122,
      "outputs": []
    },
    {
      "cell_type": "code",
      "metadata": {
        "colab": {
          "base_uri": "https://localhost:8080/"
        },
        "id": "2VunGAQJniI_",
        "outputId": "7b869717-bbba-4a99-af40-44fa2ea17b53"
      },
      "source": [
        "cats"
      ],
      "execution_count": 123,
      "outputs": [
        {
          "output_type": "execute_result",
          "data": {
            "text/plain": [
              "array([[ 4,  0,  1],\n",
              "       [11,  0,  2],\n",
              "       [ 7,  0,  2],\n",
              "       ...,\n",
              "       [14,  1,  3],\n",
              "       [ 4,  0,  5],\n",
              "       [12,  1,  2]], dtype=int8)"
            ]
          },
          "metadata": {
            "tags": []
          },
          "execution_count": 123
        }
      ]
    },
    {
      "cell_type": "code",
      "metadata": {
        "id": "9xKunja2nihx"
      },
      "source": [
        "cats=torch.tensor(cats,dtype=torch.int64)"
      ],
      "execution_count": 124,
      "outputs": []
    },
    {
      "cell_type": "code",
      "metadata": {
        "colab": {
          "base_uri": "https://localhost:8080/"
        },
        "id": "kg5v8z3pn5qf",
        "outputId": "6a9da6a3-19fb-4a2b-a3f9-50ca5a3366ba"
      },
      "source": [
        "cats"
      ],
      "execution_count": 125,
      "outputs": [
        {
          "output_type": "execute_result",
          "data": {
            "text/plain": [
              "tensor([[ 4,  0,  1],\n",
              "        [11,  0,  2],\n",
              "        [ 7,  0,  2],\n",
              "        ...,\n",
              "        [14,  1,  3],\n",
              "        [ 4,  0,  5],\n",
              "        [12,  1,  2]])"
            ]
          },
          "metadata": {
            "tags": []
          },
          "execution_count": 125
        }
      ]
    },
    {
      "cell_type": "code",
      "metadata": {
        "id": "whiC6kj6n6DY"
      },
      "source": [
        "conts=np.stack([df[col].values for col in cont_cols],axis=1)"
      ],
      "execution_count": 126,
      "outputs": []
    },
    {
      "cell_type": "code",
      "metadata": {
        "colab": {
          "base_uri": "https://localhost:8080/"
        },
        "id": "0PGDb0BJoKWc",
        "outputId": "97c561dd-2505-44fb-d705-5f47dbf66fc0"
      },
      "source": [
        "conts"
      ],
      "execution_count": 127,
      "outputs": [
        {
          "output_type": "execute_result",
          "data": {
            "text/plain": [
              "array([[-73.992365  ,  40.730521  , -73.975499  ,  40.744746  ,\n",
              "          1.        ,   2.12631159],\n",
              "       [-73.990078  ,  40.740558  , -73.974232  ,  40.744114  ,\n",
              "          1.        ,   1.39230687],\n",
              "       [-73.994149  ,  40.751118  , -73.960064  ,  40.766235  ,\n",
              "          2.        ,   3.32676344],\n",
              "       ...,\n",
              "       [-73.988574  ,  40.749772  , -74.011541  ,  40.707799  ,\n",
              "          3.        ,   5.05252282],\n",
              "       [-74.004449  ,  40.724529  , -73.992697  ,  40.730765  ,\n",
              "          1.        ,   1.20892296],\n",
              "       [-73.955415  ,  40.77192   , -73.967623  ,  40.763015  ,\n",
              "          3.        ,   1.42739869]])"
            ]
          },
          "metadata": {
            "tags": []
          },
          "execution_count": 127
        }
      ]
    },
    {
      "cell_type": "code",
      "metadata": {
        "id": "UWs29L13oPQT"
      },
      "source": [
        "conts=torch.tensor(conts,dtype=torch.float)"
      ],
      "execution_count": 128,
      "outputs": []
    },
    {
      "cell_type": "code",
      "metadata": {
        "colab": {
          "base_uri": "https://localhost:8080/"
        },
        "id": "_7QRptzCoU7J",
        "outputId": "5bf92616-7f77-4f8b-9af0-4bc8d8b35b69"
      },
      "source": [
        "conts"
      ],
      "execution_count": 129,
      "outputs": [
        {
          "output_type": "execute_result",
          "data": {
            "text/plain": [
              "tensor([[-73.9924,  40.7305, -73.9755,  40.7447,   1.0000,   2.1263],\n",
              "        [-73.9901,  40.7406, -73.9742,  40.7441,   1.0000,   1.3923],\n",
              "        [-73.9941,  40.7511, -73.9601,  40.7662,   2.0000,   3.3268],\n",
              "        ...,\n",
              "        [-73.9886,  40.7498, -74.0115,  40.7078,   3.0000,   5.0525],\n",
              "        [-74.0044,  40.7245, -73.9927,  40.7308,   1.0000,   1.2089],\n",
              "        [-73.9554,  40.7719, -73.9676,  40.7630,   3.0000,   1.4274]])"
            ]
          },
          "metadata": {
            "tags": []
          },
          "execution_count": 129
        }
      ]
    },
    {
      "cell_type": "code",
      "metadata": {
        "id": "AGmbbGxGoVcx"
      },
      "source": [
        "y=torch.tensor(df[y_col].values).flatten()"
      ],
      "execution_count": 177,
      "outputs": []
    },
    {
      "cell_type": "code",
      "metadata": {
        "colab": {
          "base_uri": "https://localhost:8080/"
        },
        "id": "lYjqdrfKowbA",
        "outputId": "03f84d32-7a2b-4e5d-9106-1d3debfac9fb"
      },
      "source": [
        "y"
      ],
      "execution_count": 178,
      "outputs": [
        {
          "output_type": "execute_result",
          "data": {
            "text/plain": [
              "tensor([0, 0, 1,  ..., 1, 0, 0])"
            ]
          },
          "metadata": {
            "tags": []
          },
          "execution_count": 178
        }
      ]
    },
    {
      "cell_type": "code",
      "metadata": {
        "colab": {
          "base_uri": "https://localhost:8080/"
        },
        "id": "vB-bryQOoxAj",
        "outputId": "b51acd6a-b8fd-440c-c81b-1e7a5ed8b805"
      },
      "source": [
        "print(cats.shape,conts.shape,y.shape)"
      ],
      "execution_count": 179,
      "outputs": [
        {
          "output_type": "stream",
          "text": [
            "torch.Size([120000, 3]) torch.Size([120000, 6]) torch.Size([120000])\n"
          ],
          "name": "stdout"
        }
      ]
    },
    {
      "cell_type": "code",
      "metadata": {
        "id": "an_2Q70Io5hS"
      },
      "source": [
        "cat_sizes=[len(df[col].cat.categories) for col in cat_cols]"
      ],
      "execution_count": 180,
      "outputs": []
    },
    {
      "cell_type": "code",
      "metadata": {
        "colab": {
          "base_uri": "https://localhost:8080/"
        },
        "id": "H7JdMamwpWNF",
        "outputId": "9a611d64-c11e-42b1-f823-1d9ee8794f99"
      },
      "source": [
        "cat_sizes"
      ],
      "execution_count": 181,
      "outputs": [
        {
          "output_type": "execute_result",
          "data": {
            "text/plain": [
              "[24, 2, 7]"
            ]
          },
          "metadata": {
            "tags": []
          },
          "execution_count": 181
        }
      ]
    },
    {
      "cell_type": "code",
      "metadata": {
        "id": "52-FRTUJpXpG"
      },
      "source": [
        "emb_sizes=[(size,min(50,(size+1)//2)) for size in cat_sizes]"
      ],
      "execution_count": 182,
      "outputs": []
    },
    {
      "cell_type": "code",
      "metadata": {
        "colab": {
          "base_uri": "https://localhost:8080/"
        },
        "id": "T4i45oCup93Y",
        "outputId": "21569517-e64d-4529-f6e5-8bdaf266b312"
      },
      "source": [
        "emb_sizes"
      ],
      "execution_count": 183,
      "outputs": [
        {
          "output_type": "execute_result",
          "data": {
            "text/plain": [
              "[(24, 12), (2, 1), (7, 4)]"
            ]
          },
          "metadata": {
            "tags": []
          },
          "execution_count": 183
        }
      ]
    },
    {
      "cell_type": "code",
      "metadata": {
        "id": "1EXJcMrFp-pp"
      },
      "source": [
        "catz=cats[:4]"
      ],
      "execution_count": 184,
      "outputs": []
    },
    {
      "cell_type": "code",
      "metadata": {
        "colab": {
          "base_uri": "https://localhost:8080/"
        },
        "id": "qFEHCzZBqafB",
        "outputId": "b348bcb9-d763-4ff6-9c5f-f2697e56a5f6"
      },
      "source": [
        "catz"
      ],
      "execution_count": 185,
      "outputs": [
        {
          "output_type": "execute_result",
          "data": {
            "text/plain": [
              "tensor([[ 4,  0,  1],\n",
              "        [11,  0,  2],\n",
              "        [ 7,  0,  2],\n",
              "        [17,  1,  3]])"
            ]
          },
          "metadata": {
            "tags": []
          },
          "execution_count": 185
        }
      ]
    },
    {
      "cell_type": "code",
      "metadata": {
        "id": "iBwa_tgkqa2s"
      },
      "source": [
        "selfembeds=nn.ModuleList([nn.Embedding(ni,nf) for ni,nf in emb_sizes])"
      ],
      "execution_count": 186,
      "outputs": []
    },
    {
      "cell_type": "code",
      "metadata": {
        "colab": {
          "base_uri": "https://localhost:8080/"
        },
        "id": "hiOe-VDHqxSt",
        "outputId": "8d865fd4-b66e-4cc7-a1f7-32a19e5aa40c"
      },
      "source": [
        "selfembeds"
      ],
      "execution_count": 187,
      "outputs": [
        {
          "output_type": "execute_result",
          "data": {
            "text/plain": [
              "ModuleList(\n",
              "  (0): Embedding(24, 12)\n",
              "  (1): Embedding(2, 1)\n",
              "  (2): Embedding(7, 4)\n",
              ")"
            ]
          },
          "metadata": {
            "tags": []
          },
          "execution_count": 187
        }
      ]
    },
    {
      "cell_type": "code",
      "metadata": {
        "colab": {
          "base_uri": "https://localhost:8080/"
        },
        "id": "vrECcohqq4Hn",
        "outputId": "15513da5-1d8a-48a0-e6c9-7b0d9e8ebba9"
      },
      "source": [
        "#this happens in forword pass\n",
        "embeddingz = []\n",
        "for i,e in enumerate(selfembeds):\n",
        "    embeddingz.append(e(catz[:,i]))\n",
        "embeddingz"
      ],
      "execution_count": 188,
      "outputs": [
        {
          "output_type": "execute_result",
          "data": {
            "text/plain": [
              "[tensor([[ 1.1866, -0.8534,  0.2298, -0.4676,  0.4662, -0.4975,  0.2463, -2.3450,\n",
              "          -0.3100, -1.2568, -1.1048, -0.0980],\n",
              "         [-1.7903,  1.2829,  1.6427,  1.8511,  0.3940, -1.4382,  0.3038, -0.5936,\n",
              "           1.3274,  0.4781, -1.6888,  0.0876],\n",
              "         [ 0.2134, -1.1510, -0.4249, -0.8876,  0.0907, -0.8118,  1.0837,  0.3473,\n",
              "          -0.6726, -0.2734, -2.3194,  0.9835],\n",
              "         [ 1.5103, -0.9924, -1.0887, -0.6795, -1.3686,  0.6179,  0.6874, -0.0448,\n",
              "          -0.6985,  0.0534, -1.3575, -0.6431]], grad_fn=<EmbeddingBackward>),\n",
              " tensor([[0.2089],\n",
              "         [0.2089],\n",
              "         [0.2089],\n",
              "         [0.4535]], grad_fn=<EmbeddingBackward>),\n",
              " tensor([[ 0.7265, -0.9307, -0.9903,  1.2585],\n",
              "         [ 0.5551, -2.2483,  0.7023,  0.4862],\n",
              "         [ 0.5551, -2.2483,  0.7023,  0.4862],\n",
              "         [-0.8657, -0.8851, -0.2246,  0.7733]], grad_fn=<EmbeddingBackward>)]"
            ]
          },
          "metadata": {
            "tags": []
          },
          "execution_count": 188
        }
      ]
    },
    {
      "cell_type": "code",
      "metadata": {
        "id": "rBZ1opcnsySN"
      },
      "source": [
        "z=torch.cat(embeddingz,1)"
      ],
      "execution_count": 189,
      "outputs": []
    },
    {
      "cell_type": "code",
      "metadata": {
        "colab": {
          "base_uri": "https://localhost:8080/"
        },
        "id": "egigaAhYs-D-",
        "outputId": "18829c8f-9b21-4567-c276-b97e20bb2643"
      },
      "source": [
        "z"
      ],
      "execution_count": 190,
      "outputs": [
        {
          "output_type": "execute_result",
          "data": {
            "text/plain": [
              "tensor([[ 1.1866, -0.8534,  0.2298, -0.4676,  0.4662, -0.4975,  0.2463, -2.3450,\n",
              "         -0.3100, -1.2568, -1.1048, -0.0980,  0.2089,  0.7265, -0.9307, -0.9903,\n",
              "          1.2585],\n",
              "        [-1.7903,  1.2829,  1.6427,  1.8511,  0.3940, -1.4382,  0.3038, -0.5936,\n",
              "          1.3274,  0.4781, -1.6888,  0.0876,  0.2089,  0.5551, -2.2483,  0.7023,\n",
              "          0.4862],\n",
              "        [ 0.2134, -1.1510, -0.4249, -0.8876,  0.0907, -0.8118,  1.0837,  0.3473,\n",
              "         -0.6726, -0.2734, -2.3194,  0.9835,  0.2089,  0.5551, -2.2483,  0.7023,\n",
              "          0.4862],\n",
              "        [ 1.5103, -0.9924, -1.0887, -0.6795, -1.3686,  0.6179,  0.6874, -0.0448,\n",
              "         -0.6985,  0.0534, -1.3575, -0.6431,  0.4535, -0.8657, -0.8851, -0.2246,\n",
              "          0.7733]], grad_fn=<CatBackward>)"
            ]
          },
          "metadata": {
            "tags": []
          },
          "execution_count": 190
        }
      ]
    },
    {
      "cell_type": "code",
      "metadata": {
        "id": "yQ_zlg_-s-S5"
      },
      "source": [
        "selfemdrop=nn.Dropout(0.4)"
      ],
      "execution_count": 191,
      "outputs": []
    },
    {
      "cell_type": "code",
      "metadata": {
        "id": "9pbpOHZItGZc"
      },
      "source": [
        "z=selfemdrop(z)"
      ],
      "execution_count": 192,
      "outputs": []
    },
    {
      "cell_type": "code",
      "metadata": {
        "colab": {
          "base_uri": "https://localhost:8080/"
        },
        "id": "UZEhITaEtKdY",
        "outputId": "337ffc3b-1380-451b-9959-6e74806f87f7"
      },
      "source": [
        "z"
      ],
      "execution_count": 193,
      "outputs": [
        {
          "output_type": "execute_result",
          "data": {
            "text/plain": [
              "tensor([[ 1.9776, -0.0000,  0.3830, -0.7793,  0.7771, -0.8291,  0.0000, -3.9083,\n",
              "         -0.0000, -2.0947, -1.8413, -0.0000,  0.3481,  0.0000, -0.0000, -1.6504,\n",
              "          0.0000],\n",
              "        [-2.9838,  0.0000,  2.7379,  0.0000,  0.6566, -2.3969,  0.5063, -0.9894,\n",
              "          0.0000,  0.0000, -2.8147,  0.1460,  0.3481,  0.0000, -0.0000,  0.0000,\n",
              "          0.8103],\n",
              "        [ 0.3557, -1.9184, -0.7082, -0.0000,  0.0000, -0.0000,  0.0000,  0.0000,\n",
              "         -1.1209, -0.4557, -3.8657,  1.6392,  0.3481,  0.0000, -3.7472,  0.0000,\n",
              "          0.0000],\n",
              "        [ 2.5172, -0.0000, -1.8145, -1.1326, -2.2811,  1.0298,  1.1456, -0.0747,\n",
              "         -0.0000,  0.0891, -2.2625, -1.0718,  0.0000, -1.4428, -1.4752, -0.3743,\n",
              "          0.0000]], grad_fn=<MulBackward0>)"
            ]
          },
          "metadata": {
            "tags": []
          },
          "execution_count": 193
        }
      ]
    },
    {
      "cell_type": "code",
      "metadata": {
        "id": "rO4YhRh6tKnx"
      },
      "source": [
        "class TabularModel(nn.Module):\n",
        "\n",
        "    def __init__(self, emb_szs, n_cont, out_sz, layers, p=0.5):\n",
        "        super().__init__()\n",
        "        self.embeds = nn.ModuleList([nn.Embedding(ni, nf) for ni,nf in emb_szs])\n",
        "        self.emb_drop = nn.Dropout(p)\n",
        "        self.bn_cont = nn.BatchNorm1d(n_cont)\n",
        "        \n",
        "        layerlist = []\n",
        "        n_emb = sum((nf for ni,nf in emb_szs))\n",
        "        n_in = n_emb + n_cont\n",
        "        \n",
        "        for i in layers:\n",
        "            layerlist.append(nn.Linear(n_in,i)) \n",
        "            layerlist.append(nn.ReLU(inplace=True))\n",
        "            layerlist.append(nn.BatchNorm1d(i))\n",
        "            layerlist.append(nn.Dropout(p))\n",
        "            n_in = i\n",
        "        layerlist.append(nn.Linear(layers[-1],out_sz))\n",
        "            \n",
        "        self.layers = nn.Sequential(*layerlist)\n",
        "    \n",
        "    def forward(self, x_cat, x_cont):\n",
        "        embeddings = []\n",
        "        for i,e in enumerate(self.embeds):\n",
        "            embeddings.append(e(x_cat[:,i]))\n",
        "        x = torch.cat(embeddings, 1)\n",
        "        x = self.emb_drop(x)\n",
        "        \n",
        "        x_cont = self.bn_cont(x_cont)\n",
        "        x = torch.cat([x, x_cont], 1)\n",
        "        x = self.layers(x)\n",
        "        return x"
      ],
      "execution_count": 194,
      "outputs": []
    },
    {
      "cell_type": "code",
      "metadata": {
        "id": "VC4nK-iMC80W"
      },
      "source": [
        "model=TabularModel(emb_sizes,conts.shape[1],2,[200,100],p=0.4)"
      ],
      "execution_count": 195,
      "outputs": []
    },
    {
      "cell_type": "code",
      "metadata": {
        "colab": {
          "base_uri": "https://localhost:8080/"
        },
        "id": "l8aUT4tXDQYM",
        "outputId": "4cf7d815-bbaf-425f-8f65-5cb2367a1124"
      },
      "source": [
        "model"
      ],
      "execution_count": 196,
      "outputs": [
        {
          "output_type": "execute_result",
          "data": {
            "text/plain": [
              "TabularModel(\n",
              "  (embeds): ModuleList(\n",
              "    (0): Embedding(24, 12)\n",
              "    (1): Embedding(2, 1)\n",
              "    (2): Embedding(7, 4)\n",
              "  )\n",
              "  (emb_drop): Dropout(p=0.4, inplace=False)\n",
              "  (bn_cont): BatchNorm1d(6, eps=1e-05, momentum=0.1, affine=True, track_running_stats=True)\n",
              "  (layers): Sequential(\n",
              "    (0): Linear(in_features=23, out_features=200, bias=True)\n",
              "    (1): ReLU(inplace=True)\n",
              "    (2): BatchNorm1d(200, eps=1e-05, momentum=0.1, affine=True, track_running_stats=True)\n",
              "    (3): Dropout(p=0.4, inplace=False)\n",
              "    (4): Linear(in_features=200, out_features=100, bias=True)\n",
              "    (5): ReLU(inplace=True)\n",
              "    (6): BatchNorm1d(100, eps=1e-05, momentum=0.1, affine=True, track_running_stats=True)\n",
              "    (7): Dropout(p=0.4, inplace=False)\n",
              "    (8): Linear(in_features=100, out_features=2, bias=True)\n",
              "  )\n",
              ")"
            ]
          },
          "metadata": {
            "tags": []
          },
          "execution_count": 196
        }
      ]
    },
    {
      "cell_type": "code",
      "metadata": {
        "id": "s_olLijQEjkQ"
      },
      "source": [
        "batch_size = 60000\n",
        "test_size = int(batch_size * .2)\n",
        "\n",
        "cat_train = cats[:batch_size-test_size]\n",
        "cat_test = cats[batch_size-test_size:batch_size]\n",
        "con_train = conts[:batch_size-test_size]\n",
        "con_test = conts[batch_size-test_size:batch_size]\n",
        "y_train = y[:batch_size-test_size]\n",
        "y_test = y[batch_size-test_size:batch_size]"
      ],
      "execution_count": 197,
      "outputs": []
    },
    {
      "cell_type": "code",
      "metadata": {
        "id": "gZKlqR7OE8vK"
      },
      "source": [
        "criterion = nn.CrossEntropyLoss()\n",
        "optimizer = torch.optim.Adam(model.parameters(), lr=0.001)"
      ],
      "execution_count": 198,
      "outputs": []
    },
    {
      "cell_type": "code",
      "metadata": {
        "colab": {
          "base_uri": "https://localhost:8080/"
        },
        "id": "uw4sujebE9qy",
        "outputId": "e52f54ef-97da-4c24-f366-d2d5ff90e03e"
      },
      "source": [
        "import time\n",
        "start_time=time.time()\n",
        "epochs=300\n",
        "losses=[]\n",
        "for i in range(epochs):\n",
        "  y_pred=model(cat_train,con_train)\n",
        "  loss=torch.sqrt(criterion(y_pred,y_train))\n",
        "  losses.append(loss)\n",
        "  if i%10==0:\n",
        "    print(f\"Epoch: {i} Loss: {loss}\")\n",
        "  optimizer.zero_grad()\n",
        "  loss.backward()\n",
        "  optimizer.step()\n",
        "duration=time.time()-start_time\n",
        "print(f\"Time Taken {duration/60} minutes\")"
      ],
      "execution_count": 199,
      "outputs": [
        {
          "output_type": "stream",
          "text": [
            "Epoch: 0 Loss: 0.9290812015533447\n",
            "Epoch: 10 Loss: 0.6812283396720886\n",
            "Epoch: 20 Loss: 0.6222739815711975\n",
            "Epoch: 30 Loss: 0.5916263461112976\n",
            "Epoch: 40 Loss: 0.5809396505355835\n",
            "Epoch: 50 Loss: 0.5702160596847534\n",
            "Epoch: 60 Loss: 0.563466489315033\n",
            "Epoch: 70 Loss: 0.5568946599960327\n",
            "Epoch: 80 Loss: 0.5486437082290649\n",
            "Epoch: 90 Loss: 0.5479857921600342\n",
            "Epoch: 100 Loss: 0.5446680784225464\n",
            "Epoch: 110 Loss: 0.5410700440406799\n",
            "Epoch: 120 Loss: 0.5381746888160706\n",
            "Epoch: 130 Loss: 0.533282995223999\n",
            "Epoch: 140 Loss: 0.5348465442657471\n",
            "Epoch: 150 Loss: 0.5303019285202026\n",
            "Epoch: 160 Loss: 0.5292402505874634\n",
            "Epoch: 170 Loss: 0.5269650816917419\n",
            "Epoch: 180 Loss: 0.5240101218223572\n",
            "Epoch: 190 Loss: 0.5202726721763611\n",
            "Epoch: 200 Loss: 0.5189794301986694\n",
            "Epoch: 210 Loss: 0.5161715149879456\n",
            "Epoch: 220 Loss: 0.514326274394989\n",
            "Epoch: 230 Loss: 0.51177978515625\n",
            "Epoch: 240 Loss: 0.5095949769020081\n",
            "Epoch: 250 Loss: 0.5095400214195251\n",
            "Epoch: 260 Loss: 0.5076805949211121\n",
            "Epoch: 270 Loss: 0.504728376865387\n",
            "Epoch: 280 Loss: 0.5046507120132446\n",
            "Epoch: 290 Loss: 0.5040599703788757\n",
            "Time Taken 5.119185531139374 minutes\n"
          ],
          "name": "stdout"
        }
      ]
    },
    {
      "cell_type": "code",
      "metadata": {
        "id": "1yXGei_IFAuf"
      },
      "source": [
        "def plot_loss(ls,ep):\n",
        "  plt.plot(range(epochs),ls)\n",
        "  plt.ylabel(\"Loss\")\n",
        "  plt.xlabel(\"Epoch\")"
      ],
      "execution_count": 200,
      "outputs": []
    },
    {
      "cell_type": "code",
      "metadata": {
        "colab": {
          "base_uri": "https://localhost:8080/",
          "height": 278
        },
        "id": "D-32hAtCFEGB",
        "outputId": "be46e80f-4cb3-4761-aff9-c848549c574c"
      },
      "source": [
        "plot_loss(losses,epochs)"
      ],
      "execution_count": 201,
      "outputs": [
        {
          "output_type": "display_data",
          "data": {
            "image/png": "[encoded data removed]",
            "text/plain": [
              "<Figure size 432x288 with 1 Axes>"
            ]
          },
          "metadata": {
            "tags": [],
            "needs_background": "light"
          }
        }
      ]
    },
    {
      "cell_type": "code",
      "metadata": {
        "id": "iZXDFZaCNZyN"
      },
      "source": [
        "with torch.no_grad():\n",
        "  y_val=model(cat_test,con_test)\n",
        "  loss=torch.sqrt(criterion(y_val,y_test))"
      ],
      "execution_count": 202,
      "outputs": []
    },
    {
      "cell_type": "code",
      "metadata": {
        "colab": {
          "base_uri": "https://localhost:8080/"
        },
        "id": "r809wuaDNux5",
        "outputId": "a95674e7-6dfb-4633-cd13-47dd4b1eaf5e"
      },
      "source": [
        "loss"
      ],
      "execution_count": 203,
      "outputs": [
        {
          "output_type": "execute_result",
          "data": {
            "text/plain": [
              "tensor(0.5016)"
            ]
          },
          "metadata": {
            "tags": []
          },
          "execution_count": 203
        }
      ]
    },
    {
      "cell_type": "code",
      "metadata": {
        "colab": {
          "base_uri": "https://localhost:8080/"
        },
        "id": "UXYW1f2mNvNd",
        "outputId": "cbb3c01d-a5e9-44d4-859d-66b9c7a54a09"
      },
      "source": [
        "for j in range(100):\n",
        "  i=np.random.randint(test_size)\n",
        "  print(f\"{y_val[i]} \\t Predicted: {y_val[i].argmax().item()} \\t TrueValue: {y_test[i]} \")"
      ],
      "execution_count": 205,
      "outputs": [
        {
          "output_type": "stream",
          "text": [
            "tensor([-0.4858,  0.8201]) \t Predicted: 1 \t TrueValue: 1 \n",
            "tensor([ 1.2053, -0.6597]) \t Predicted: 0 \t TrueValue: 0 \n",
            "tensor([-2.0568,  0.9003]) \t Predicted: 1 \t TrueValue: 1 \n",
            "tensor([-0.3238, -0.8476]) \t Predicted: 0 \t TrueValue: 0 \n",
            "tensor([ 1.9220, -3.0347]) \t Predicted: 0 \t TrueValue: 0 \n",
            "tensor([ 1.8065, -1.2454]) \t Predicted: 0 \t TrueValue: 0 \n",
            "tensor([ 1.7777, -2.3936]) \t Predicted: 0 \t TrueValue: 0 \n",
            "tensor([-2.0624,  1.4877]) \t Predicted: 1 \t TrueValue: 1 \n",
            "tensor([-0.7377,  1.1023]) \t Predicted: 1 \t TrueValue: 1 \n",
            "tensor([0.2842, 0.3917]) \t Predicted: 1 \t TrueValue: 0 \n",
            "tensor([0.5713, 0.1697]) \t Predicted: 0 \t TrueValue: 0 \n",
            "tensor([-0.2031, -0.4111]) \t Predicted: 0 \t TrueValue: 1 \n",
            "tensor([ 1.5277, -1.6973]) \t Predicted: 0 \t TrueValue: 0 \n",
            "tensor([ 0.7105, -1.3251]) \t Predicted: 0 \t TrueValue: 1 \n",
            "tensor([-2.7186,  5.5231]) \t Predicted: 1 \t TrueValue: 1 \n",
            "tensor([ 1.0361, -0.9219]) \t Predicted: 0 \t TrueValue: 0 \n",
            "tensor([-1.2409,  0.8939]) \t Predicted: 1 \t TrueValue: 1 \n",
            "tensor([-0.3277,  1.0193]) \t Predicted: 1 \t TrueValue: 1 \n",
            "tensor([-0.6422,  0.4217]) \t Predicted: 1 \t TrueValue: 1 \n",
            "tensor([-1.9272,  2.1770]) \t Predicted: 1 \t TrueValue: 1 \n",
            "tensor([ 2.0472, -2.3316]) \t Predicted: 0 \t TrueValue: 0 \n",
            "tensor([ 0.2752, -0.4026]) \t Predicted: 0 \t TrueValue: 1 \n",
            "tensor([ 1.8336, -1.6003]) \t Predicted: 0 \t TrueValue: 0 \n",
            "tensor([ 0.4351, -0.8701]) \t Predicted: 0 \t TrueValue: 0 \n",
            "tensor([0.1707, 1.0051]) \t Predicted: 1 \t TrueValue: 1 \n",
            "tensor([0.6186, 0.4012]) \t Predicted: 0 \t TrueValue: 0 \n",
            "tensor([ 1.7077, -1.6609]) \t Predicted: 0 \t TrueValue: 0 \n",
            "tensor([ 1.5488, -1.6487]) \t Predicted: 0 \t TrueValue: 0 \n",
            "tensor([ 1.2707, -0.7226]) \t Predicted: 0 \t TrueValue: 1 \n",
            "tensor([ 1.3871, -2.4464]) \t Predicted: 0 \t TrueValue: 0 \n",
            "tensor([ 2.4699, -1.9072]) \t Predicted: 0 \t TrueValue: 0 \n",
            "tensor([-2.7601,  1.5757]) \t Predicted: 1 \t TrueValue: 1 \n",
            "tensor([ 1.5005, -2.2814]) \t Predicted: 0 \t TrueValue: 0 \n",
            "tensor([-2.3328,  2.6301]) \t Predicted: 1 \t TrueValue: 1 \n",
            "tensor([ 1.9859, -0.9587]) \t Predicted: 0 \t TrueValue: 0 \n",
            "tensor([ 1.4349, -1.7289]) \t Predicted: 0 \t TrueValue: 0 \n",
            "tensor([ 1.5602, -0.5259]) \t Predicted: 0 \t TrueValue: 0 \n",
            "tensor([ 0.5624, -0.1403]) \t Predicted: 0 \t TrueValue: 1 \n",
            "tensor([ 1.3818, -1.6655]) \t Predicted: 0 \t TrueValue: 0 \n",
            "tensor([ 1.0303, -0.6294]) \t Predicted: 0 \t TrueValue: 0 \n",
            "tensor([ 0.6227, -2.8060]) \t Predicted: 0 \t TrueValue: 0 \n",
            "tensor([-2.4528,  2.0258]) \t Predicted: 1 \t TrueValue: 1 \n",
            "tensor([ 1.4253, -2.0864]) \t Predicted: 0 \t TrueValue: 0 \n",
            "tensor([ 2.0413, -1.7389]) \t Predicted: 0 \t TrueValue: 0 \n",
            "tensor([0.1685, 0.5968]) \t Predicted: 1 \t TrueValue: 0 \n",
            "tensor([ 1.6868, -2.0760]) \t Predicted: 0 \t TrueValue: 0 \n",
            "tensor([-0.7968,  0.9452]) \t Predicted: 1 \t TrueValue: 1 \n",
            "tensor([ 2.2393, -2.4165]) \t Predicted: 0 \t TrueValue: 0 \n",
            "tensor([-1.4025,  1.9533]) \t Predicted: 1 \t TrueValue: 1 \n",
            "tensor([ 1.4164, -3.1472]) \t Predicted: 0 \t TrueValue: 0 \n",
            "tensor([ 0.7977, -0.8019]) \t Predicted: 0 \t TrueValue: 0 \n",
            "tensor([-0.8083,  1.1981]) \t Predicted: 1 \t TrueValue: 1 \n",
            "tensor([-2.0039,  2.4842]) \t Predicted: 1 \t TrueValue: 1 \n",
            "tensor([-1.3951,  1.7091]) \t Predicted: 1 \t TrueValue: 1 \n",
            "tensor([ 1.2948, -2.3361]) \t Predicted: 0 \t TrueValue: 0 \n",
            "tensor([ 1.2252, -1.9967]) \t Predicted: 0 \t TrueValue: 0 \n",
            "tensor([0.0676, 1.0139]) \t Predicted: 1 \t TrueValue: 1 \n",
            "tensor([-2.1244,  2.6510]) \t Predicted: 1 \t TrueValue: 1 \n",
            "tensor([-3.8752,  2.7713]) \t Predicted: 1 \t TrueValue: 1 \n",
            "tensor([-0.7816,  1.3505]) \t Predicted: 1 \t TrueValue: 1 \n",
            "tensor([ 0.5086, -0.2310]) \t Predicted: 0 \t TrueValue: 1 \n",
            "tensor([ 1.2559, -1.3756]) \t Predicted: 0 \t TrueValue: 0 \n",
            "tensor([-2.7561,  1.9817]) \t Predicted: 1 \t TrueValue: 1 \n",
            "tensor([ 1.1811, -1.3960]) \t Predicted: 0 \t TrueValue: 0 \n",
            "tensor([-4.6041,  2.2828]) \t Predicted: 1 \t TrueValue: 1 \n",
            "tensor([ 1.4833, -1.1705]) \t Predicted: 0 \t TrueValue: 0 \n",
            "tensor([-1.4154,  1.2489]) \t Predicted: 1 \t TrueValue: 1 \n",
            "tensor([-0.3832,  1.2295]) \t Predicted: 1 \t TrueValue: 1 \n",
            "tensor([ 2.0527, -2.6009]) \t Predicted: 0 \t TrueValue: 0 \n",
            "tensor([ 2.0223, -1.5086]) \t Predicted: 0 \t TrueValue: 0 \n",
            "tensor([-1.2613,  1.5712]) \t Predicted: 1 \t TrueValue: 1 \n",
            "tensor([ 1.9378, -2.0041]) \t Predicted: 0 \t TrueValue: 0 \n",
            "tensor([ 1.5879, -2.2969]) \t Predicted: 0 \t TrueValue: 0 \n",
            "tensor([-0.7558,  0.6549]) \t Predicted: 1 \t TrueValue: 1 \n",
            "tensor([ 1.5947, -1.8079]) \t Predicted: 0 \t TrueValue: 0 \n",
            "tensor([ 1.3377, -2.4910]) \t Predicted: 0 \t TrueValue: 0 \n",
            "tensor([ 0.7888, -0.1950]) \t Predicted: 0 \t TrueValue: 1 \n",
            "tensor([ 0.7340, -1.4105]) \t Predicted: 0 \t TrueValue: 0 \n",
            "tensor([-0.7859,  0.0702]) \t Predicted: 1 \t TrueValue: 1 \n",
            "tensor([ 1.5064, -1.2728]) \t Predicted: 0 \t TrueValue: 0 \n",
            "tensor([ 1.4155, -2.2325]) \t Predicted: 0 \t TrueValue: 0 \n",
            "tensor([ 1.6789, -1.8700]) \t Predicted: 0 \t TrueValue: 0 \n",
            "tensor([ 1.8278, -1.4930]) \t Predicted: 0 \t TrueValue: 0 \n",
            "tensor([-0.2975,  0.5151]) \t Predicted: 1 \t TrueValue: 1 \n",
            "tensor([ 1.5447, -1.5419]) \t Predicted: 0 \t TrueValue: 0 \n",
            "tensor([-1.0988,  1.0636]) \t Predicted: 1 \t TrueValue: 1 \n",
            "tensor([-2.2174,  2.6513]) \t Predicted: 1 \t TrueValue: 1 \n",
            "tensor([ 1.5679, -1.3469]) \t Predicted: 0 \t TrueValue: 0 \n",
            "tensor([ 0.8246, -0.1139]) \t Predicted: 0 \t TrueValue: 0 \n",
            "tensor([-0.1175, -0.0376]) \t Predicted: 1 \t TrueValue: 1 \n",
            "tensor([ 1.1566, -2.5609]) \t Predicted: 0 \t TrueValue: 0 \n",
            "tensor([0.3598, 0.1563]) \t Predicted: 0 \t TrueValue: 0 \n",
            "tensor([ 1.4225, -2.3396]) \t Predicted: 0 \t TrueValue: 0 \n",
            "tensor([-0.0832, -0.9631]) \t Predicted: 0 \t TrueValue: 0 \n",
            "tensor([ 1.2611, -1.3185]) \t Predicted: 0 \t TrueValue: 0 \n",
            "tensor([ 2.6550, -1.9616]) \t Predicted: 0 \t TrueValue: 0 \n",
            "tensor([ 1.2165, -1.8204]) \t Predicted: 0 \t TrueValue: 0 \n",
            "tensor([ 0.4842, -0.2887]) \t Predicted: 0 \t TrueValue: 0 \n",
            "tensor([ 1.0609, -1.2788]) \t Predicted: 0 \t TrueValue: 0 \n",
            "tensor([-0.4222,  0.1178]) \t Predicted: 1 \t TrueValue: 0 \n"
          ],
          "name": "stdout"
        }
      ]
    },
    {
      "cell_type": "code",
      "metadata": {
        "id": "QL5v425fODw0"
      },
      "source": [
        "np.random.randint(100)"
      ],
      "execution_count": null,
      "outputs": []
    },
    {
      "cell_type": "code",
      "metadata": {
        "id": "hBOu0E2jPKDt"
      },
      "source": [
        "correct,incorrect=0,0\n",
        "for i in range(test_size):\n",
        "  if y_val[i].argmax().item()==y_test[i]: \n",
        "    correct+=1 \n",
        "  else:\n",
        "    incorrect+=1"
      ],
      "execution_count": 210,
      "outputs": []
    },
    {
      "cell_type": "code",
      "metadata": {
        "colab": {
          "base_uri": "https://localhost:8080/"
        },
        "id": "1E5uLTFMVOKi",
        "outputId": "429b0652-9266-4aaa-9177-33ab0b12cae5"
      },
      "source": [
        "print(f\"Correct: {correct} Incorrect: {incorrect}\")"
      ],
      "execution_count": 211,
      "outputs": [
        {
          "output_type": "stream",
          "text": [
            "Correct: 10863 Incorrect: 1137\n"
          ],
          "name": "stdout"
        }
      ]
    },
    {
      "cell_type": "code",
      "metadata": {
        "id": "p-rPKj_nVXaK"
      },
      "source": [
        ""
      ],
      "execution_count": null,
      "outputs": []
    }
  ]
}